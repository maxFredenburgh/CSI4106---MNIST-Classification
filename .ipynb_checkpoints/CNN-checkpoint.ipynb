{
 "cells": [
  {
   "cell_type": "code",
   "execution_count": 0,
   "metadata": {
    "colab": {
     "base_uri": "https://localhost:8080/",
     "height": 72,
     "resources": {
      "http://localhost:8080/nbextensions/google.colab/files.js": {
       "data": "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",
       "headers": [
        [
         "content-type",
         "application/javascript"
        ]
       ],
       "ok": true,
       "status": 200,
       "status_text": ""
      }
     }
    },
    "colab_type": "code",
    "id": "ETiWJrfjpO2o",
    "outputId": "956f621e-fdb7-424c-c6bf-a76a9ac18498"
   },
   "outputs": [
    {
     "data": {
      "text/html": [
       "\n",
       "     <input type=\"file\" id=\"files-6169f371-57f5-4b66-a1be-7392a4b9384f\" name=\"files[]\" multiple disabled />\n",
       "     <output id=\"result-6169f371-57f5-4b66-a1be-7392a4b9384f\">\n",
       "      Upload widget is only available when the cell has been executed in the\n",
       "      current browser session. Please rerun this cell to enable.\n",
       "      </output>\n",
       "      <script src=\"/nbextensions/google.colab/files.js\"></script> "
      ],
      "text/plain": [
       "<IPython.core.display.HTML object>"
      ]
     },
     "metadata": {
      "tags": []
     },
     "output_type": "display_data"
    },
    {
     "name": "stdout",
     "output_type": "stream",
     "text": [
      "Saving train.csv to train.csv\n"
     ]
    }
   ],
   "source": [
    "from google.colab import files\n",
    "uploaded = files.upload()"
   ]
  },
  {
   "cell_type": "code",
   "execution_count": 0,
   "metadata": {
    "colab": {
     "base_uri": "https://localhost:8080/",
     "height": 61
    },
    "colab_type": "code",
    "id": "sFPzLRSRpj1j",
    "outputId": "030571e6-56bb-4122-dee3-d0cdabf42b41"
   },
   "outputs": [
    {
     "data": {
      "text/html": [
       "<p style=\"color: red;\">\n",
       "The default version of TensorFlow in Colab will soon switch to TensorFlow 2.x.<br>\n",
       "We recommend you <a href=\"https://www.tensorflow.org/guide/migrate\" target=\"_blank\">upgrade</a> now \n",
       "or ensure your notebook will continue to use TensorFlow 1.x via the <code>%tensorflow_version 1.x</code> magic:\n",
       "<a href=\"https://colab.research.google.com/notebooks/tensorflow_version.ipynb\" target=\"_blank\">more info</a>.</p>\n"
      ],
      "text/plain": [
       "<IPython.core.display.HTML object>"
      ]
     },
     "metadata": {
      "tags": []
     },
     "output_type": "display_data"
    }
   ],
   "source": [
    "import numpy as np\n",
    "import tensorflow as tf\n",
    "from tensorflow.keras import datasets, layers, models, metrics\n",
    "import matplotlib.pyplot as plt\n",
    "import matplotlib.image as mpimg\n",
    "import pandas as pd\n",
    "import time"
   ]
  },
  {
   "cell_type": "markdown",
   "metadata": {
    "colab_type": "text",
    "id": "F3BOF46wqk4s"
   },
   "source": [
    "# 1. Utility Functions"
   ]
  },
  {
   "cell_type": "code",
   "execution_count": 0,
   "metadata": {
    "colab": {},
    "colab_type": "code",
    "id": "EpQ4RQfupXsH"
   },
   "outputs": [],
   "source": [
    "def read_data(filename, IMG_WIDTH, pad=0):\n",
    "\t'''\n",
    "\tRead data, normalize pixel value between 0.0 -> 1.0, \n",
    "\treshape data into square 3D matrix dim(IMG_WIDTH)\n",
    "\n",
    "\tReturn data, labels\n",
    "\t'''\n",
    "\tdata = pd.read_csv(filename, sep = ',')\n",
    "\ty = data['label']\n",
    "\tx = data.drop(labels = ['label'], axis = 1)\n",
    "\tx = x.astype('float32')\n",
    "\tx = x / 255.0\n",
    "\tx = x.values.reshape(-1, IMG_WIDTH, IMG_WIDTH, 1)\t\n",
    "\tdel data\n",
    "\treturn x, y\n",
    "\n",
    "def labels_one_hot(labels):\n",
    "\tone_hot = np.zeros((len(labels), 10))\n",
    "\tfor i in range(len(labels)):\n",
    "\t\tone_hot[i, labels.iloc[i]] = 1\n",
    "\tone_hot = one_hot.astype(int)\n",
    "\treturn one_hot\n",
    "\n",
    "def shuffle_split(data, labels, percentile):\n",
    "\t'''\n",
    "\tReturn randomly split by percentile train-test data and labels\n",
    "\t'''\n",
    "\tarray_rand = np.random.rand(data.shape[0])\n",
    "\tsplit = array_rand < np.percentile(array_rand, percentile)\n",
    "\ttest_x = data[~split]\n",
    "\ttest_y = labels[~split]\n",
    "\ttrain_x = data[split]\n",
    "\ttrain_y = labels[split]\n",
    "\treturn train_x, train_y, test_x, test_y\n",
    "\n",
    "def img_show(img):\n",
    "\tplt.imshow(img, cmap='gray')\n",
    "\tplt.show()\n",
    "\treturn\n",
    "\n",
    "def plot_loss_acc(loss, acc, title, xlabel):\n",
    "\tfig2, g = plt.subplots()\n",
    "\n",
    "\tg.set_title('Loss and Accuracy Per Batch - ' + title)\n",
    "\tg.set_xlabel(xlabel)\n",
    "\tg.set_ylabel('Loss', color='b')\n",
    "\tif xlabel == 'Batch':\n",
    "\t\tg.set_ylim([0, 2.3])\n",
    "\tg.plot(loss, color='b')\n",
    "\tg.tick_params(axis='y', labelcolor='b')\n",
    "\n",
    "\tg2 = g.twinx()\n",
    "\n",
    "\tg2.set_xlabel(xlabel)\n",
    "\tg2.set_ylabel('Accuracy', color='r')\n",
    "\tif xlabel == 'Batch':\n",
    "\t\tg2.set_ylim([0.0, 1.0])\n",
    "\tg2.plot(acc, color='r')\n",
    "\tg2.tick_params(axis='y', color='r')\n",
    "\n",
    "\tfig2.tight_layout()\n",
    "\t\n",
    "\tplt.show()\n",
    " \n",
    "def plot_examples(x, y):\n",
    "\tlst = np.full((10, 1), -1).astype('int32')\n",
    "\ti = 1\n",
    "\tj = 0\n",
    "\tfor i in range(len(y_train)):\n",
    "\t\tif lst[y.iloc[i]] == -1:\n",
    "\t\t\tlst[y.iloc[i]] = int(i)\n",
    "\t\t\tj += 1\n",
    "\t\tif j == 10:\n",
    "\t\t\tbreak\n",
    "\tplt.figure(figsize=(10, 10))\n",
    "\tfor i in range(10):\n",
    "\t\tplt.subplot(5, 5, i+1)\n",
    "\t\tplt.grid(False)\n",
    "\t\timg = x[lst[i]].reshape(28, 28)\n",
    "\t\tplt.imshow(img, cmap=\"gray\")\n",
    "\tplt.show()\n",
    "\n",
    "class LossHistory(tf.keras.callbacks.Callback):\n",
    "\t'''\n",
    "\tModification as per keras documentation\n",
    "\t'''\n",
    "\tdef on_train_begin(self, logs={}):\n",
    "\t\tself.losses = []\n",
    "\t\tself.accuracy = []\n",
    "\tdef on_batch_end(self, batch, logs={}):\n",
    "\t\tself.losses.append(logs.get('loss'))\n",
    "\t\tself.accuracy.append(logs.get('acc'))"
   ]
  },
  {
   "cell_type": "markdown",
   "metadata": {
    "colab_type": "text",
    "id": "YoLV2Mb0qKA6"
   },
   "source": [
    "# 2. Understanding Data"
   ]
  },
  {
   "cell_type": "markdown",
   "metadata": {
    "colab_type": "text",
    "id": "YaX810Fx6Hnd"
   },
   "source": [
    "Each item in the data set is represented as a list of 784 pixel values ranging from 0 to 255. For input into the model, each item is transformed into a matrix with dimensions 28x28, and each pixel value is normalized to a range between 0 and 1. "
   ]
  },
  {
   "cell_type": "code",
   "execution_count": 0,
   "metadata": {
    "colab": {},
    "colab_type": "code",
    "id": "A2-CIxtOp1FD"
   },
   "outputs": [],
   "source": [
    "x, y = read_data('train.csv', 28, pad=0)\n",
    "x_train, y_train, x_test, y_test = shuffle_split(x, y, 70)\n",
    "x_train_1 = x_train[0:15000]\n",
    "y_train_1 = y_train[0:15000]\n",
    "x_val = x_test\n",
    "y_val = y_test\n",
    "x_val = x_val[:4000]\n",
    "y_val = y_val[:4000]\n",
    "y_train_encoded = labels_one_hot(y_train)\n",
    "y_train_encoded_1 = labels_one_hot(y_train_1)\n",
    "y_val_encoded = labels_one_hot(y_val)\n",
    "y_test_encoded = labels_one_hot(y_test)"
   ]
  },
  {
   "cell_type": "markdown",
   "metadata": {
    "colab_type": "text",
    "id": "QcV-KCK5rCFn"
   },
   "source": [
    "## 2.1 Visualizing Image Class Examples"
   ]
  },
  {
   "cell_type": "code",
   "execution_count": 0,
   "metadata": {
    "colab": {
     "base_uri": "https://localhost:8080/",
     "height": 256
    },
    "colab_type": "code",
    "id": "dYJui7hurHWO",
    "outputId": "0f61f31d-8728-4868-d7f2-ce534e2f3455"
   },
   "outputs": [
    {
     "data": {
      "image/png": "[encoded data removed]",
      "text/plain": [
       "<Figure size 720x720 with 10 Axes>"
      ]
     },
     "metadata": {
      "tags": []
     },
     "output_type": "display_data"
    }
   ],
   "source": [
    "plot_examples(x_train, y_train)"
   ]
  },
  {
   "cell_type": "markdown",
   "metadata": {
    "colab_type": "text",
    "id": "h59QwSkJCQnP"
   },
   "source": [
    "## 2.2 Class Counts"
   ]
  },
  {
   "cell_type": "code",
   "execution_count": 0,
   "metadata": {
    "colab": {
     "base_uri": "https://localhost:8080/",
     "height": 407
    },
    "colab_type": "code",
    "id": "jdyQHObX-v5H",
    "outputId": "91287451-93d0-4b77-cad9-6cf77d435fc8"
   },
   "outputs": [
    {
     "name": "stdout",
     "output_type": "stream",
     "text": [
      "Train Class Count:\n",
      "1    3252\n",
      "3    3101\n",
      "7    3059\n",
      "9    2932\n",
      "6    2910\n",
      "2    2909\n",
      "4    2866\n",
      "0    2838\n",
      "8    2830\n",
      "5    2703\n",
      "Name: label, dtype: int64\n",
      "Validation Class Count:\n",
      "1    451\n",
      "9    428\n",
      "7    421\n",
      "0    398\n",
      "2    395\n",
      "3    393\n",
      "8    393\n",
      "6    380\n",
      "4    374\n",
      "5    367\n",
      "Name: label, dtype: int64\n"
     ]
    }
   ],
   "source": [
    "print(\"Train Class Count:\")\n",
    "print(y_train.value_counts(sort=True))\n",
    "print(\"Validation Class Count:\")\n",
    "print(y_val.value_counts(sort=True))"
   ]
  },
  {
   "cell_type": "markdown",
   "metadata": {
    "colab_type": "text",
    "id": "AD4kFoXyCekT"
   },
   "source": [
    "The training data seems to be slightly unbalanced with a bias towards more image examples of class 1. The testing data seems to be fairly balanced."
   ]
  },
  {
   "cell_type": "markdown",
   "metadata": {
    "colab_type": "text",
    "id": "3ebjaZcXD67e"
   },
   "source": [
    "# 3. Convolutional Neural Network (CNN) Model"
   ]
  },
  {
   "cell_type": "markdown",
   "metadata": {
    "colab_type": "text",
    "id": "cRBqt_8RLkdF"
   },
   "source": [
    "CNN models are used for classifying images, and for this implementation, the images will be classified as a number from 0 to 9 corresponding to the handwritten digit in an image.\n",
    "\n",
    "CNNs contain convolution, downsampling, and fully connected layers organized to manipulate the input image into an output vector representing the class probabilities of the input. Convolution layers have an associated set of filters that contain trainable weights. Each filter passes over the input image computing the dot product of the filter and individual regions of the input. The product of these calculations are placed row by row into a new matrix called an activation map. The resulting number of activation maps is determined by the number of filters applied to the current layer. A non-linear function is applied to the activation maps, which then become the input for the next layer. Following a convolution layer could be another convolution layer or a downsampling layer. The chosen downsampling method for this implementation is max-pooling. Max-pooling takes the maximum value in square regions of the activation map and places them into a smaller matrix. This reduces the number of input parameters and ensures that important information gathered from the filters is being passed through to effect the loss of the network. The output of max-pooling is then flattened into a single row vector that becomes the input into the fully connected neural network section of the CNN. The hidden layers in the fully connected section use ReLu non-linearity and the final output layer uses Softmax activation to translate the totals into class prediction probabilities. The network then calculates categorical cross-entropy loss using the softmax output and the one-hot encoded label vector corresponding to the input image.\n",
    "\n",
    "We decided to use a CNN for this problem because it is a standard solution for image classification that produces exceptional results. The process of complexifying a simple image into data that can train a network intrigued our group and we wanted to learn more about the solution.\n",
    "\n",
    "This is the creation of four CNN models with the same architecture. The first model will be trained with Stochastic Gradient Descent, the second model will be trained with Momentum Gradient Descent, the third will be training with RMSprop gradient descent, and the fourth will be trained with Adam Gradient Descent optimization. The fifth model created will be used for comparison between the Naive Bayes and Multi-Layer Perceptron models explored in our project.\n",
    "\n",
    "Input: 32x32 pixel image with zero-padding of 2\n",
    "\n",
    "Conv Layer 1: 5 5x5 filters, convolved with stride 1, ReLu activation\n",
    "\n",
    "Conv Layer 2: 8 5x5 filters, convoled with stride 1, ReLu activation\n",
    "\n",
    "Max Pooling: 2x2 pool with stride 2\n",
    "\n",
    "Dense Layer 1: 4x12x24 = 1152 inputs, 128 outputs, ReLu activation\n",
    "\n",
    "Dense Output Layer: 128 inputs, 10 outputs, Softmax activation\n",
    "\n",
    "Loss: Categorical Cross Entropy"
   ]
  },
  {
   "cell_type": "code",
   "execution_count": 0,
   "metadata": {
    "colab": {
     "base_uri": "https://localhost:8080/",
     "height": 391
    },
    "colab_type": "code",
    "id": "TSDutcg4D9g-",
    "outputId": "dd4c3dc2-72cc-4dc6-d336-2349eb80a2ab"
   },
   "outputs": [
    {
     "name": "stdout",
     "output_type": "stream",
     "text": [
      "WARNING:tensorflow:From /usr/local/lib/python3.6/dist-packages/tensorflow_core/python/ops/resource_variable_ops.py:1630: calling BaseResourceVariable.__init__ (from tensorflow.python.ops.resource_variable_ops) with constraint is deprecated and will be removed in a future version.\n",
      "Instructions for updating:\n",
      "If using Keras pass *_constraint arguments to layers.\n",
      "Model: \"sequential\"\n",
      "_________________________________________________________________\n",
      "Layer (type)                 Output Shape              Param #   \n",
      "=================================================================\n",
      "conv2d (Conv2D)              (None, 28, 28, 5)         130       \n",
      "_________________________________________________________________\n",
      "conv2d_1 (Conv2D)            (None, 24, 24, 8)         1008      \n",
      "_________________________________________________________________\n",
      "max_pooling2d (MaxPooling2D) (None, 12, 12, 8)         0         \n",
      "_________________________________________________________________\n",
      "flatten (Flatten)            (None, 1152)              0         \n",
      "_________________________________________________________________\n",
      "dense (Dense)                (None, 128)               147584    \n",
      "_________________________________________________________________\n",
      "dense_1 (Dense)              (None, 10)                1290      \n",
      "=================================================================\n",
      "Total params: 150,012\n",
      "Trainable params: 150,012\n",
      "Non-trainable params: 0\n",
      "_________________________________________________________________\n"
     ]
    }
   ],
   "source": [
    "cnn_1 = models.Sequential()\n",
    "cnn_1.add(layers.Conv2D(5, kernel_size=5, strides=(1,1),  padding='same', data_format='channels_last', activation='relu', input_shape=(28, 28, 1)))\n",
    "cnn_1.add(layers.Conv2D(8, kernel_size=5, strides=(1,1), padding='valid', data_format='channels_last', activation='relu', input_shape=(28, 28, 1)))\n",
    "cnn_1.add(layers.MaxPool2D((2,2)))\n",
    "cnn_1.add(layers.Flatten())\n",
    "cnn_1.add(layers.Dense(128, activation='relu'))\n",
    "cnn_1.add(layers.Dense(10, activation='softmax'))\n",
    "\n",
    "cnn_2 = models.Sequential()\n",
    "cnn_2.add(layers.Conv2D(5, kernel_size=5, strides=(1,1),  padding='same', data_format='channels_last', activation='relu', input_shape=(28, 28, 1)))\n",
    "cnn_2.add(layers.Conv2D(8, kernel_size=5, strides=(1,1), padding='valid', data_format='channels_last', activation='relu', input_shape=(28, 28, 1)))\n",
    "cnn_2.add(layers.MaxPool2D((2,2)))\n",
    "cnn_2.add(layers.Flatten())\n",
    "cnn_2.add(layers.Dense(128, activation='relu'))\n",
    "cnn_2.add(layers.Dense(10, activation='softmax'))\n",
    "\n",
    "cnn_3 = models.Sequential()\n",
    "cnn_3.add(layers.Conv2D(5, kernel_size=5, strides=(1,1),  padding='same', data_format='channels_last', activation='relu', input_shape=(28, 28, 1)))\n",
    "cnn_3.add(layers.Conv2D(8, kernel_size=5, strides=(1,1), padding='valid', data_format='channels_last', activation='relu', input_shape=(28, 28, 1)))\n",
    "cnn_3.add(layers.MaxPool2D((2,2)))\n",
    "cnn_3.add(layers.Flatten())\n",
    "cnn_3.add(layers.Dense(128, activation='relu'))\n",
    "cnn_3.add(layers.Dense(10, activation='softmax'))\n",
    "\n",
    "cnn_4 = models.Sequential()\n",
    "cnn_4.add(layers.Conv2D(5, kernel_size=5, strides=(1,1),  padding='same', data_format='channels_last', activation='relu', input_shape=(28, 28, 1)))\n",
    "cnn_4.add(layers.Conv2D(8, kernel_size=5, strides=(1,1), padding='valid', data_format='channels_last', activation='relu', input_shape=(28, 28, 1)))\n",
    "cnn_4.add(layers.MaxPool2D((2,2)))\n",
    "cnn_4.add(layers.Flatten())\n",
    "cnn_4.add(layers.Dense(128, activation='relu'))\n",
    "cnn_4.add(layers.Dense(10, activation='softmax'))\n",
    "\n",
    "cnn_5 = models.Sequential()\n",
    "cnn_5.add(layers.Conv2D(5, kernel_size=5, strides=(1,1),  padding='same', data_format='channels_last', activation='relu', input_shape=(28, 28, 1)))\n",
    "cnn_5.add(layers.Conv2D(8, kernel_size=5, strides=(1,1), padding='valid', data_format='channels_last', activation='relu', input_shape=(28, 28, 1)))\n",
    "cnn_5.add(layers.MaxPool2D((2,2)))\n",
    "cnn_5.add(layers.Flatten())\n",
    "cnn_5.add(layers.Dense(128, activation='relu'))\n",
    "cnn_5.add(layers.Dense(10, activation='softmax'))\n",
    "\n",
    "cnn_1.summary()"
   ]
  },
  {
   "cell_type": "markdown",
   "metadata": {
    "colab_type": "text",
    "id": "LR2ebasN8sK7"
   },
   "source": [
    "## 3.1 Stochastic Gradient Descent (SGD)"
   ]
  },
  {
   "cell_type": "markdown",
   "metadata": {
    "colab_type": "text",
    "id": "aIQTW_6x8yok"
   },
   "source": [
    "SGD is a method of gradient descent that focuses on minimizing the time it takes to find the minimum of a cost function applied to a large data set. The difference between regular gradient descent and SGD is which sample of data the algorithms use for updating parameters during learning. Gradient descent uses the average gradients computed for each sample in the data set to determine the updated weights to use for the next epoch in training. The sample size spanning the entire data set receives a maximum amount of information to make a better update judgment towards the goal of minimizing the cost function but sacrifices effectiveness by taking longer to reach the minima. Pure SGD uses a reduced sample size of one sample per interaction, often called a batch. With only the information of one sample, the algorithm updates the weights every iteration, leading to drastic increases and decreases of the gradient. By exploring wider ranges in the gradient with each iteration, SGD traverses down the gradient faster than regular gradient descent. When dealing with large data sets containing multiple classifications and a large number of trainable features, SGD users often increase the batch size to a number smaller than the data set size. This method of SGD is called mini-batch Gradient Descent.  \n",
    "\n",
    "SGD Weight Update Per Iteration: \n",
    "\n",
    "\n",
    "*W = W - Alpha * Gradient_W_i*\n",
    "*   W = Weight\n",
    "*   Alpha = Learning rate \n",
    "*   Gradient_W = Calculated gradient of weight with respect to cost for current batch 'i'\n",
    "\n",
    "\n"
   ]
  },
  {
   "cell_type": "code",
   "execution_count": 0,
   "metadata": {
    "colab": {
     "base_uri": "https://localhost:8080/",
     "height": 212
    },
    "colab_type": "code",
    "id": "wxul9RnqrI8O",
    "outputId": "f5f76d01-db53-4cde-ca3e-8257d6f6dd72"
   },
   "outputs": [
    {
     "name": "stdout",
     "output_type": "stream",
     "text": [
      "Train on 15000 samples, validate on 4000 samples\n",
      "Epoch 1/5\n",
      "15000/15000 [==============================] - 15s 1ms/sample - loss: 1.3501 - acc: 0.5680 - categorical_accuracy: 0.5680 - val_loss: 0.5086 - val_acc: 0.8505 - val_categorical_accuracy: 0.8505\n",
      "Epoch 2/5\n",
      "15000/15000 [==============================] - 15s 1ms/sample - loss: 0.4571 - acc: 0.8612 - categorical_accuracy: 0.8612 - val_loss: 0.3912 - val_acc: 0.8783 - val_categorical_accuracy: 0.8783\n",
      "Epoch 3/5\n",
      "15000/15000 [==============================] - 15s 1ms/sample - loss: 0.3480 - acc: 0.8923 - categorical_accuracy: 0.8923 - val_loss: 0.2947 - val_acc: 0.9135 - val_categorical_accuracy: 0.9135\n",
      "Epoch 4/5\n",
      "15000/15000 [==============================] - 15s 1ms/sample - loss: 0.2941 - acc: 0.9093 - categorical_accuracy: 0.9093 - val_loss: 0.2839 - val_acc: 0.9205 - val_categorical_accuracy: 0.9205\n",
      "Epoch 5/5\n",
      "15000/15000 [==============================] - 15s 1ms/sample - loss: 0.2612 - acc: 0.9184 - categorical_accuracy: 0.9184 - val_loss: 0.2444 - val_acc: 0.9317 - val_categorical_accuracy: 0.9317\n"
     ]
    },
    {
     "data": {
      "text/plain": [
       "<tensorflow.python.keras.callbacks.History at 0x7fec98fa64a8>"
      ]
     },
     "execution_count": 19,
     "metadata": {
      "tags": []
     },
     "output_type": "execute_result"
    }
   ],
   "source": [
    "cnn_1.compile(loss='categorical_crossentropy',\n",
    "              optimizer='SGD',\n",
    "              metrics=['accuracy', 'categorical_accuracy']\n",
    "              )\n",
    "history1 = LossHistory()\n",
    "cnn_1.fit(x_train_1, y_train_encoded_1, batch_size=100, epochs=5, validation_data=(x_val, y_val_encoded), callbacks=[history1])"
   ]
  },
  {
   "cell_type": "markdown",
   "metadata": {
    "colab_type": "text",
    "id": "BPFrTZZSL7L1"
   },
   "source": [
    "## 3.2 Momentum Gradient Descent"
   ]
  },
  {
   "cell_type": "markdown",
   "metadata": {
    "colab_type": "text",
    "id": "zwlzXo5uL_CN"
   },
   "source": [
    "Momentum Gradient Descent adds a momentum hyperparameter to the SGD method. The improvement in training time for SGD comes at the small cost of often computing gradients that do not improve the goal of minimizing the cost function. With momentum, SGD can improve on the drastic oscillations in calculated cost at each iteration. Momentum records a variable velocity in the direction of cost minimization through each iteration and incorporates it into the weight update function. This helps the training over each iteration by narrowing the update range for each weight and converging on the cost minima faster than SGD. \n",
    "\n",
    "Momentum Weight Update Per Iteration:\n",
    "\n",
    "\n",
    "*V_dw = Beta * V_dw + (1 - Beta) * Gradient_W_i*\n",
    "*   V_dw = Velocity of gradient with respect to W \n",
    "*   Beta = Optimizer initialized momentum variable\n",
    "*   Gradient_W_i = Calculated gradient of weight with respect to cost for current batch 'i'\n",
    "\n",
    "*W = W - Alpha * V_dw*\n",
    "*   W = Weight\n",
    "*   Alpha = Learning rate\n",
    "\n",
    "\n",
    "\n"
   ]
  },
  {
   "cell_type": "code",
   "execution_count": 0,
   "metadata": {
    "colab": {
     "base_uri": "https://localhost:8080/",
     "height": 212
    },
    "colab_type": "code",
    "id": "k_DLiZvmVmqM",
    "outputId": "ae2020d0-cc25-4ded-8c9f-979836f64eb6"
   },
   "outputs": [
    {
     "name": "stdout",
     "output_type": "stream",
     "text": [
      "Train on 15000 samples, validate on 4000 samples\n",
      "Epoch 1/5\n",
      "15000/15000 [==============================] - 16s 1ms/sample - loss: 0.7052 - acc: 0.7736 - categorical_accuracy: 0.7736 - val_loss: 0.2925 - val_acc: 0.9143 - val_categorical_accuracy: 0.9143\n",
      "Epoch 2/5\n",
      "15000/15000 [==============================] - 16s 1ms/sample - loss: 0.2106 - acc: 0.9351 - categorical_accuracy: 0.9351 - val_loss: 0.1763 - val_acc: 0.9492 - val_categorical_accuracy: 0.9492\n",
      "Epoch 3/5\n",
      "15000/15000 [==============================] - 15s 1ms/sample - loss: 0.1389 - acc: 0.9572 - categorical_accuracy: 0.9572 - val_loss: 0.1212 - val_acc: 0.9643 - val_categorical_accuracy: 0.9643\n",
      "Epoch 4/5\n",
      "15000/15000 [==============================] - 15s 1ms/sample - loss: 0.1067 - acc: 0.9663 - categorical_accuracy: 0.9663 - val_loss: 0.1146 - val_acc: 0.9653 - val_categorical_accuracy: 0.9653\n",
      "Epoch 5/5\n",
      "15000/15000 [==============================] - 16s 1ms/sample - loss: 0.0840 - acc: 0.9729 - categorical_accuracy: 0.9729 - val_loss: 0.0960 - val_acc: 0.9720 - val_categorical_accuracy: 0.9720\n"
     ]
    },
    {
     "data": {
      "text/plain": [
       "<tensorflow.python.keras.callbacks.History at 0x7fec9ee92ba8>"
      ]
     },
     "execution_count": 20,
     "metadata": {
      "tags": []
     },
     "output_type": "execute_result"
    }
   ],
   "source": [
    "momentum = tf.train.MomentumOptimizer(learning_rate=0.01, momentum=0.85)\n",
    "cnn_2.compile(loss='categorical_crossentropy',\n",
    "              optimizer=momentum,\n",
    "              metrics=['accuracy', 'categorical_accuracy']\n",
    "              )\n",
    "history2 = LossHistory()\n",
    "cnn_2.fit(x_train_1, y_train_encoded_1, batch_size=100, epochs=5, validation_data=(x_val, y_val_encoded), callbacks=[history2])"
   ]
  },
  {
   "cell_type": "markdown",
   "metadata": {
    "colab_type": "text",
    "id": "mGBzFrQ5Y7mH"
   },
   "source": [
    "## 3.3 RMSprop Gradient Descent"
   ]
  },
  {
   "cell_type": "markdown",
   "metadata": {
    "colab_type": "text",
    "id": "ROqDRzRNY_el"
   },
   "source": [
    "Adam gradient descent is a combination of Momentum SGD and another optimizer, RMSprop. \n",
    "\n",
    "The purpose of RMSprop is to keep the learning momentum in the direction of minimizing the gradient based on the momentum of previous iterations. For example, if the previous two iterations are both in the direction of minimization, RMSprop increases the learning rate to accelerate the gradient movement closer to minima in the next iteration. In the case the previous gradients were moving in opposite directions, the minima are somewhere in between, so RMSprop decreases the learning rate. Decreasing the learning rate allows the algorithm to make smaller steps in the right direction to regain momentum in the next iterations. To be able to make this decision in momentum shift, the algorithm keeps an ongoing average of the mean square value for each weight and its respective gradient. Then, when the weight is updated, the current gradient is divided by the square root of the ongoing average. This produces an updated weight in a relative direction to the previous iterations, while the step is small enough to ensure the algorithm does not pass the minima in the next iteration. The use of the root means square is where RMSprop gets its name.\n",
    "\n",
    "RMSprop Weight Update Per Iteration:\n",
    "\n",
    "\n",
    "*M_dw = Beta * M_dw + (1 - Beta) * Gradient_W_i^2*\n",
    "*   M_dw = RMSprop momentum of squared gradient with respect to W\n",
    "*   Beta = Optimizer initialized momentum variable\n",
    "*   Gradient_W_i = Calculated gradient of weight with respect to cost for current batch 'i'\n",
    "\n",
    "*W = W - (Alpha * Gradient_W_i) / (sqrt(M_dw) + eps)*\n",
    "*   W = Weight\n",
    "*   Alpha = Learning rate\n",
    "*   eps = very small number to avoid potential division by 0\n",
    "\n",
    "\n",
    " "
   ]
  },
  {
   "cell_type": "code",
   "execution_count": 0,
   "metadata": {
    "colab": {
     "base_uri": "https://localhost:8080/",
     "height": 261
    },
    "colab_type": "code",
    "id": "gNmDLD8WO2H-",
    "outputId": "9a03e6c6-c577-4beb-b4cc-5e752e22c737"
   },
   "outputs": [
    {
     "name": "stdout",
     "output_type": "stream",
     "text": [
      "WARNING:tensorflow:From /usr/local/lib/python3.6/dist-packages/tensorflow_core/python/training/rmsprop.py:119: calling Ones.__init__ (from tensorflow.python.ops.init_ops) with dtype is deprecated and will be removed in a future version.\n",
      "Instructions for updating:\n",
      "Call initializer instance with the dtype argument instead of passing it to the constructor\n",
      "Train on 15000 samples, validate on 4000 samples\n",
      "Epoch 1/5\n",
      "15000/15000 [==============================] - 16s 1ms/sample - loss: 0.9525 - acc: 0.6953 - categorical_accuracy: 0.6953 - val_loss: 0.1558 - val_acc: 0.9507 - val_categorical_accuracy: 0.9507\n",
      "Epoch 2/5\n",
      "15000/15000 [==============================] - 15s 1ms/sample - loss: 0.1258 - acc: 0.9608 - categorical_accuracy: 0.9608 - val_loss: 0.0901 - val_acc: 0.9732 - val_categorical_accuracy: 0.9732\n",
      "Epoch 3/5\n",
      "15000/15000 [==============================] - 15s 1ms/sample - loss: 0.0754 - acc: 0.9770 - categorical_accuracy: 0.9770 - val_loss: 0.0930 - val_acc: 0.9747 - val_categorical_accuracy: 0.9747\n",
      "Epoch 4/5\n",
      "15000/15000 [==============================] - 15s 1ms/sample - loss: 0.0500 - acc: 0.9846 - categorical_accuracy: 0.9846 - val_loss: 0.0710 - val_acc: 0.9790 - val_categorical_accuracy: 0.9790\n",
      "Epoch 5/5\n",
      "15000/15000 [==============================] - 15s 1ms/sample - loss: 0.0479 - acc: 0.9863 - categorical_accuracy: 0.9863 - val_loss: 0.1148 - val_acc: 0.9745 - val_categorical_accuracy: 0.9745\n"
     ]
    },
    {
     "data": {
      "text/plain": [
       "<tensorflow.python.keras.callbacks.History at 0x7fec9cdfeef0>"
      ]
     },
     "execution_count": 21,
     "metadata": {
      "tags": []
     },
     "output_type": "execute_result"
    }
   ],
   "source": [
    "RMSprop = tf.train.RMSPropOptimizer(learning_rate=0.001, momentum=0.9)\n",
    "cnn_3.compile(loss='categorical_crossentropy',\n",
    "              optimizer=RMSprop,\n",
    "              metrics=['accuracy', 'categorical_accuracy']\n",
    "              )\n",
    "history3 = LossHistory()\n",
    "cnn_3.fit(x_train_1, y_train_encoded_1, batch_size=100, epochs=5, validation_data=(x_val, y_val_encoded), callbacks=[history3])"
   ]
  },
  {
   "cell_type": "markdown",
   "metadata": {
    "colab_type": "text",
    "id": "J0diStcRP2SB"
   },
   "source": [
    "## 3.4 Adam Greadient Descent"
   ]
  },
  {
   "cell_type": "markdown",
   "metadata": {
    "colab_type": "text",
    "id": "khpaBwsNP6f3"
   },
   "source": [
    "Adam gradient descent utilizes both continuous variables from momentum and RMSprop algorithms and incorporates them into updating of weights in each iteration. The purpose of the combination of algorithms is to help the learning process explore a range of values on the gradient surface while keeping the descent on the fast course towards the cost minima. \n",
    "\n",
    "Adam Weight Update Per Iteration:\n",
    "\n",
    "*V_dw = Beta1 * V_dw + (1 - Beta1) * Gradient_W_i*\n",
    "*   V_dw = Velocity of gradient with respect to W \n",
    "*   Beta1 = Optimizer initialized momentum variable\n",
    "*   Gradient_W_i = Calculated gradient of weight with respect to cost for current batch 'i'\n",
    "\n",
    "*M_dw = Beta2 * M_dw + (1 - Beta2) * Gradient_W_i^2*\n",
    "*   M_dw = RMSprop momentum of squared gradient with respect to W\n",
    "*   Beta2 = Optimizer initialized momentum variable\n",
    "*   Gradient_W_i = Calculated gradient of weight with respect to cost for current batch 'i'\n",
    "\n",
    "*W = W - (Alpha * Gradient_W_i * V_dw) / (sqrt(M_dw) + eps)*\n",
    "*   Alpha = Learning rate\n",
    "*   W = Weight"
   ]
  },
  {
   "cell_type": "code",
   "execution_count": 0,
   "metadata": {
    "colab": {
     "base_uri": "https://localhost:8080/",
     "height": 212
    },
    "colab_type": "code",
    "id": "WaFtRBM6WB5u",
    "outputId": "0a91876d-9f7f-4a7e-e2c1-2b01e95e54c5"
   },
   "outputs": [
    {
     "name": "stdout",
     "output_type": "stream",
     "text": [
      "Train on 15000 samples, validate on 4000 samples\n",
      "Epoch 1/5\n",
      "15000/15000 [==============================] - 15s 1ms/sample - loss: 0.5048 - acc: 0.8581 - categorical_accuracy: 0.8581 - val_loss: 0.1889 - val_acc: 0.9450 - val_categorical_accuracy: 0.9450\n",
      "Epoch 2/5\n",
      "15000/15000 [==============================] - 15s 1ms/sample - loss: 0.1357 - acc: 0.9591 - categorical_accuracy: 0.9591 - val_loss: 0.1206 - val_acc: 0.9655 - val_categorical_accuracy: 0.9655\n",
      "Epoch 3/5\n",
      "15000/15000 [==============================] - 15s 1ms/sample - loss: 0.0918 - acc: 0.9719 - categorical_accuracy: 0.9719 - val_loss: 0.1095 - val_acc: 0.9665 - val_categorical_accuracy: 0.9665\n",
      "Epoch 4/5\n",
      "15000/15000 [==============================] - 15s 1ms/sample - loss: 0.0660 - acc: 0.9801 - categorical_accuracy: 0.9801 - val_loss: 0.0826 - val_acc: 0.9783 - val_categorical_accuracy: 0.9783\n",
      "Epoch 5/5\n",
      "15000/15000 [==============================] - 15s 1ms/sample - loss: 0.0535 - acc: 0.9840 - categorical_accuracy: 0.9840 - val_loss: 0.0801 - val_acc: 0.9770 - val_categorical_accuracy: 0.9770\n"
     ]
    },
    {
     "data": {
      "text/plain": [
       "<tensorflow.python.keras.callbacks.History at 0x7fec9cd308d0>"
      ]
     },
     "execution_count": 22,
     "metadata": {
      "tags": []
     },
     "output_type": "execute_result"
    }
   ],
   "source": [
    "cnn_4.compile(loss='categorical_crossentropy',\n",
    "              optimizer='Adam',\n",
    "              metrics=['accuracy', 'categorical_accuracy']\n",
    "              )\n",
    "history4 = LossHistory()\n",
    "cnn_4.fit(x_train_1, y_train_encoded_1, batch_size=100, epochs=5, validation_data=(x_val, y_val_encoded), callbacks=[history4])"
   ]
  },
  {
   "cell_type": "markdown",
   "metadata": {
    "colab_type": "text",
    "id": "K1bz64SZrMnt"
   },
   "source": [
    "# 4. Comparison and Understanding"
   ]
  },
  {
   "cell_type": "code",
   "execution_count": 0,
   "metadata": {
    "colab": {
     "base_uri": "https://localhost:8080/",
     "height": 1000
    },
    "colab_type": "code",
    "id": "5irYlrmObK9s",
    "outputId": "97ac700d-d4cc-4322-963c-ac980bdb8b55"
   },
   "outputs": [
    {
     "data": {
      "image/png": "[encoded data removed]",
      "text/plain": [
       "<Figure size 432x288 with 2 Axes>"
      ]
     },
     "metadata": {
      "tags": []
     },
     "output_type": "display_data"
    },
    {
     "data": {
      "image/png": "[encoded data removed]",
      "text/plain": [
       "<Figure size 432x288 with 2 Axes>"
      ]
     },
     "metadata": {
      "tags": []
     },
     "output_type": "display_data"
    },
    {
     "data": {
      "image/png": "[encoded data removed]",
      "text/plain": [
       "<Figure size 432x288 with 2 Axes>"
      ]
     },
     "metadata": {
      "tags": []
     },
     "output_type": "display_data"
    },
    {
     "data": {
      "image/png": "[encoded data removed]",
      "text/plain": [
       "<Figure size 432x288 with 2 Axes>"
      ]
     },
     "metadata": {
      "tags": []
     },
     "output_type": "display_data"
    }
   ],
   "source": [
    "plot_loss_acc(history1.losses, history1.accuracy, 'SGD', 'Batch')\n",
    "plot_loss_acc(history2.losses, history2.accuracy, 'Momentum', 'Batch')\n",
    "plot_loss_acc(history3.losses, history3.accuracy, 'RMSprop', 'Batch')\n",
    "plot_loss_acc(history4.losses, history4.accuracy, 'Adam', 'Batch')"
   ]
  },
  {
   "cell_type": "markdown",
   "metadata": {
    "colab_type": "text",
    "id": "Zf66rP7qrRDG"
   },
   "source": [
    "The loss-accuracy plots for each optimizer describe the speed and path that an algorithm takes to minimizing loss during training. Each optimizer begins training by reducing loss each iteration due to the gradient of each iteration moving down the steepest and nearest slope on the gradient surface. As they reach shallow areas of the surface the direction towards the minima becomes easier for an algorithm to miss. \n",
    "\n",
    "Since SGD has a fixed update rule for each iteration, it begins calculating loss above and below the curve trend. While the gradient explores a wide range, looking for a better local minimum, it has trouble deciding on which slope to explore. This is because the update rule continues to have a constant learning rate in an area of the gradient where relatively large steps can place the algorithm on a different slope. \n",
    "\n",
    "The loss behaviours for Momentum and RMSprop have slight differences in how they minimize loss and end with similar results. Momentum reduces loss much quicker than RMSprop in the first epoch. In the following epochs, RMSprop rapidly reduces the loss to a local minimum, while momentum steadily continues to reduce loss until the end of the training. Sharp increases of loss in both graphs are strong indicators of the algorithms respective update rules. In the momentum graph, increases in loss where the gradient stepped farther from the minima, are followed by slight gradual corrections of the gradient gaining momentum towards minimal loss. For the same case with RMSprop, there is a decrease in loss to the approximate loss before the increase. This translates to the algorithms ongoing record of gradient direction being utilized to correct the search. The correction occurs when the algorithm makes a gradient step looking for new minima, but none are found, so it moves back in the original direction. \n",
    "\n",
    "Adam optimizer starts the strongest by reducing loss better than the other algorithms over the first epoch. While Adam performed exceptionally throughout 5 epochs, RMSprop held a sustainably faster rate of minimizing network loss, even though Adam is an optimized algorithm utilizing RMSprop. This difference in performance is potentially caused by the MNIST input images not having many complex features to extract. Therefore, leading to a conclusion that applying an algorithm with highly adaptive learning rates to a simple dataset could lead to fast convergence on a small reservoir on the gradient surface, while potentially missing lower minima that produces better results. \n",
    "\n",
    "\n"
   ]
  },
  {
   "cell_type": "markdown",
   "metadata": {
    "colab_type": "text",
    "id": "74-sCKZ2TJTW"
   },
   "source": [
    "# 5. Evaluation"
   ]
  },
  {
   "cell_type": "markdown",
   "metadata": {
    "colab_type": "text",
    "id": "J4W22WGnNeok"
   },
   "source": [
    "Predicting test set on each of the trained models. "
   ]
  },
  {
   "cell_type": "code",
   "execution_count": 0,
   "metadata": {
    "colab": {},
    "colab_type": "code",
    "id": "fjGh2Oh_TNXY"
   },
   "outputs": [],
   "source": [
    "preds_cnn1 = cnn_1.predict(x_test)\n",
    "labels_cnn1 = np.argmax(preds_cnn1, axis=-1)  \n",
    "\n",
    "preds_cnn2 = cnn_2.predict(x_test)\n",
    "labels_cnn2 = np.argmax(preds_cnn2, axis=-1)    \n",
    "\n",
    "preds_cnn3 = cnn_3.predict(x_test)\n",
    "labels_cnn3 = np.argmax(preds_cnn3, axis=-1)  \n",
    "\n",
    "preds_cnn4 = cnn_4.predict(x_test)\n",
    "labels_cnn4 = np.argmax(preds_cnn4, axis=-1)  "
   ]
  },
  {
   "cell_type": "markdown",
   "metadata": {
    "colab_type": "text",
    "id": "2VnEr4GyNSWq"
   },
   "source": [
    "Test set class counts. "
   ]
  },
  {
   "cell_type": "code",
   "execution_count": 0,
   "metadata": {
    "colab": {
     "base_uri": "https://localhost:8080/",
     "height": 212
    },
    "colab_type": "code",
    "id": "TTBeizspkzQD",
    "outputId": "8111d61a-a6c4-4c6c-fd88-d284b61a01e8"
   },
   "outputs": [
    {
     "name": "stdout",
     "output_type": "stream",
     "text": [
      "Test Class Count:\n",
      "1    1432\n",
      "7    1342\n",
      "0    1294\n",
      "2    1268\n",
      "9    1256\n",
      "3    1250\n",
      "8    1233\n",
      "6    1227\n",
      "4    1206\n",
      "5    1092\n",
      "Name: label, dtype: int64\n"
     ]
    }
   ],
   "source": [
    "print(\"Test Class Count:\")\n",
    "print(y_test.value_counts(sort=True))"
   ]
  },
  {
   "cell_type": "markdown",
   "metadata": {
    "colab_type": "text",
    "id": "4hPJ93IZNnTP"
   },
   "source": [
    "Counting true positive, false positive, and false negative totals for the calculation of precision and recall. Precision and recall are calculated per image class and are averaged per model. "
   ]
  },
  {
   "cell_type": "code",
   "execution_count": 0,
   "metadata": {
    "colab": {
     "base_uri": "https://localhost:8080/",
     "height": 391
    },
    "colab_type": "code",
    "id": "fhqVnlwhg02_",
    "outputId": "4519ea15-8b16-462c-a41b-94d7c4fc2c3a"
   },
   "outputs": [
    {
     "name": "stdout",
     "output_type": "stream",
     "text": [
      "SGD CNN - Class Precision & Recall:\n",
      "Recall:    [95.69 95.64 93.29 89.41 90.98 93.46 91.74 91.43 94.71 93.34] \n",
      "AVG Recall: 92.97 \n",
      "Precision: [97.68 97.97 93.14 90.48 92.87 89.01 97.72 94.63 90.11 84.79] \n",
      "AVG Precision: 92.84\n",
      "========================================================================\n",
      "Momentum CNN - Class Precision & Recall:\n",
      "Recall:    [98.23 97.99 94.72 96.27 96.56 94.95 99.24 98.26 98.73 96.78] \n",
      "AVG Recall: 97.17 \n",
      "Precision: [98.53 98.67 97.71 97.04 97.76 98.17 96.41 96.94 94.73 95.78] \n",
      "AVG Precision: 97.17\n",
      "========================================================================\n",
      "RMSprop CNN - Class Precision & Recall:\n",
      "Recall:    [97.48 97.72 98.39 96.15 98.16 97.34 96.95 96.35 98.48 96.94] \n",
      "AVG Recall: 97.4 \n",
      "Precision: [98.69 98.81 96.14 98.   97.26 97.07 98.53 98.44 94.73 95.78] \n",
      "AVG Precision: 97.34\n",
      "========================================================================\n",
      "Adam CNN - Class Precision & Recall:\n",
      "Recall:    [98.24 98.95 97.85 96.4  98.65 96.42 98.85 98.41 98.08 94.96] \n",
      "AVG Recall: 97.68 \n",
      "Precision: [99.07 98.81 96.92 98.64 96.93 98.72 97.96 96.94 95.38 97.53] \n",
      "AVG Precision: 97.69\n"
     ]
    }
   ],
   "source": [
    "fn_cnn1 = np.zeros((10)).astype(int)\n",
    "fn_cnn2 = np.zeros((10)).astype(int)\n",
    "fn_cnn3 = np.zeros((10)).astype(int)\n",
    "fn_cnn4 = np.zeros((10)).astype(int)\n",
    "\n",
    "tp_cnn1 = np.zeros((10)).astype(int)\n",
    "tp_cnn2 = np.zeros((10)).astype(int)\n",
    "tp_cnn3 = np.zeros((10)).astype(int)\n",
    "tp_cnn4 = np.zeros((10)).astype(int)\n",
    "\n",
    "tp_fp_cnn1 = np.zeros((10)).astype(int)\n",
    "tp_fp_cnn2 = np.zeros((10)).astype(int)\n",
    "tp_fp_cnn3 = np.zeros((10)).astype(int)\n",
    "tp_fp_cnn4 = np.zeros((10)).astype(int)\n",
    "\n",
    "for i in range(len(y_test)):\n",
    "    tp_fp_cnn1[labels_cnn1[i]] += 1\n",
    "    tp_fp_cnn2[labels_cnn2[i]] += 1\n",
    "    tp_fp_cnn3[labels_cnn3[i]] += 1\n",
    "    tp_fp_cnn4[labels_cnn4[i]] += 1\n",
    "    if labels_cnn1[i] == y_test.iloc[i]:\n",
    "        tp_cnn1[labels_cnn1[i]] += 1\n",
    "    else:\n",
    "        fn_cnn1[y_test.iloc[i]] += 1\n",
    "    if labels_cnn2[i] == y_test.iloc[i]:\n",
    "        tp_cnn2[labels_cnn2[i]] += 1\n",
    "    else:\n",
    "        fn_cnn2[y_test.iloc[i]] += 1\n",
    "    if labels_cnn3[i] == y_test.iloc[i]:\n",
    "        tp_cnn3[labels_cnn3[i]] += 1\n",
    "    else:\n",
    "        fn_cnn2[y_test.iloc[i]] += 1\n",
    "    if labels_cnn4[i] == y_test.iloc[i]:\n",
    "        tp_cnn4[labels_cnn4[i]] += 1\n",
    "    else:\n",
    "        fn_cnn2[y_test.iloc[i]] += 1\n",
    "\n",
    "prec_cnn1 = np.round(tp_cnn1 / tp_fp_cnn1 * 100, 2)\n",
    "prec_cnn2 = np.round(tp_cnn2 / tp_fp_cnn2 * 100, 2)\n",
    "prec_cnn3 = np.round(tp_cnn3 / tp_fp_cnn3 * 100, 2)\n",
    "prec_cnn4 = np.round(tp_cnn4 / tp_fp_cnn4 * 100, 2)\n",
    "\n",
    "recall_cnn1 = np.round(tp_cnn1 / (fn_cnn1 + tp_cnn1) * 100, 2)\n",
    "recall_cnn2 = np.round(tp_cnn2 / (fn_cnn2 + tp_cnn2) * 100, 2)\n",
    "recall_cnn3 = np.round(tp_cnn3 / (fn_cnn3 + tp_cnn3) * 100, 2)\n",
    "recall_cnn4 = np.round(tp_cnn4 / (fn_cnn4 + tp_cnn4) * 100, 2)\n",
    "\n",
    "print(\"SGD CNN - Class Precision & Recall:\\nRecall:   \", recall_cnn1, \"\\nAVG Recall:\", np.round(np.sum(recall_cnn1)/10, 2), \"\\nPrecision:\", prec_cnn1, \"\\nAVG Precision:\", np.round(np.sum(prec_cnn1)/10, 2))\n",
    "print(\"========================================================================\")\n",
    "print(\"Momentum CNN - Class Precision & Recall:\\nRecall:   \", recall_cnn2, \"\\nAVG Recall:\", np.round(np.sum(recall_cnn2)/10, 2), \"\\nPrecision:\", prec_cnn2, \"\\nAVG Precision:\", np.round(np.sum(prec_cnn2)/10, 2))\n",
    "print(\"========================================================================\")\n",
    "print(\"RMSprop CNN - Class Precision & Recall:\\nRecall:   \", recall_cnn3, \"\\nAVG Recall:\", np.round(np.sum(recall_cnn3)/10, 2), \"\\nPrecision:\", prec_cnn3, \"\\nAVG Precision:\", np.round(np.sum(prec_cnn3)/10, 2))\n",
    "print(\"========================================================================\")\n",
    "print(\"Adam CNN - Class Precision & Recall:\\nRecall:   \", recall_cnn4, \"\\nAVG Recall:\", np.round(np.sum(recall_cnn4)/10, 2), \"\\nPrecision:\", prec_cnn4, \"\\nAVG Precision:\", np.round(np.sum(prec_cnn4)/10, 2))"
   ]
  },
  {
   "cell_type": "markdown",
   "metadata": {
    "colab_type": "text",
    "id": "S7m5j0gRR7eY"
   },
   "source": [
    "Each models' class predictions are fairly consistent, with Momentum, RMSprop, and Adam producing similarly excellent results. "
   ]
  },
  {
   "cell_type": "markdown",
   "metadata": {
    "colab_type": "text",
    "id": "FtxkDa5fWZn5"
   },
   "source": [
    "# 6. Comparative Model\n",
    "\n",
    "This model is trained on a 42000 image data seta and will be used to compare with the Naive Bayes and Multi-Layer Perceptron solutions explored in this project. "
   ]
  },
  {
   "cell_type": "markdown",
   "metadata": {
    "colab_type": "text",
    "id": "qAAtABf4aYtM"
   },
   "source": [
    "## 6.1 Training"
   ]
  },
  {
   "cell_type": "code",
   "execution_count": 0,
   "metadata": {
    "colab": {
     "base_uri": "https://localhost:8080/",
     "height": 196
    },
    "colab_type": "code",
    "id": "WbtQOGIAWftr",
    "outputId": "5ab3ac75-470c-4a20-f4e4-49a878abfd4b"
   },
   "outputs": [
    {
     "name": "stdout",
     "output_type": "stream",
     "text": [
      "Train on 29400 samples, validate on 4000 samples\n",
      "Epoch 1/5\n",
      "29400/29400 [==============================] - 33s 1ms/sample - loss: 0.1024 - acc: 0.9694 - categorical_accuracy: 0.9694 - val_loss: 0.0886 - val_acc: 0.9707 - val_categorical_accuracy: 0.9707\n",
      "Epoch 2/5\n",
      "29400/29400 [==============================] - 33s 1ms/sample - loss: 0.0586 - acc: 0.9822 - categorical_accuracy: 0.9822 - val_loss: 0.0934 - val_acc: 0.9678 - val_categorical_accuracy: 0.9678\n",
      "Epoch 3/5\n",
      "29400/29400 [==============================] - 33s 1ms/sample - loss: 0.0412 - acc: 0.9877 - categorical_accuracy: 0.9877 - val_loss: 0.0591 - val_acc: 0.9805 - val_categorical_accuracy: 0.9805\n",
      "Epoch 4/5\n",
      "29400/29400 [==============================] - 33s 1ms/sample - loss: 0.0302 - acc: 0.9899 - categorical_accuracy: 0.9899 - val_loss: 0.0717 - val_acc: 0.9775 - val_categorical_accuracy: 0.9775\n",
      "Epoch 5/5\n",
      "29400/29400 [==============================] - 33s 1ms/sample - loss: 0.0226 - acc: 0.9929 - categorical_accuracy: 0.9929 - val_loss: 0.0625 - val_acc: 0.9787 - val_categorical_accuracy: 0.9787\n"
     ]
    }
   ],
   "source": [
    "cnn_5.compile(loss='categorical_crossentropy',\n",
    "              optimizer='Adam',\n",
    "              metrics=['accuracy', 'categorical_accuracy']\n",
    "              )\n",
    "\n",
    "history5 = cnn_5.fit(x_train, y_train_encoded, batch_size=32, epochs=5, validation_data=(x_val, y_val_encoded))"
   ]
  },
  {
   "cell_type": "code",
   "execution_count": 0,
   "metadata": {
    "colab": {
     "base_uri": "https://localhost:8080/",
     "height": 297
    },
    "colab_type": "code",
    "id": "Sdq2DDJZXUV5",
    "outputId": "25ff35b7-2af8-4656-ce81-02cb4a874514"
   },
   "outputs": [
    {
     "data": {
      "image/png": "[encoded data removed]",
      "text/plain": [
       "<Figure size 432x288 with 2 Axes>"
      ]
     },
     "metadata": {
      "tags": []
     },
     "output_type": "display_data"
    }
   ],
   "source": [
    "plot_loss_acc(history5.history['loss'], history5.history['acc'], 'CNN - Adam', 'Epochs')"
   ]
  },
  {
   "cell_type": "markdown",
   "metadata": {
    "colab_type": "text",
    "id": "Ywxu16kDae2S"
   },
   "source": [
    "## 6.2 Evaluation"
   ]
  },
  {
   "cell_type": "code",
   "execution_count": 0,
   "metadata": {
    "colab": {},
    "colab_type": "code",
    "id": "4n7sP7aaarYw"
   },
   "outputs": [],
   "source": [
    "preds_cnn5 = cnn_5.predict(x_test)\n",
    "labels_cnn5 = np.argmax(preds_cnn5, axis=-1) "
   ]
  },
  {
   "cell_type": "code",
   "execution_count": 0,
   "metadata": {
    "colab": {
     "base_uri": "https://localhost:8080/",
     "height": 212
    },
    "colab_type": "code",
    "id": "QWlJjM58axWT",
    "outputId": "ce2a0472-820d-4332-ebab-5d99055d2fa8"
   },
   "outputs": [
    {
     "name": "stdout",
     "output_type": "stream",
     "text": [
      "Test Class Count:\n",
      "1    1432\n",
      "7    1342\n",
      "0    1294\n",
      "2    1268\n",
      "9    1256\n",
      "3    1250\n",
      "8    1233\n",
      "6    1227\n",
      "4    1206\n",
      "5    1092\n",
      "Name: label, dtype: int64\n"
     ]
    }
   ],
   "source": [
    "print(\"Test Class Count:\")\n",
    "print(y_test.value_counts(sort=True))"
   ]
  },
  {
   "cell_type": "code",
   "execution_count": 0,
   "metadata": {
    "colab": {
     "base_uri": "https://localhost:8080/",
     "height": 131
    },
    "colab_type": "code",
    "id": "sioL4_HSa1te",
    "outputId": "ebc015d1-d7f5-426a-83fa-c7f5f374cd86"
   },
   "outputs": [
    {
     "name": "stdout",
     "output_type": "stream",
     "text": [
      "Adam CNN\n",
      "Accuracy: 99.1\n",
      "Class Precision & Recall:\n",
      "Recall:    [99.38 99.65 98.37 99.76 99.75 98.82 99.35 99.4  98.94 97.5 ] \n",
      "AVG Recall: 99.09 \n",
      "Precision: [99.61 99.09 99.84 98.48 98.09 99.63 99.1  98.88 98.86 99.36] \n",
      "AVG Precision: 99.09\n"
     ]
    }
   ],
   "source": [
    "test_totals_1 = np.zeros((10)).astype(int)\n",
    "\n",
    "for i in range(len(y_test)):\n",
    "    test_totals_1[y_test.iloc[i]] += 1\n",
    "\n",
    "tp_cnn5 = np.zeros((10)).astype(int)\n",
    "fn_cnn5 = np.zeros((10)).astype(int)\n",
    "tp_fp_cnn5 = np.zeros((10)).astype(int)\n",
    "\n",
    "for i in range(len(y_test)):\n",
    "    tp_fp_cnn5[labels_cnn5[i]] += 1\n",
    "    if labels_cnn5[i] == y_test.iloc[i]:\n",
    "        tp_cnn5[labels_cnn5[i]] += 1\n",
    "    else:\n",
    "        fn_cnn5[y_test.iloc[i]] += 1\n",
    "\n",
    "prec_cnn5 = np.round(tp_cnn5 / tp_fp_cnn5 * 100, 2)\n",
    "recall_cnn5 = np.round(tp_cnn5 / (fn_cnn5 + tp_cnn5) * 100, 2)\n",
    "accuracy = np.sum(tp_cnn5) / np.sum(test_totals_1)\n",
    "\n",
    "print(\"Adam CNN\")\n",
    "print(\"Accuracy:\", np.round(accuracy*100, 2))\n",
    "print(\"Class Precision & Recall:\\nRecall:   \", recall_cnn5, \"\\nAVG Recall:\", np.round(np.sum(recall_cnn5)/10, 2), \"\\nPrecision:\", prec_cnn5, \"\\nAVG Precision:\", np.round(np.sum(prec_cnn5)/10, 2))"
   ]
  },
  {
   "cell_type": "markdown",
   "metadata": {
    "colab_type": "text",
    "id": "Lleyzgz9W4jU"
   },
   "source": [
    "# 7. CNN From Scratch"
   ]
  },
  {
   "cell_type": "markdown",
   "metadata": {
    "colab_type": "text",
    "id": "CEBDxpBsXDX8"
   },
   "source": [
    "## 7.1 Reading Data\n",
    "\n",
    "The first step to building a CNN is to make sure the data is formatted correctly. This function will read the data from a CSV file, format each entry into an IMG_WIDTH x IMG_WIDTH square matrix with the specified padding."
   ]
  },
  {
   "cell_type": "code",
   "execution_count": 0,
   "metadata": {
    "colab": {},
    "colab_type": "code",
    "id": "BnGwrIT1XM-g"
   },
   "outputs": [],
   "source": [
    "def read_data(filename, IMG_WIDTH, pad=0):\n",
    "\t'''\n",
    "\tRead data, normalize pixel value to [0... 1], \n",
    "\treshape data into square 2D matrix dim(IMG_WIDTH)\n",
    "\n",
    "\tReturn data, labels\n",
    "\t'''\n",
    "\tdata = pd.read_csv(filename, sep = ',')\n",
    "\ty = data['label']\n",
    "\tx = data.drop(labels = ['label'], axis = 1)\n",
    "\tx = x.astype('float32')\n",
    "\tx = x / 255.0\n",
    "\tx = x.values.reshape(-1, IMG_WIDTH, IMG_WIDTH, 1)\n",
    "\tif pad > 0:\n",
    "\t\tx = np.pad(x, [(0, 0), (pad, pad), (pad, pad)], mode='constant')\t\t\n",
    "\tdel data\n",
    "\treturn x, y"
   ]
  },
  {
   "cell_type": "markdown",
   "metadata": {
    "colab_type": "text",
    "id": "81QXKyJIXnks"
   },
   "source": [
    "## 7.2 Initializing Trainable Weights\n",
    "\n",
    "Next, we create functions to initialize the randomly distributed filter and weight matrices."
   ]
  },
  {
   "cell_type": "code",
   "execution_count": 0,
   "metadata": {
    "colab": {},
    "colab_type": "code",
    "id": "9lfqFa_eX6qG"
   },
   "outputs": [],
   "source": [
    "def init_filter(size, scale=1.0):\n",
    "\t'''\n",
    "\tsize = (num_of_filters, depth, width, width)\n",
    "\tReturn filters initialized with a mean=0 \n",
    "\trandom normal distribution\n",
    "\t'''\n",
    "\tstd_dev = scale/np.sqrt(np.prod(size))\n",
    "\treturn np.random.normal(loc = 0, scale = std_dev, size = size)\n",
    "\n",
    "def init_weight(size):\n",
    "\t'''\n",
    "\tsize = (width, width)\n",
    "\tReturn random standard normal distribution \n",
    "\t'''\n",
    "\treturn np.random.standard_normal(size = size) * 0.01"
   ]
  },
  {
   "cell_type": "markdown",
   "metadata": {
    "colab_type": "text",
    "id": "HMZBkegOYNAp"
   },
   "source": [
    "## 7.3 Convolution\n",
    "\n",
    "The convolution operation must pass each filter across the input and create a new output matrix. The number of output matrices is equal to the number of filters used on the input."
   ]
  },
  {
   "cell_type": "code",
   "execution_count": 0,
   "metadata": {
    "colab": {},
    "colab_type": "code",
    "id": "8jxopywmaWuG"
   },
   "outputs": [],
   "source": [
    "def convolution(image, filters, stride, bias):\n",
    "\t'''\n",
    "\timage = WIDTH x WIDTH matrix\n",
    "\tfilters = NUM_FILTERS x WIDTH x WIDTH tensor\n",
    "\tstride = int\n",
    "\t'''\n",
    "\tdim_img = image.shape[1]\n",
    "\tdim_filter = filters[0].shape[1]\n",
    "\tnum_filters = len(filters)\n",
    "\tdim_out = (dim_img - dim_filter) / stride + 1\n",
    "\tif len(image.shape) == 2: # adds extra dimension of 1 if input is a single matrix\n",
    "\t\timage = np.expand_dims(image, axis=0)\n",
    "\n",
    "\tif dim_out.is_integer() == False:\n",
    "\t\traise ValueError(\"(dim_img - dim_filter) / stride + 1 is not an integer.\")\n",
    "\n",
    "\toutput = np.zeros((num_filters, int(dim_out), int(dim_out))) # shape output matrx\n",
    "\n",
    "\tfor f in range(num_filters):\n",
    "\t\ty_out = 0\n",
    "\t\tfor y in range(0, dim_img, stride):\n",
    "\t\t\tx_out = 0\n",
    "\t\t\tfor x in range(0, dim_img, stride):\n",
    "\t\t\t\tif (x + dim_filter <= dim_img and y + dim_filter <= dim_img): # dot product filter with current region of input\n",
    "\t\t\t\t\toutput[f, y_out, x_out] = np.sum(filters[f] * image[:, y:y + dim_filter, x:x + dim_filter]) + bias[f]\n",
    "\t\t\t\tx_out += 1\n",
    "\t\t\ty_out += 1\n",
    "\treturn output"
   ]
  },
  {
   "cell_type": "markdown",
   "metadata": {
    "colab_type": "text",
    "id": "7fIcLr1Iivrk"
   },
   "source": [
    "## 7.4 Max-Pool\n",
    "\n",
    "The max-pooling operates similarly to the convolution operation, but instead of computing dot product it will take the maximum value for each region is passes."
   ]
  },
  {
   "cell_type": "code",
   "execution_count": 0,
   "metadata": {
    "colab": {},
    "colab_type": "code",
    "id": "ifqzDKF8jATe"
   },
   "outputs": [],
   "source": [
    "def maxpool(input, size, stride):\n",
    "    '''\n",
    "    input matrix, size of square pooling window, stride of window\n",
    "    '''\n",
    "\tdim_in = input[0].shape[0]\n",
    "\tdim_out = (dim_in - size) / stride + 1\n",
    "\tnum_in = len(input)\n",
    "\t\n",
    "\tif dim_out.is_integer() == False:\n",
    "\t\traise ValueError(\"(dim_in - size) / stride + 1 is not an integer.\")\n",
    "\n",
    "\tmaxpool = np.zeros((num_in, int(dim_out), int(dim_out))) # shape output matrix\n",
    "\n",
    "\tfor i in range(num_in):\n",
    "\t\ty_out = 0\n",
    "\t\tfor y in range(0, dim_in, stride):\n",
    "\t\t\tx_out = 0\n",
    "\t\t\tfor x in range(0, dim_in, stride):\n",
    "\t\t\t\tif (x + size <= dim_in and y + size <= dim_in): # take max value\n",
    "\t\t\t\t\tmaxpool[i, y_out, x_out] = np.amax(input[i, y:y + size, x:x + size])\n",
    "\t\t\t\tx_out += 1\n",
    "\t\t\ty_out += 1\t\n",
    "\treturn maxpool\n"
   ]
  },
  {
   "cell_type": "markdown",
   "metadata": {
    "colab_type": "text",
    "id": "5JogD1GJjV8R"
   },
   "source": [
    "## 7.5 ReLu\n",
    "\n",
    "ReLu operation simply returns 0 for all elements less than or equal to 0 in the input."
   ]
  },
  {
   "cell_type": "code",
   "execution_count": 0,
   "metadata": {
    "colab": {},
    "colab_type": "code",
    "id": "a1Jtol_Tjsso"
   },
   "outputs": [],
   "source": [
    "def relu(input):\n",
    "\treturn input * (input > 0)"
   ]
  },
  {
   "cell_type": "markdown",
   "metadata": {
    "colab_type": "text",
    "id": "wQWTYvy-jumS"
   },
   "source": [
    "## 7.6 Fully Connected Layers\n",
    "\n",
    "The fully connected section of the network requires to flatten matrix, dense, softmax, and categorical cross-entropy functions. Each of these functions is implementations of standard formulas."
   ]
  },
  {
   "cell_type": "code",
   "execution_count": 0,
   "metadata": {
    "colab": {},
    "colab_type": "code",
    "id": "-lLDD4gIlK7Y"
   },
   "outputs": [],
   "source": [
    "def flatten(in_pool):\n",
    "    '''\n",
    "    Flattens matrices into 1-D vector\n",
    "    '''\n",
    "\tnum_pool = len(in_pool)\n",
    "\tdim_pool = in_pool[0].shape[0]\n",
    "\tflat = in_pool.reshape((num_pool * dim_pool * dim_pool, 1))\n",
    "\treturn flat\n",
    "\n",
    "def dense(input, weights, bias):\n",
    "    '''\n",
    "    Dot product between weights and input, plus the bias\n",
    "    Computes output of dense layer\n",
    "    '''\n",
    "\toutput = np.dot(weights, input) + bias\n",
    "\treturn output\n",
    "\n",
    "def softmax(out_dense):\n",
    "    '''\n",
    "    Converts output of previous layer into class probabilities\n",
    "    '''\n",
    "\treturn (np.exp(out_dense)) / (np.sum(np.exp(out_dense)))\n",
    "\n",
    "def categorical_cross_entropy(output, labels):\n",
    "    '''\n",
    "    Calculates loss of prediction and actual label\n",
    "    '''\n",
    "\treturn -np.sum(np.log(output[labels]))"
   ]
  },
  {
   "cell_type": "markdown",
   "metadata": {
    "colab_type": "text",
    "id": "BbVPXFAWlpzj"
   },
   "source": [
    "## 7.7 Backpropagation\n",
    "\n",
    "In this section, we compute gradients through each layer and save the gradients needed to train the network."
   ]
  },
  {
   "cell_type": "markdown",
   "metadata": {
    "colab_type": "text",
    "id": "hqSNbI1Uuaut"
   },
   "source": [
    "### 7.7.1 Initial Gradient\n",
    "\n",
    "The initial gradient is derived from the cross-entropy loss function and is used to begin the backpropagation process. The output of this function is then used as input to calculate the gradient of the softmax function."
   ]
  },
  {
   "cell_type": "code",
   "execution_count": 0,
   "metadata": {
    "colab": {},
    "colab_type": "code",
    "id": "vpnhcE4CuqYM"
   },
   "outputs": [],
   "source": [
    "def gradient_initial(output, label):\n",
    "    '''\n",
    "    Gradient of the cross entropy loss function\n",
    "    '''\n",
    "\tgradient_out = np.zeros((10, 1))\n",
    "\tgradient_out[label] = -1 / output[label]\n",
    "\treturn gradient_out"
   ]
  },
  {
   "cell_type": "markdown",
   "metadata": {
    "colab_type": "text",
    "id": "LM-mgBolutfe"
   },
   "source": [
    "### 7.7.2 Weight and Bias Gradients\n",
    "\n",
    "The softmax gradient is used to calculate the weight and bias gradients of the dense layers. The weight and bias gradients are used later to update the network."
   ]
  },
  {
   "cell_type": "code",
   "execution_count": 0,
   "metadata": {
    "colab": {},
    "colab_type": "code",
    "id": "Qc09TXkyvcvy"
   },
   "outputs": [],
   "source": [
    "def gradient_softmax(gradient_initial, in_dense, label):\n",
    "    '''\n",
    "    Gradient of the softmax function\n",
    "    '''\n",
    "\tin_exp = np.exp(in_dense)\n",
    "\tin_sum = np.sum(in_exp)\n",
    "\td_out = -in_exp[label] * in_exp / (in_sum ** 2)\n",
    "\td_out[label] = (in_exp[label] * (in_sum - in_exp[label])) / (in_sum ** 2)\n",
    "\td_out = gradient_initial * d_out\n",
    "\treturn d_out\n",
    "\n",
    "def gradient_dense(d_out, in_dense, in_weights):\n",
    "    '''\n",
    "    Gradient of the fully connected hidden layers\n",
    "    '''\n",
    "\td_weights = np.dot(d_out, in_dense.T)\n",
    "\td_bias = d_out\n",
    "\td_dense = np.dot(in_weights.T, d_out)\n",
    "    return d_dense, d_weights, d_bias    "
   ]
  },
  {
   "cell_type": "markdown",
   "metadata": {
    "colab_type": "text",
    "id": "PSC0nFD5vsei"
   },
   "source": [
    "### 7.7.3 Max Pool Gradient\n",
    "\n",
    "Since there are no trainable weights used in the max pool step, we simply calculate the gradient by placing the max values taken in the forward step and place them back into empty matrices. We use the output as the input gradient for the next convolutional layer."
   ]
  },
  {
   "cell_type": "code",
   "execution_count": 0,
   "metadata": {
    "colab": {},
    "colab_type": "code",
    "id": "KLmR50sxwieM"
   },
   "outputs": [],
   "source": [
    "def gradient_pool(d_dense, in_pool):\n",
    "    '''\n",
    "    Reshape fully connected gradient output into max pool output shape\n",
    "    '''\n",
    "\td_pool = d_dense.reshape(in_pool.shape)\n",
    "\treturn d_pool\n",
    "\n",
    "def maxpool_back(in_pool, d_pool, size, stride):\n",
    "\tnum_in = len(in_pool)\n",
    "\tdim_in = in_pool[0].shape[0]\n",
    "\n",
    "\td_output = np.zeros_like(in_pool)\n",
    "\n",
    "\tfor i in range(0, num_in):\n",
    "\t\ty_out = 0\n",
    "\t\tfor y in range(0, dim_in, stride):\n",
    "\t\t\tx_out = 0\n",
    "\t\t\tfor x in range(0, dim_in, stride):\n",
    "\t\t\t\tif (x + size <= dim_in and y + size <= dim_in): # places max values into empty index with same index\n",
    "\t\t\t\t\tids = np.nanargmax(in_pool[i, y:y+size, x:x+size])\n",
    "\t\t\t\t\tids = np.unravel_index(ids, in_pool[i, y:y+size, x:x+size].shape)\n",
    "\t\t\t\t\td_output[i, y:y+ids[0], x:x+ids[1]] = d_pool[i, y_out, x_out]\n",
    "\t\t\t\tx_out += 1\n",
    "\t\t\ty_out += 1\n",
    "\treturn d_output"
   ]
  },
  {
   "cell_type": "markdown",
   "metadata": {
    "colab_type": "text",
    "id": "79vPpscLxGZc"
   },
   "source": [
    "### 7.7.4 Convolution and ReLu Gradients\n",
    "\n",
    "Before calculating the gradient of the convolution layer we perform a ReLu back operation. This operation keeps 1 for all values greater than 0 and 0 for all values less than 1. \n",
    "\n",
    "The backwards convolution operation returns the filter and bias gradients needed to update the network. "
   ]
  },
  {
   "cell_type": "code",
   "execution_count": 0,
   "metadata": {
    "colab": {},
    "colab_type": "code",
    "id": "qeYzVyRDxvb0"
   },
   "outputs": [],
   "source": [
    "def relu_back(input):\n",
    "\treturn 1 * (input > 0)\n",
    " \n",
    "def convolution_back(in_conv, d_conv, filters, stride):\n",
    "\tnum_filters = len(filters)\n",
    "\tdim_filter = filters[0].shape[1]\n",
    "\tnum_in = len(in_conv)\n",
    "\tdim_in = in_conv[0].shape[0]\n",
    "\tif len(in_conv.shape) == 2:\n",
    "\t\tin_conv = np.expand_dims(in_conv, axis=0)\n",
    "\n",
    "\td_output = np.zeros_like(in_conv)\n",
    "\td_filters = np.zeros_like(filters)\n",
    "\td_bias = np.zeros((num_filters, 1))\n",
    "\n",
    "\tfor f in range(0, num_filters):\n",
    "\t\ty_out = 0\n",
    "\t\tfor y in range(0, dim_in, stride):\n",
    "\t\t\tx_out = 0\n",
    "\t\t\tfor x in range(0, dim_in, stride):\n",
    "\t\t\t\tif (x + dim_filter <= dim_in and y + dim_filter <= dim_in):\n",
    "\t\t\t\t\td_filters[f] += (d_conv[f, x_out, y_out]*in_conv[:, y:y+dim_filter, x:x+dim_filter])\n",
    "\t\t\t\t\td_output[:, y:y+dim_filter, x:x+dim_filter] += d_conv[f, x_out, y_out] * filters[f]\n",
    "\t\t\t\t\tx_out += 1\n",
    "\t\t\ty_out += 1\n",
    "\t\td_bias[f] = np.sum(d_conv[f])\n",
    "\treturn d_output, d_filters, d_bias"
   ]
  },
  {
   "cell_type": "markdown",
   "metadata": {
    "colab_type": "text",
    "id": "AK006qmQ3T4J"
   },
   "source": [
    "## 7.8 Network Pass Function\n",
    "\n",
    "This function is used to send an input through a forward and backward pass of the network, returning gradients, loss, and the output probabilities for each class. "
   ]
  },
  {
   "cell_type": "code",
   "execution_count": 0,
   "metadata": {
    "colab": {},
    "colab_type": "code",
    "id": "5SC1k8h03vyZ"
   },
   "outputs": [],
   "source": [
    "def network_pass(image, label, filters, weights, bias, pool = (2, 2)):\n",
    "\t[f1, f2, stride_f] = filters\n",
    "\t[w1, w2, w3] = weights\n",
    "\t[b1, b2, b3, b4, b5] = bias\n",
    "\t(dim_pool, stride_pool) = pool\n",
    "\ty = np.zeros((10, 1))\n",
    "\ty[label] = 1\n",
    "\n",
    "\tif len(image.shape) == 2:\n",
    "\t\timage = np.expand_dims(image, axis=0)\n",
    "\n",
    "\tconv_1 = convolution(image, f1, stride_f, b1)\n",
    "\tconv_1 = relu(conv_1)\n",
    "\tconv_2 = convolution(conv_1, f2, stride_f, b2)\n",
    "\tconv_2 = relu(conv_2)\n",
    "\tpool = maxpool(conv_2, dim_pool, stride_pool)\n",
    "\tflat = flatten(pool)\n",
    "\tdense_1 = dense(flat, w1, b3)\n",
    "\tdense_1 = relu(dense_1)\n",
    "\tdense_2 = dense(dense_1, w2, b4)\n",
    "\toutput = softmax(dense_2)\n",
    "\t\n",
    "\tloss = categorical_cross_entropy(output, label)\n",
    "\n",
    "\td_initial = gradient_initial(output, label)\n",
    "\td_out = gradient_softmax(d_initial, dense_2, label)\n",
    "\td_dense_2, d_w2, d_b4 = gradient_dense(d_out, dense_1, w2)\n",
    "\td_dense_2 = relu_back(d_dense_2)\n",
    "\td_dense_1, d_w1, d_b3 = gradient_dense(d_dense_2, flat, w1)\n",
    "\td_pool = gradient_pool(d_dense_1, pool)\n",
    "\td_conv_2 = maxpool_back(conv_2, d_pool, dim_pool, stride_pool)\n",
    "\td_conv_2 = relu_back(conv_2)\n",
    "\td_conv_1, d_f2, d_b2 = convolution_back(conv_1, d_conv_2, f2, stride_f)\n",
    "\td_conv_1 = relu_back(conv_1)\n",
    "\td_input, d_f1, d_b1 = convolution_back(image, d_conv_1, f1, stride_f)\n",
    "\t\n",
    "\n",
    "\tgradients = [d_f1, d_f2, d_w1, d_w2, d_b1, d_b2, d_b3, d_b4]\n",
    "\n",
    "\treturn loss, output, gradients"
   ]
  },
  {
   "cell_type": "markdown",
   "metadata": {
    "colab_type": "text",
    "id": "VTlPBOsK4ftR"
   },
   "source": [
    "## 7.9 Momentum Gradient Descent\n",
    "\n",
    "Each call to this function calculates the average weight gradients for a batch of inputs, then updates their respective weights according to the momentum function. "
   ]
  },
  {
   "cell_type": "code",
   "execution_count": 0,
   "metadata": {
    "colab": {},
    "colab_type": "code",
    "id": "f9Tu_umB5zdT"
   },
   "outputs": [],
   "source": [
    "def momentum_gradient_descent(X, y, v, filters, weights, bias, total_cost, accuracy, predictions, alpha, gamma):\n",
    "\t[f1, f2, stride_f] = filters\n",
    "\t[w1, w2] = weights\n",
    "\t[b1, b2, b3, b4] = bias\n",
    "\tdim_img = X[0].shape[0]\n",
    "\tbatch_cost = 0\n",
    "\tbatch_correct = 0\n",
    "\n",
    "\t[v_f1, v_f2, v_w1, v_w2, v_b1, v_b2, v_b3, v_b4] = v\n",
    "\n",
    "\td_f1 = np.zeros_like(f1)\n",
    "\td_f2 = np.zeros_like(f2)\n",
    "\td_w1 = np.zeros_like(w1)\n",
    "\td_w2 = np.zeros_like(w2)\n",
    "\td_b1 = np.zeros_like(b1)\n",
    "\td_b2 = np.zeros_like(b2)\n",
    "\td_b3 = np.zeros_like(b3)\n",
    "\td_b4 = np.zeros_like(b4)\n",
    "\n",
    "\tfor i in range(len(X)):\n",
    "\t\tinput = X[i]\n",
    "\t\tlabels = np.zeros((10, 1))\n",
    "\t\tlabels[y.iloc[i]] = 1\n",
    "\t\tloss, output, gradients = network_pass(input, labels, filters, weights, bias)\n",
    "\t\td_f1 += gradients[0]\n",
    "\t\td_f2 += gradients[1]\n",
    "\t\td_w1 += gradients[2]\n",
    "\t\td_w2 += gradients[3]\n",
    "\t\td_b1 += gradients[4]\n",
    "\t\td_b2 += gradients[5]\n",
    "\t\td_b3 += gradients[6]\n",
    "\t\td_b4 += gradients[7]\n",
    "\t\tprediction = np.nanargmax(output)\n",
    "\t\tpredictions.append(prediction)\n",
    "\t\tif prediction == y.iloc[i]:\n",
    "\t\t\tbatch_correct += 1\n",
    "\t\tbatch_cost += loss\n",
    "\n",
    "\tv_f1 = gamma * v_f1 + (1 - gamma) * (d_f1 / len(X))\n",
    "\tf1 -= alpha * v_f1\n",
    "\n",
    "\tv_f2 = gamma * v_f2 + (1 - gamma) * (d_f2 / len(X))\n",
    "\tf2 -= alpha * v_f2\n",
    "\n",
    "\tv_w1 = gamma * v_w1 + (1 - gamma) * (d_w1 / len(X))\n",
    "\tw1 -= alpha * v_w1\n",
    "\n",
    "\tv_w2 = gamma * v_w2 + (1 - gamma) * (d_w2 / len(X))\n",
    "\tw2 -= alpha * v_w2\n",
    "\n",
    "\tv_b1 = gamma * v_b1 + (1 - gamma) * (d_b1 / len(X))\n",
    "\tb1 -= alpha * v_b1\n",
    "\n",
    "\tv_b2 = gamma * v_b2 + (1 - gamma) * (d_b2 / len(X))\n",
    "\tb2 -= alpha * v_b2\n",
    "\n",
    "\tv_b3 = gamma * v_b3 + (1 - gamma) * (d_b3 / len(X))\n",
    "\tb3 -= alpha * v_b3\n",
    "\n",
    "\tv_b4 = gamma * v_b4 + (1 - gamma) * (d_b4 / len(X))\n",
    "\tb4 -= alpha * v_b4\n",
    "\n",
    "\ttotal_cost.append(batch_cost/len(X))\n",
    "\taccuracy.append(batch_correct/len(X))\n",
    "\n",
    "\tv = [v_f1, v_f2, v_w1, v_w2, v_b1, v_b2, v_b3, v_b4]\n",
    "\tfilters = [f1, f2, stride_f] \n",
    "\tweights = [w1, w2]\n",
    "\tbias = [b1, b2, b3, b4]\n",
    "\n",
    "\treturn total_cost, accuracy, predictions, filters, weights, bias, v"
   ]
  },
  {
   "cell_type": "markdown",
   "metadata": {
    "colab_type": "text",
    "id": "OvuKEpRH9y6h"
   },
   "source": [
    "## 7.10 Network Training\n",
    "\n",
    "The train function initializes the network parameters, separates input data into batches, and begins passing each batch through the momentum gradient descent function. Throughout the process, predictions, loss, accuracy, and all trainable weights are recorded and saved for future use if the training is successful. "
   ]
  },
  {
   "cell_type": "code",
   "execution_count": 0,
   "metadata": {
    "colab": {},
    "colab_type": "code",
    "id": "PquH5ANL-tqp"
   },
   "outputs": [],
   "source": [
    "def train_network(images, dim_img, labels, num_filters1, num_filters2, dim_filters, stride, alpha, gamma = 0.88, batch_size = 80, epochs = 2):\t\n",
    "\t\n",
    "    f1 = init_filter((num_filters1, 1, dim_filters, dim_filters))\n",
    "\tf2 = init_filter((num_filters2, num_filters1, dim_filters, dim_filters))\n",
    "\t\n",
    "    w1 = init_weight((128, 1152)) # changes depending on number of filters\n",
    "\tw2 = init_weight((10, 128))\n",
    "\t\n",
    "    b1 = np.zeros((num_filters1, 1))\n",
    "\tb2 = np.zeros((num_filters2, 1))\n",
    "\tb3 = np.zeros((128, 1))\n",
    "\tb4 = np.zeros((10, 1))\t\n",
    " \n",
    "    v_f1 = np.zeros_like(f1)\n",
    "    v_f2 = np.zeros_like(f2)\n",
    "    v_w1 = np.zeros_like(w1)\n",
    "    v_w2 = np.zeros_like(w2)\n",
    "    v_w3 = np.zeros_like(w3)\n",
    "    v_b1 = np.zeros_like(b1)\n",
    "    v_b2 = np.zeros_like(b2)\n",
    "    v_b3 = np.zeros_like(b3)\n",
    "    v_b4 = np.zeros_like(b4)\n",
    "    v_b5 = np.zeros_like(b5)\n",
    "    v = [v_f1, v_f2, v_w1, v_w2, v_w3, v_b1, v_b2, v_b3, v_b4, v_b5]\n",
    "\n",
    "\tfilters = [f1, f2, stride]\n",
    "\tweights = [w1, w2, w3]\n",
    "\tbiases = [b1, b2, b3, b4, b5]\n",
    "\ttotal_cost = []\n",
    "\taccuracy = []\n",
    "\tpredictions = []\n",
    "\t\n",
    "\tglobal_start = time.time()\n",
    "\n",
    "\tfor epoch in range(epochs):\n",
    "\t\t\n",
    "\t\tfor j in range(0, len(images), batch_size):\n",
    "\n",
    "\t\t\tbatch = images[j:j + batch_size]\n",
    "\t\t\tbatch_labels = labels[j:j + batch_size]\n",
    "\t\t\tstart_time = time.time()\n",
    "\t\t\ttotal_cost, accuracy, predictions, filters, weights, biases, v = momentum_gradient_descent(batch, batch_labels, v, filters, weights, biases, total_cost, accuracy, predictions, alpha, gamma = 0.9)\n",
    "\t\t\tprint(\"Epoch: {}\".format(epoch))\n",
    "\t\t\tprint(\"Batch: {}\".format((j+batch_size)/batch_size))\n",
    "\t\t\tprint(\"Loss: {:.4e}\".format(total_cost[-1]))\n",
    "\t\t\tprint(\"Accuracy: {:.4e}\".format(accuracy[-1]))\n",
    "\t\t\tprint(\"Time: {:.4e}s\".format(time.time() - start_time))\n",
    "\tprint(\"Total Time: {:.4e}s\".format(time.time() - global_start))\n",
    "\t\n",
    "\t[f1, f2, stride] = filters\n",
    "\t[w1, w2, w3] = weights\n",
    "\t[b1, b2, b3, b4, b5] = biases\n",
    "\n",
    "\tnp.save(\"f1\", f1)\n",
    "\tnp.save(\"f2\", f2)\n",
    "\tnp.save(\"w1\", w1)\n",
    "\tnp.save(\"w2\", w1)\n",
    "\tnp.save(\"b1\", b1)\n",
    "\tnp.save(\"b3\", b3)\n",
    "\tnp.save(\"b3\", b3)\n",
    "\tnp.save(\"b4\", b4)\n",
    "\tnp.save(\"cost\", total_cost)\n",
    "\tnp.save(\"accuracy\", accuracy)\n",
    "    np.save(\"predictions\", predictions)\n",
    "\t\t\t\n",
    "\treturn total_cost, accuracy, w1_batch, b1_batch, filters, weights, biases"
   ]
  }
 ],
 "metadata": {
  "colab": {
   "collapsed_sections": [],
   "name": "TF CNN.ipynb",
   "provenance": []
  },
  "kernelspec": {
   "display_name": "Python 3",
   "language": "python",
   "name": "python3"
  },
  "language_info": {
   "codemirror_mode": {
    "name": "ipython",
    "version": 3
   },
   "file_extension": ".py",
   "mimetype": "text/x-python",
   "name": "python",
   "nbconvert_exporter": "python",
   "pygments_lexer": "ipython3",
   "version": "3.6.8"
  }
 },
 "nbformat": 4,
 "nbformat_minor": 1
}
