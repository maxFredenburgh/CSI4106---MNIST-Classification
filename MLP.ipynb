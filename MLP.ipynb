{
  "nbformat": 4,
  "nbformat_minor": 0,
  "metadata": {
    "colab": {
      "name": "Full Assignment LR+MLP.ipynb",
      "provenance": [],
      "collapsed_sections": []
    },
    "kernelspec": {
      "name": "python3",
      "display_name": "Python 3"
    }
  },
  "cells": [
    {
      "cell_type": "markdown",
      "metadata": {
        "id": "H1x2-NwcclLe",
        "colab_type": "text"
      },
      "source": [
        "**Introduction**\n",
        "\n",
        "In this method for image classification using the MNIST dataset, we look at classification using different Linear Regression (LR) and Multi-Layer Perceptron (MLP) neural network models.\n",
        "\n",
        "The following notebook will compare 3 package libraries, indcluing:\n",
        "1. SKLearn\n",
        "2. Pytorch\n",
        "3. Tensorflow\n",
        "\n",
        "With these 3 libraries, we will compare the accuracy, loss, complexity, and amount of time it takes to train the models, to determine the best/most efficient library for image classification with LR and MLP models.\n"
      ]
    },
    {
      "cell_type": "markdown",
      "metadata": {
        "id": "f_6S2sugerD3",
        "colab_type": "text"
      },
      "source": [
        "**1. The Dataset**\n",
        "\n",
        "The first step is to import and manipulate the dataset for use in our models. We will import the dataset using the pandas library, split the dataset into train and test sets using sklearn's train_test_split, and normalize the data with a function we will create.\n",
        "We are also importing mathplotlib for plotting results, numpy, and datetime.\n",
        "\n",
        "The dataset is the 'train.csv' MNIST dataset from Kaggle competition DIGIT Recognizer found here:\n",
        "\n",
        "https://www.kaggle.com/c/digit-recognizer/data\n",
        "\n",
        "The Dataset has 42,000 rows and 785 columns, with 784 features (values 0-255) and 1 label (values 0-9).\n",
        "\n",
        "\n",
        "**Note that we are only using the train.csv from the kaggle dataset, since their provided test.csv does not contain labels**\n",
        "\n",
        "To start, we are only going to use the first 10000 samples of the dataset to speed up initial training and comparison of models. We will train the best/fastest models on the entire dataset later in the notebook."
      ]
    },
    {
      "cell_type": "code",
      "metadata": {
        "id": "wcLs9xHyb-OH",
        "colab_type": "code",
        "outputId": "31fdfe8d-8c2b-411e-a45c-653dfaaa8882",
        "colab": {
          "resources": {
            "http://localhost:8080/nbextensions/google.colab/files.js": {
              "data": "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",
              "ok": true,
              "headers": [
                [
                  "content-type",
                  "application/javascript"
                ]
              ],
              "status": 200,
              "status_text": ""
            }
          },
          "base_uri": "https://localhost:8080/",
          "height": 74
        }
      },
      "source": [
        "#Import libraries for reading dataset and other libraries used later on\n",
        "import pandas as pd\n",
        "import sklearn\n",
        "import matplotlib.pyplot as plt\n",
        "import numpy as np\n",
        "from sklearn.model_selection import train_test_split\n",
        "import datetime\n",
        "\n",
        "#For Google colab, import the train.csv file\n",
        "from google.colab import files\n",
        "uploaded = files.upload()"
      ],
      "execution_count": 1,
      "outputs": [
        {
          "output_type": "display_data",
          "data": {
            "text/html": [
              "\n",
              "     <input type=\"file\" id=\"files-e3e79779-bc37-42ab-9eb9-e7c579c3c38d\" name=\"files[]\" multiple disabled />\n",
              "     <output id=\"result-e3e79779-bc37-42ab-9eb9-e7c579c3c38d\">\n",
              "      Upload widget is only available when the cell has been executed in the\n",
              "      current browser session. Please rerun this cell to enable.\n",
              "      </output>\n",
              "      <script src=\"/nbextensions/google.colab/files.js\"></script> "
            ],
            "text/plain": [
              "<IPython.core.display.HTML object>"
            ]
          },
          "metadata": {
            "tags": []
          }
        },
        {
          "output_type": "stream",
          "text": [
            "Saving train.csv to train.csv\n"
          ],
          "name": "stdout"
        }
      ]
    },
    {
      "cell_type": "code",
      "metadata": {
        "id": "eGFE-uh2gd4g",
        "colab_type": "code",
        "outputId": "def79591-5b82-4613-e2ac-de7d8de73914",
        "colab": {
          "base_uri": "https://localhost:8080/",
          "height": 51
        }
      },
      "source": [
        "#Read the dataset\n",
        "train = pd.read_csv(\"train.csv\")\n",
        "#Split features and labels\n",
        "X = train.iloc[:10000, 1:]\n",
        "y = train.iloc[:10000, 0]\n",
        "#X = train.iloc[:, 1:]\n",
        "#y = train.iloc[:, 0]\n",
        "#Use train_test_split to split to train/test labels and train/test features. Train size = 70%, Test size = 30%\n",
        "X_train, X_test, y_train, y_test = train_test_split(X, y, test_size = 0.3, random_state=1)\n",
        "\n",
        "#Print sizes\n",
        "print('Train features: ',X_train.shape,', Train Labels: ',y_train.shape)\n",
        "print('Test features: ',X_test.shape,', Test Labels: ',y_test.shape)"
      ],
      "execution_count": 0,
      "outputs": [
        {
          "output_type": "stream",
          "text": [
            "Train features:  (7000, 784) , Train Labels:  (7000,)\n",
            "Test features:  (3000, 784) , Test Labels:  (3000,)\n"
          ],
          "name": "stdout"
        }
      ]
    },
    {
      "cell_type": "markdown",
      "metadata": {
        "id": "EYBYehaYkDRv",
        "colab_type": "text"
      },
      "source": [
        "Next, we normalize the data by coverting the images from gray-scale to black and white. This is done by dividing each pixel by 255 and rounding to either 0 or 1. Pixels with values less than 127.5 will become 0, and values greater will become 1. This is to simplify the one-hot process."
      ]
    },
    {
      "cell_type": "code",
      "metadata": {
        "id": "yBP54jhqihOu",
        "colab_type": "code",
        "colab": {}
      },
      "source": [
        "#function to convert grayscal to black and white\n",
        "#format data ONLY RUN ONCE\n",
        "def format_data(x):\n",
        "    return int(round(x/255))\n",
        "X_train = X_train.applymap(format_data)\n",
        "X_test = X_test.applymap(format_data)"
      ],
      "execution_count": 0,
      "outputs": []
    },
    {
      "cell_type": "markdown",
      "metadata": {
        "id": "4ivb1sJllqHl",
        "colab_type": "text"
      },
      "source": [
        "Plotting class distribution across labels shows that labels are fairly represented."
      ]
    },
    {
      "cell_type": "code",
      "metadata": {
        "id": "FN0pvNWblij0",
        "colab_type": "code",
        "outputId": "a5a1a3df-9e03-44ac-fb3d-4530238d1ea2",
        "colab": {
          "base_uri": "https://localhost:8080/",
          "height": 278
        }
      },
      "source": [
        "#Show distribution of each class\n",
        "plt.figure() # Creates a new figure\n",
        "y_train.value_counts().plot(kind=\"bar\", title=\"Class Distribution\")\n",
        "plt.show()"
      ],
      "execution_count": 0,
      "outputs": [
        {
          "output_type": "display_data",
          "data": {
            "image/png": "[encoded data removed]",
            "text/plain": [
              "<Figure size 432x288 with 1 Axes>"
            ]
          },
          "metadata": {
            "tags": []
          }
        }
      ]
    },
    {
      "cell_type": "markdown",
      "metadata": {
        "id": "jccuZ00ImAPz",
        "colab_type": "text"
      },
      "source": [
        "**2. SKLearn LR and MLP**\n",
        "\n",
        "In this step, we create LR and MLP models using SKLearn. This will act as a baseline to compare Pytorch and Tensorflow, since SKLearn has already been covered in the notebooks for this course.\n",
        "\n",
        "**2a. Linear Regression with SKLearn**"
      ]
    },
    {
      "cell_type": "code",
      "metadata": {
        "id": "AjAbDHWIlmDd",
        "colab_type": "code",
        "colab": {}
      },
      "source": [
        "#Import Linear Regression\n",
        "from sklearn.linear_model import LinearRegression\n",
        "model_sklr = LinearRegression()"
      ],
      "execution_count": 0,
      "outputs": []
    },
    {
      "cell_type": "code",
      "metadata": {
        "id": "RYKaCD-Sqdaw",
        "colab_type": "code",
        "outputId": "4a6a8a9c-1b11-45f2-92fc-02f465c19939",
        "colab": {
          "base_uri": "https://localhost:8080/",
          "height": 34
        }
      },
      "source": [
        "#Train the mdoel\n",
        "model_sklr.fit(X_train,y_train)\n",
        "#print scores\n",
        "print('Train score:',model_sklr.score(X_train,y_train),', Test score:', model_sklr.score(X_test,y_test))"
      ],
      "execution_count": 0,
      "outputs": [
        {
          "output_type": "stream",
          "text": [
            "Train score: 0.6393655805933738 , Test score: -5.932812308119847e+20\n"
          ],
          "name": "stdout"
        }
      ]
    },
    {
      "cell_type": "markdown",
      "metadata": {
        "id": "ssyWPyhis6gZ",
        "colab_type": "text"
      },
      "source": [
        "This model performs very poorly. In terms of complexity and time cost, it is very easy to implement and is fast running; however, the training score is relatively low, and the model is extremely over-fitted to the train data, shown by the score of -593% on the test data."
      ]
    },
    {
      "cell_type": "markdown",
      "metadata": {
        "id": "_oIRRkW1s_o5",
        "colab_type": "text"
      },
      "source": [
        "**2b. MLP with SKLearn**"
      ]
    },
    {
      "cell_type": "code",
      "metadata": {
        "id": "Fgz_hu4utHGs",
        "colab_type": "code",
        "outputId": "ca4dd3eb-cc26-4075-d5e8-4824ad562112",
        "colab": {
          "base_uri": "https://localhost:8080/",
          "height": 34
        }
      },
      "source": [
        "#Import MLP\n",
        "from sklearn.neural_network import MLPClassifier\n",
        "model_skmlp=MLPClassifier(solver='adam',hidden_layer_sizes=350,alpha=1e-08)\n",
        "#Train model\n",
        "model_skmlp.fit(X_train, y_train)\n",
        "#Print scores\n",
        "print('Train score:',model_skmlp.score(X_train,y_train),', Test score:', model_skmlp.score(X_test,y_test))"
      ],
      "execution_count": 0,
      "outputs": [
        {
          "output_type": "stream",
          "text": [
            "Train score: 1.0 , Test score: 0.947\n"
          ],
          "name": "stdout"
        }
      ]
    },
    {
      "cell_type": "markdown",
      "metadata": {
        "id": "na7BKOwour95",
        "colab_type": "text"
      },
      "source": [
        "This model performs fairly well. It is easy and fast to implement, and produces great scores on the training and test data. The model is over-fitted to the training data by about 5.3%, but the test data still produces a good score at 94.7%.\n",
        "\n",
        "Since the MLP model performed better than LR model, we will use the MLP model with SKLearn to judge the performance of LR and MLP models with Pytorch and Tensorflow."
      ]
    },
    {
      "cell_type": "markdown",
      "metadata": {
        "id": "w1foWSu3uvx5",
        "colab_type": "text"
      },
      "source": [
        "**3. PyTorch LR and MLP**\n",
        "\n",
        "In this section, we will implement LR and MLP models with Pytorch. To start, we need to import the proper packages and convert the train/test data from numpy arrays to tensor variables."
      ]
    },
    {
      "cell_type": "code",
      "metadata": {
        "id": "LALv7YprmiO5",
        "colab_type": "code",
        "colab": {}
      },
      "source": [
        "#import torch packages\n",
        "import torch\n",
        "import torch.nn as nn\n",
        "from torch.autograd import Variable\n",
        "import torch.nn.functional as F\n",
        "\n",
        "#Numpy to tensor\n",
        "X_train_torch = torch.from_numpy(X_train.values)\n",
        "y_train_torch = torch.from_numpy(y_train.values).type(torch.LongTensor)\n",
        "X_test_torch = torch.from_numpy(X_test.values)\n",
        "y_test_torch = torch.from_numpy(y_test.values).type(torch.LongTensor)"
      ],
      "execution_count": 0,
      "outputs": []
    },
    {
      "cell_type": "markdown",
      "metadata": {
        "id": "Hf4mYhwoDzpx",
        "colab_type": "text"
      },
      "source": [
        "Next, we define parameters for training the data. I know from previous experience that Pytorch performs very slowly, and so I define a low number of 5 epochs and a batch size of 500. We are using a small number of epochs because, as we will see, the Pytorch models take a very long time to execute."
      ]
    },
    {
      "cell_type": "code",
      "metadata": {
        "id": "-Zn74SqTxv5G",
        "colab_type": "code",
        "colab": {}
      },
      "source": [
        "num_epochs = 5\n",
        "batch_size = 500\n",
        "train_size = len(X_train_torch)\n",
        "n_batches=train_size//batch_size"
      ],
      "execution_count": 0,
      "outputs": []
    },
    {
      "cell_type": "markdown",
      "metadata": {
        "id": "gOzjwLsPvbZM",
        "colab_type": "text"
      },
      "source": [
        "**3a. LR with Pytorch**\n",
        "\n",
        "First we define the LR Model. The format for defining the model is similar to the MLP model, except Linear regression only has an input/output layer and no hidden layers."
      ]
    },
    {
      "cell_type": "code",
      "metadata": {
        "id": "PxHheTWuvgAX",
        "colab_type": "code",
        "colab": {}
      },
      "source": [
        "#Define the model\n",
        "class LRModelPy(torch.nn.Module): \n",
        "    def __init__(self): \n",
        "        super(LRModelPy, self).__init__() \n",
        "        self.linear = torch.nn.Linear(28*28, 10)\n",
        "  \n",
        "    def forward(self, x): \n",
        "        y_pred = self.linear(x) \n",
        "        return y_pred \n",
        "model_lr_pytorch = LRModelPy() "
      ],
      "execution_count": 0,
      "outputs": []
    },
    {
      "cell_type": "markdown",
      "metadata": {
        "id": "w939MLFgCfWf",
        "colab_type": "text"
      },
      "source": [
        "Here we define Cross-entropy as our loss function and Stochastic Gradient Descent as our optimizer."
      ]
    },
    {
      "cell_type": "code",
      "metadata": {
        "id": "UakSqyy8v36P",
        "colab_type": "code",
        "colab": {}
      },
      "source": [
        "criterion = nn.CrossEntropyLoss() \n",
        "optimizer_lr_py = torch.optim.SGD(model_lr_pytorch.parameters(), lr = 0.01)"
      ],
      "execution_count": 0,
      "outputs": []
    },
    {
      "cell_type": "markdown",
      "metadata": {
        "id": "Rtv5Z-ebhe-f",
        "colab_type": "text"
      },
      "source": [
        "Define lists to keep track of score and loss for epochs."
      ]
    },
    {
      "cell_type": "code",
      "metadata": {
        "id": "7uYc3f5DxSqB",
        "colab_type": "code",
        "colab": {}
      },
      "source": [
        "loss_epoch=[]\n",
        "score_epoch=[]"
      ],
      "execution_count": 0,
      "outputs": []
    },
    {
      "cell_type": "markdown",
      "metadata": {
        "id": "CBQVETzuhkz1",
        "colab_type": "text"
      },
      "source": [
        "Training the model with the train data.\n",
        "\n",
        "optimizer_lr_py.step() performs a parameter update based on the current gradient.\n",
        "\n",
        "loss.backward() accumulates the gradient for each parameter."
      ]
    },
    {
      "cell_type": "code",
      "metadata": {
        "id": "O9j98AHuv4DT",
        "colab_type": "code",
        "outputId": "bcef74fe-90de-441f-ddb6-a710ce5800ca",
        "colab": {
          "base_uri": "https://localhost:8080/",
          "height": 136
        }
      },
      "source": [
        "print('Starting at ',str(datetime.datetime.now()))\n",
        "correct=0\n",
        "#For num of epochs (5)\n",
        "for epoch in range(num_epochs):\n",
        "  score_batch=[]\n",
        "  loss_batch=[] \n",
        "  #For every sample\n",
        "  for i in range(train_size): \n",
        "    #Reshaping features\n",
        "        images = Variable(X_train_torch.view(-1, 28 * 28)) \n",
        "        labels = Variable(y_train_torch) \n",
        "  \n",
        "        # Forward + Backward + Optimize \n",
        "        optimizer_lr_py.zero_grad() \n",
        "        #Predict based on features and labels\n",
        "        outputs = model_lr_pytorch(images.float()) \n",
        "        loss = criterion(outputs, labels) \n",
        "        loss.backward() \n",
        "        optimizer_lr_py.step() \n",
        "        _, predicted = torch.max(outputs.data, 1)\n",
        "        predicted = predicted.data[i]\n",
        "        #if prediction is correct, +1 to correct\n",
        "        if(predicted==labels.data[i]):\n",
        "          correct += 1\n",
        "\n",
        "        #Calculate the score at every batch step (500)\n",
        "        if (i + 1) % batch_size == 0: \n",
        "          loss_batch.append(loss.item())\n",
        "          score_batch.append(correct/batch_size)\n",
        "          #print('batch: [',(i+1)//500,'/',n_batches,']','loss: ',loss.item(),' score: ',correct/batch_size)\n",
        "          correct=0\n",
        "  score_epoch.append(sum(score_batch)/n_batches)\n",
        "  loss_epoch.append(sum(loss_batch)/n_batches)\n",
        "  print('Epoch: [',epoch+1,'/',num_epochs,'], avg_batch_loss: [',loss_epoch[epoch],'], avg_batch_score: [',score_epoch[epoch],']')\n",
        "print('Done at ', str(datetime.datetime.now()))"
      ],
      "execution_count": 0,
      "outputs": [
        {
          "output_type": "stream",
          "text": [
            "Starting at  2019-12-01 18:42:16.569792\n",
            "Epoch: [ 1 / 5 ], avg_batch_loss: [ 0.43791893124580383 ], avg_batch_score: [ 0.884 ]\n",
            "Epoch: [ 2 / 5 ], avg_batch_loss: [ 0.3056463875940868 ], avg_batch_score: [ 0.9178571428571429 ]\n",
            "Epoch: [ 3 / 5 ], avg_batch_loss: [ 0.26812206847327097 ], avg_batch_score: [ 0.9281428571428572 ]\n",
            "Epoch: [ 4 / 5 ], avg_batch_loss: [ 0.24498853938920157 ], avg_batch_score: [ 0.9352857142857145 ]\n",
            "Epoch: [ 5 / 5 ], avg_batch_loss: [ 0.22815307761941636 ], avg_batch_score: [ 0.9394285714285715 ]\n",
            "Done at  2019-12-01 18:56:59.834206\n"
          ],
          "name": "stdout"
        }
      ]
    },
    {
      "cell_type": "code",
      "metadata": {
        "id": "onJElFZ0FnX8",
        "colab_type": "code",
        "outputId": "1f673c51-cd49-4bbd-b452-7f8d2effcfe5",
        "colab": {
          "base_uri": "https://localhost:8080/",
          "height": 34
        }
      },
      "source": [
        "#Print the Average epoch score for training\n",
        "lr_py_train_acc = sum(score_epoch)/len(score_epoch)\n",
        "print('Average score across epochs: ',lr_py_train_acc)"
      ],
      "execution_count": 0,
      "outputs": [
        {
          "output_type": "stream",
          "text": [
            "Average score across epochs:  0.9209428571428573\n"
          ],
          "name": "stdout"
        }
      ]
    },
    {
      "cell_type": "code",
      "metadata": {
        "id": "oVb8WX4av4Fr",
        "colab_type": "code",
        "outputId": "5d329413-8b4d-495c-9d80-2b43b779b398",
        "colab": {
          "base_uri": "https://localhost:8080/",
          "height": 34
        }
      },
      "source": [
        "#Test the model\n",
        "correct = 0\n",
        "total = 0\n",
        "for i in range(len(X_test_torch)): \n",
        "    images = Variable(X_test_torch.view(-1, 28 * 28)) \n",
        "    outputs = model_lr_pytorch(images.float()) \n",
        "    _, predicted = torch.max(outputs.data, 1) \n",
        "    total += y_test_torch.size(0) \n",
        "    correct += (predicted == y_test_torch).sum() \n",
        "test_score_lrpy = 100 * correct / total\n",
        "  \n",
        "print('Accuracy of the model on the',len(X_test_torch),' test images: % d %%' % test_score_lrpy)"
      ],
      "execution_count": 0,
      "outputs": [
        {
          "output_type": "stream",
          "text": [
            "Accuracy of the model on the 3000  test images:  90 %\n"
          ],
          "name": "stdout"
        }
      ]
    },
    {
      "cell_type": "markdown",
      "metadata": {
        "id": "lOpRj60s-WNJ",
        "colab_type": "text"
      },
      "source": [
        "The score of this model is decently high, at 90% - however - not as high as the MLP model with SKLearn (94%). Not only is the score not as good, but, as you can see, the implementation is much more complicated, and training on just 5 epochs takes much more time (~17 minutes). Let's see how MLP with Pytorch compares."
      ]
    },
    {
      "cell_type": "markdown",
      "metadata": {
        "id": "puWNk4RY-ZOw",
        "colab_type": "text"
      },
      "source": [
        "**3b. MLP with PyTorch**\n",
        "\n",
        "First, define the model. Here we have 3 layers: 1 input layer, 1 hidden layer, and 1 output layer."
      ]
    },
    {
      "cell_type": "code",
      "metadata": {
        "id": "Eqb5nOEJ-YFu",
        "colab_type": "code",
        "outputId": "4c984603-4713-4c34-ec36-07d37e558002",
        "colab": {
          "base_uri": "https://localhost:8080/",
          "height": 119
        }
      },
      "source": [
        "class MLPModelPy(nn.Module):\n",
        "    def __init__(self):\n",
        "        super(MLPModelPy, self).__init__()\n",
        "        self.fc1 = nn.Linear(28 * 28, 512)\n",
        "        # linear layer (n_hidden -> hidden_2)\n",
        "        self.fc2 = nn.Linear(512, 512)\n",
        "        # linear layer (n_hidden -> 10)\n",
        "        self.fc3 = nn.Linear(512, 10)\n",
        "        # dropout layer (p=0.2)\n",
        "        # dropout prevents overfitting of data\n",
        "        self.dropout = nn.Dropout(0.2)\n",
        "\n",
        "    def forward(self, x):\n",
        "        # flatten image input\n",
        "        x = x.view(-1, 28 * 28)\n",
        "        # add hidden layer, with relu activation function\n",
        "        x = F.relu(self.fc1(x))\n",
        "        return x\n",
        "\n",
        "# initialize the NN\n",
        "model_mlp_pytroch = MLPModelPy()\n",
        "print(model_mlp_pytroch)"
      ],
      "execution_count": 0,
      "outputs": [
        {
          "output_type": "stream",
          "text": [
            "MLPModelPy(\n",
            "  (fc1): Linear(in_features=784, out_features=512, bias=True)\n",
            "  (fc2): Linear(in_features=512, out_features=512, bias=True)\n",
            "  (fc3): Linear(in_features=512, out_features=10, bias=True)\n",
            "  (dropout): Dropout(p=0.2, inplace=False)\n",
            ")\n"
          ],
          "name": "stdout"
        }
      ]
    },
    {
      "cell_type": "code",
      "metadata": {
        "id": "-RKlizXxv4II",
        "colab_type": "code",
        "colab": {}
      },
      "source": [
        "optimizer_mlp = torch.optim.SGD(model_mlp_pytroch.parameters(), lr=0.01)"
      ],
      "execution_count": 0,
      "outputs": []
    },
    {
      "cell_type": "code",
      "metadata": {
        "id": "p-5QWAycv4K8",
        "colab_type": "code",
        "colab": {}
      },
      "source": [
        "loss_epoch_mlp=[]\n",
        "score_epoch_mlp=[]"
      ],
      "execution_count": 0,
      "outputs": []
    },
    {
      "cell_type": "code",
      "metadata": {
        "id": "licXfSyRv4PC",
        "colab_type": "code",
        "outputId": "4207eb60-ff36-4baf-e4d6-9b7c6bedf230",
        "colab": {
          "base_uri": "https://localhost:8080/",
          "height": 136
        }
      },
      "source": [
        "model_mlp_pytroch.train() # prep model for training\n",
        "print('Starting at ',str(datetime.datetime.now()))\n",
        "correct=0\n",
        "\n",
        "for epoch in range(num_epochs):\n",
        "  score_batch=[]\n",
        "  loss_batch=[] \n",
        "  for i in range(train_size):\n",
        "      # clear the gradients of all optimized variables\n",
        "      optimizer_mlp.zero_grad()\n",
        "      # forward pass: compute predicted outputs by passing inputs to the model\n",
        "      output = model_mlp_pytroch(X_train_torch.float())\n",
        "      # calculate the loss\n",
        "      loss = criterion(output, y_train_torch)\n",
        "      # backward pass: compute gradient of the loss with respect to model parameters\n",
        "      loss.backward()\n",
        "      # perform a single optimization step (parameter update)\n",
        "      optimizer_mlp.step()\n",
        "      #validation\n",
        "      _, pred = torch.max(output, 1)\n",
        "      if(pred[i]==y_train_torch[i]):\n",
        "        correct+=1\n",
        "\n",
        "      if (i + 1) % batch_size == 0: \n",
        "        loss_batch.append(loss.item())\n",
        "        score_batch.append(correct/batch_size)\n",
        "        #print('batch: [',(i+1)//500,'/',n_batches,']','loss: ',loss.item(),' score: ',correct/batch_size)\n",
        "        correct=0\n",
        "\n",
        "  score_epoch_mlp.append(sum(score_batch)/n_batches)\n",
        "  loss_epoch_mlp.append(sum(loss_batch)/n_batches)\n",
        "  print('Epoch: [',epoch+1,'/',num_epochs,'], avg_batch_loss: [',loss_epoch_mlp[epoch],'], avg_batch_score: [',score_epoch_mlp[epoch],']')\n",
        "print('Done at ', str(datetime.datetime.now()))"
      ],
      "execution_count": 0,
      "outputs": [
        {
          "output_type": "stream",
          "text": [
            "Starting at  2019-12-01 19:45:04.633666\n",
            "Epoch: [ 1 / 5 ], avg_batch_loss: [ 0.45235461635249 ], avg_batch_score: [ 0.8777142857142858 ]\n",
            "Epoch: [ 2 / 5 ], avg_batch_loss: [ 0.30764179144586834 ], avg_batch_score: [ 0.9175714285714287 ]\n",
            "Epoch: [ 3 / 5 ], avg_batch_loss: [ 0.26908459833690096 ], avg_batch_score: [ 0.9278571428571428 ]\n",
            "Epoch: [ 4 / 5 ], avg_batch_loss: [ 0.24553003907203674 ], avg_batch_score: [ 0.9348571428571429 ]\n",
            "Epoch: [ 5 / 5 ], avg_batch_loss: [ 0.22846691949026926 ], avg_batch_score: [ 0.9391428571428574 ]\n",
            "Done at  2019-12-01 21:52:00.292000\n"
          ],
          "name": "stdout"
        }
      ]
    },
    {
      "cell_type": "code",
      "metadata": {
        "id": "ZjGu0VHtGLgY",
        "colab_type": "code",
        "outputId": "476f1aa6-3d14-4e0c-c3d4-3cdce09664ae",
        "colab": {
          "base_uri": "https://localhost:8080/",
          "height": 34
        }
      },
      "source": [
        "mlp_py_train_acc = sum(score_epoch_mlp)/len(score_epoch_mlp)\n",
        "print('Average score across epochs: ',mlp_py_train_acc)"
      ],
      "execution_count": 0,
      "outputs": [
        {
          "output_type": "stream",
          "text": [
            "Average score across epochs:  0.9194285714285716\n"
          ],
          "name": "stdout"
        }
      ]
    },
    {
      "cell_type": "code",
      "metadata": {
        "id": "NlRkGlY_v4N0",
        "colab_type": "code",
        "outputId": "bc5af5da-2b45-4088-cf9a-e06332f6b4ad",
        "colab": {
          "base_uri": "https://localhost:8080/",
          "height": 34
        }
      },
      "source": [
        " # Test the Model\n",
        "model_mlp_pytroch.eval() \n",
        "correct = 0\n",
        "total = len(X_test_torch)\n",
        "for i in range(len(X_test_torch)): \n",
        "    outputs = model_mlp_pytroch(X_test_torch.float()) \n",
        "    _, predicted = torch.max(outputs.data, 1)\n",
        "    if(pred[i]==y_train_torch[i]):\n",
        "          correct+=1\n",
        "test_score_mlppy = 100 * correct / total\n",
        "  \n",
        "print('Accuracy of the model on the',len(X_test_torch),' test images: % d %%' % test_score_mlppy)"
      ],
      "execution_count": 0,
      "outputs": [
        {
          "output_type": "stream",
          "text": [
            "Accuracy of the model on the 3000  test images:  94 %\n"
          ],
          "name": "stdout"
        }
      ]
    },
    {
      "cell_type": "markdown",
      "metadata": {
        "id": "XRxTMZ10k1xz",
        "colab_type": "text"
      },
      "source": [
        "This model performs better than LR with Pytorch, at 94% (the same score as MLP with SKLearn), but takes far too long to learn (about 2 hours and 10 mins!). So far, MLP with SKLearn is still the best model to use on the MNIST Dataset.\n",
        "\n",
        "**3d. Discussion**\n",
        "\n",
        "Below is 2 Graphs. The first graph plots the scores of each model over 5 epochs, and the second graph plots the loss of each model over 5 epochs. As you can see, they are very similar."
      ]
    },
    {
      "cell_type": "code",
      "metadata": {
        "id": "FqJ3Jvqfv39d",
        "colab_type": "code",
        "outputId": "b2c63693-95c1-46f7-a7f7-b2131943cbe7",
        "colab": {
          "base_uri": "https://localhost:8080/",
          "height": 573
        }
      },
      "source": [
        "plt.plot(score_epoch)\n",
        "plt.plot(score_epoch_mlp)\n",
        "plt.title('LR vs. MLP accuracy')\n",
        "plt.ylabel('accuracy')\n",
        "plt.xlabel('epoch')\n",
        "plt.legend(['LR','MLP'], loc='upper left')\n",
        "plt.show()\n",
        "\n",
        "plt.plot(loss_epoch)\n",
        "plt.plot(loss_epoch_mlp)\n",
        "plt.title('LR vs. MLP loss')\n",
        "plt.ylabel('loss')\n",
        "plt.xlabel('epoch')\n",
        "plt.legend(['LR','MLP'], loc='upper left')\n",
        "plt.show()"
      ],
      "execution_count": 0,
      "outputs": [
        {
          "output_type": "display_data",
          "data": {
            "image/png": "[encoded data removed]",
            "text/plain": [
              "<Figure size 432x288 with 1 Axes>"
            ]
          },
          "metadata": {
            "tags": []
          }
        },
        {
          "output_type": "display_data",
          "data": {
            "image/png": "[encoded data removed]",
            "text/plain": [
              "<Figure size 432x288 with 1 Axes>"
            ]
          },
          "metadata": {
            "tags": []
          }
        }
      ]
    },
    {
      "cell_type": "markdown",
      "metadata": {
        "id": "ILwesYC1lupi",
        "colab_type": "text"
      },
      "source": [
        "To conclude the section on Pytorch, both LR and MLP models performed well score-wise, but not better than MLP with SKLearn. Due to the complexity of implementing these models and the time cost of training, it is fair to say that overall, MLP with SKLearn performs better than LR and MLP with Pytorch.\n",
        "\n",
        "It is also worth mentioning here that Pytorch is the reason for using only 10K samples of the dataset and not the full 42K sample size. With the MLP model taking over 2 hours to train with only 5 epochs and 10k samples, there was not enough time to wait for training to complete on the entire dataset. Futher on, we will demostrate training with the entire dataset with Tensorflow, but first, lets see how Tensorflow compares to SKlearn and Pytorch with the same training data. "
      ]
    },
    {
      "cell_type": "markdown",
      "metadata": {
        "id": "NGaeGf-Nx2VS",
        "colab_type": "text"
      },
      "source": [
        "**4. Tensorflow**\n",
        "\n",
        "To start with tensor flow, we have to import the tensorflow package and convert the data (currently stored as pandas dataframes) to lists."
      ]
    },
    {
      "cell_type": "code",
      "metadata": {
        "id": "M_BOaSrWx6CZ",
        "colab_type": "code",
        "outputId": "839e638f-cb92-46f0-ba27-3641375f8474",
        "colab": {
          "base_uri": "https://localhost:8080/",
          "height": 63
        }
      },
      "source": [
        "import tensorflow as tf"
      ],
      "execution_count": 2,
      "outputs": [
        {
          "output_type": "display_data",
          "data": {
            "text/html": [
              "<p style=\"color: red;\">\n",
              "The default version of TensorFlow in Colab will soon switch to TensorFlow 2.x.<br>\n",
              "We recommend you <a href=\"https://www.tensorflow.org/guide/migrate\" target=\"_blank\">upgrade</a> now \n",
              "or ensure your notebook will continue to use TensorFlow 1.x via the <code>%tensorflow_version 1.x</code> magic:\n",
              "<a href=\"https://colab.research.google.com/notebooks/tensorflow_version.ipynb\" target=\"_blank\">more info</a>.</p>\n"
            ],
            "text/plain": [
              "<IPython.core.display.HTML object>"
            ]
          },
          "metadata": {
            "tags": []
          }
        }
      ]
    },
    {
      "cell_type": "code",
      "metadata": {
        "id": "8aMlO1qpyEnm",
        "colab_type": "code",
        "colab": {}
      },
      "source": [
        "images_train=X_train.values\n",
        "labels_train=y_train.values\n",
        "\n",
        "images_test=X_test.values\n",
        "labels_test=y_test.values"
      ],
      "execution_count": 0,
      "outputs": []
    },
    {
      "cell_type": "markdown",
      "metadata": {
        "id": "QgV1LY5Yx6o5",
        "colab_type": "text"
      },
      "source": [
        "**4a. LR with Tensor Flow**\n",
        "\n",
        "Here we define the model for Linear Regression, with an input layer and an output layer. For this model we are using the adam optimizer and cross-entropy loss function."
      ]
    },
    {
      "cell_type": "code",
      "metadata": {
        "id": "wKZQB9acyMD7",
        "colab_type": "code",
        "outputId": "1452f2ad-3d49-458d-affd-4af27f06a3ea",
        "colab": {
          "base_uri": "https://localhost:8080/",
          "height": 88
        }
      },
      "source": [
        "modelLRtf = tf.keras.models.Sequential([\n",
        "  tf.keras.layers.Flatten(input_shape=(28, 28)),\n",
        "  tf.keras.layers.Dense(10, activation='softmax')\n",
        "])\n",
        "\n",
        "modelLRtf.compile(optimizer='adam',\n",
        "              loss='sparse_categorical_crossentropy',\n",
        "              metrics=['accuracy'])\n"
      ],
      "execution_count": 0,
      "outputs": [
        {
          "output_type": "stream",
          "text": [
            "WARNING:tensorflow:From /usr/local/lib/python3.6/dist-packages/tensorflow_core/python/ops/resource_variable_ops.py:1630: calling BaseResourceVariable.__init__ (from tensorflow.python.ops.resource_variable_ops) with constraint is deprecated and will be removed in a future version.\n",
            "Instructions for updating:\n",
            "If using Keras pass *_constraint arguments to layers.\n"
          ],
          "name": "stdout"
        }
      ]
    },
    {
      "cell_type": "markdown",
      "metadata": {
        "id": "-wqE7ey_qZFA",
        "colab_type": "text"
      },
      "source": [
        "Train the model with the train data. We are training with 50 epochs and a batch size of 500 samples. We are also using 1/3 of the data for validation, to measure how performance increases over epochs and track over-fitting."
      ]
    },
    {
      "cell_type": "code",
      "metadata": {
        "id": "gLX59JCXySKr",
        "colab_type": "code",
        "outputId": "337877ab-905c-4ee2-ace4-b5f3fabb2c7c",
        "colab": {
          "base_uri": "https://localhost:8080/",
          "height": 1000
        }
      },
      "source": [
        "model_lr_tf = modelLRtf.fit(images_train.reshape(-1,28,28), labels_train, validation_split=0.33, epochs=50, batch_size=500)\n"
      ],
      "execution_count": 0,
      "outputs": [
        {
          "output_type": "stream",
          "text": [
            "Train on 4689 samples, validate on 2311 samples\n",
            "Epoch 1/50\n",
            "4689/4689 [==============================] - 0s 97us/sample - loss: 2.1863 - acc: 0.2386 - val_loss: 1.9327 - val_acc: 0.4029\n",
            "Epoch 2/50\n",
            "4689/4689 [==============================] - 0s 24us/sample - loss: 1.7894 - acc: 0.5131 - val_loss: 1.5986 - val_acc: 0.6071\n",
            "Epoch 3/50\n",
            "4689/4689 [==============================] - 0s 26us/sample - loss: 1.4873 - acc: 0.6556 - val_loss: 1.3409 - val_acc: 0.7075\n",
            "Epoch 4/50\n",
            "4689/4689 [==============================] - 0s 24us/sample - loss: 1.2621 - acc: 0.7283 - val_loss: 1.1553 - val_acc: 0.7620\n",
            "Epoch 5/50\n",
            "4689/4689 [==============================] - 0s 26us/sample - loss: 1.0986 - acc: 0.7643 - val_loss: 1.0196 - val_acc: 0.7888\n",
            "Epoch 6/50\n",
            "4689/4689 [==============================] - 0s 25us/sample - loss: 0.9771 - acc: 0.7912 - val_loss: 0.9191 - val_acc: 0.8083\n",
            "Epoch 7/50\n",
            "4689/4689 [==============================] - 0s 27us/sample - loss: 0.8865 - acc: 0.8093 - val_loss: 0.8421 - val_acc: 0.8209\n",
            "Epoch 8/50\n",
            "4689/4689 [==============================] - 0s 26us/sample - loss: 0.8153 - acc: 0.8243 - val_loss: 0.7832 - val_acc: 0.8321\n",
            "Epoch 9/50\n",
            "4689/4689 [==============================] - 0s 25us/sample - loss: 0.7590 - acc: 0.8332 - val_loss: 0.7353 - val_acc: 0.8395\n",
            "Epoch 10/50\n",
            "4689/4689 [==============================] - 0s 25us/sample - loss: 0.7133 - acc: 0.8405 - val_loss: 0.6961 - val_acc: 0.8434\n",
            "Epoch 11/50\n",
            "4689/4689 [==============================] - 0s 25us/sample - loss: 0.6745 - acc: 0.8507 - val_loss: 0.6632 - val_acc: 0.8516\n",
            "Epoch 12/50\n",
            "4689/4689 [==============================] - 0s 26us/sample - loss: 0.6423 - acc: 0.8573 - val_loss: 0.6355 - val_acc: 0.8563\n",
            "Epoch 13/50\n",
            "4689/4689 [==============================] - 0s 26us/sample - loss: 0.6142 - acc: 0.8633 - val_loss: 0.6118 - val_acc: 0.8615\n",
            "Epoch 14/50\n",
            "4689/4689 [==============================] - 0s 26us/sample - loss: 0.5899 - acc: 0.8644 - val_loss: 0.5907 - val_acc: 0.8615\n",
            "Epoch 15/50\n",
            "4689/4689 [==============================] - 0s 27us/sample - loss: 0.5685 - acc: 0.8693 - val_loss: 0.5726 - val_acc: 0.8659\n",
            "Epoch 16/50\n",
            "4689/4689 [==============================] - 0s 28us/sample - loss: 0.5492 - acc: 0.8742 - val_loss: 0.5566 - val_acc: 0.8685\n",
            "Epoch 17/50\n",
            "4689/4689 [==============================] - 0s 26us/sample - loss: 0.5320 - acc: 0.8761 - val_loss: 0.5420 - val_acc: 0.8706\n",
            "Epoch 18/50\n",
            "4689/4689 [==============================] - 0s 26us/sample - loss: 0.5165 - acc: 0.8795 - val_loss: 0.5288 - val_acc: 0.8728\n",
            "Epoch 19/50\n",
            "4689/4689 [==============================] - 0s 29us/sample - loss: 0.5027 - acc: 0.8812 - val_loss: 0.5183 - val_acc: 0.8736\n",
            "Epoch 20/50\n",
            "4689/4689 [==============================] - 0s 25us/sample - loss: 0.4897 - acc: 0.8844 - val_loss: 0.5067 - val_acc: 0.8780\n",
            "Epoch 21/50\n",
            "4689/4689 [==============================] - 0s 26us/sample - loss: 0.4777 - acc: 0.8863 - val_loss: 0.4972 - val_acc: 0.8801\n",
            "Epoch 22/50\n",
            "4689/4689 [==============================] - 0s 26us/sample - loss: 0.4669 - acc: 0.8897 - val_loss: 0.4888 - val_acc: 0.8827\n",
            "Epoch 23/50\n",
            "4689/4689 [==============================] - 0s 25us/sample - loss: 0.4567 - acc: 0.8923 - val_loss: 0.4807 - val_acc: 0.8823\n",
            "Epoch 24/50\n",
            "4689/4689 [==============================] - 0s 26us/sample - loss: 0.4473 - acc: 0.8923 - val_loss: 0.4730 - val_acc: 0.8827\n",
            "Epoch 25/50\n",
            "4689/4689 [==============================] - 0s 26us/sample - loss: 0.4388 - acc: 0.8946 - val_loss: 0.4662 - val_acc: 0.8866\n",
            "Epoch 26/50\n",
            "4689/4689 [==============================] - 0s 27us/sample - loss: 0.4305 - acc: 0.8981 - val_loss: 0.4610 - val_acc: 0.8845\n",
            "Epoch 27/50\n",
            "4689/4689 [==============================] - 0s 25us/sample - loss: 0.4225 - acc: 0.9004 - val_loss: 0.4544 - val_acc: 0.8871\n",
            "Epoch 28/50\n",
            "4689/4689 [==============================] - 0s 28us/sample - loss: 0.4154 - acc: 0.9004 - val_loss: 0.4494 - val_acc: 0.8897\n",
            "Epoch 29/50\n",
            "4689/4689 [==============================] - 0s 27us/sample - loss: 0.4084 - acc: 0.9017 - val_loss: 0.4433 - val_acc: 0.8905\n",
            "Epoch 30/50\n",
            "4689/4689 [==============================] - 0s 26us/sample - loss: 0.4019 - acc: 0.9036 - val_loss: 0.4386 - val_acc: 0.8901\n",
            "Epoch 31/50\n",
            "4689/4689 [==============================] - 0s 26us/sample - loss: 0.3952 - acc: 0.9053 - val_loss: 0.4341 - val_acc: 0.8910\n",
            "Epoch 32/50\n",
            "4689/4689 [==============================] - 0s 27us/sample - loss: 0.3895 - acc: 0.9064 - val_loss: 0.4299 - val_acc: 0.8931\n",
            "Epoch 33/50\n",
            "4689/4689 [==============================] - 0s 26us/sample - loss: 0.3837 - acc: 0.9066 - val_loss: 0.4257 - val_acc: 0.8918\n",
            "Epoch 34/50\n",
            "4689/4689 [==============================] - 0s 27us/sample - loss: 0.3783 - acc: 0.9079 - val_loss: 0.4215 - val_acc: 0.8927\n",
            "Epoch 35/50\n",
            "4689/4689 [==============================] - 0s 26us/sample - loss: 0.3731 - acc: 0.9089 - val_loss: 0.4184 - val_acc: 0.8936\n",
            "Epoch 36/50\n",
            "4689/4689 [==============================] - 0s 26us/sample - loss: 0.3682 - acc: 0.9100 - val_loss: 0.4150 - val_acc: 0.8931\n",
            "Epoch 37/50\n",
            "4689/4689 [==============================] - 0s 26us/sample - loss: 0.3632 - acc: 0.9104 - val_loss: 0.4118 - val_acc: 0.8936\n",
            "Epoch 38/50\n",
            "4689/4689 [==============================] - 0s 25us/sample - loss: 0.3587 - acc: 0.9113 - val_loss: 0.4090 - val_acc: 0.8936\n",
            "Epoch 39/50\n",
            "4689/4689 [==============================] - 0s 25us/sample - loss: 0.3543 - acc: 0.9123 - val_loss: 0.4063 - val_acc: 0.8957\n",
            "Epoch 40/50\n",
            "4689/4689 [==============================] - 0s 27us/sample - loss: 0.3499 - acc: 0.9138 - val_loss: 0.4036 - val_acc: 0.8949\n",
            "Epoch 41/50\n",
            "4689/4689 [==============================] - 0s 27us/sample - loss: 0.3458 - acc: 0.9149 - val_loss: 0.4007 - val_acc: 0.8970\n",
            "Epoch 42/50\n",
            "4689/4689 [==============================] - 0s 26us/sample - loss: 0.3420 - acc: 0.9162 - val_loss: 0.3984 - val_acc: 0.8970\n",
            "Epoch 43/50\n",
            "4689/4689 [==============================] - 0s 25us/sample - loss: 0.3380 - acc: 0.9162 - val_loss: 0.3960 - val_acc: 0.8987\n",
            "Epoch 44/50\n",
            "4689/4689 [==============================] - 0s 25us/sample - loss: 0.3343 - acc: 0.9168 - val_loss: 0.3934 - val_acc: 0.8970\n",
            "Epoch 45/50\n",
            "4689/4689 [==============================] - 0s 26us/sample - loss: 0.3308 - acc: 0.9183 - val_loss: 0.3912 - val_acc: 0.8979\n",
            "Epoch 46/50\n",
            "4689/4689 [==============================] - 0s 26us/sample - loss: 0.3274 - acc: 0.9202 - val_loss: 0.3894 - val_acc: 0.8996\n",
            "Epoch 47/50\n",
            "4689/4689 [==============================] - 0s 25us/sample - loss: 0.3240 - acc: 0.9209 - val_loss: 0.3875 - val_acc: 0.8979\n",
            "Epoch 48/50\n",
            "4689/4689 [==============================] - 0s 27us/sample - loss: 0.3207 - acc: 0.9215 - val_loss: 0.3860 - val_acc: 0.8992\n",
            "Epoch 49/50\n",
            "4689/4689 [==============================] - 0s 27us/sample - loss: 0.3176 - acc: 0.9224 - val_loss: 0.3837 - val_acc: 0.8992\n",
            "Epoch 50/50\n",
            "4689/4689 [==============================] - 0s 28us/sample - loss: 0.3141 - acc: 0.9228 - val_loss: 0.3822 - val_acc: 0.8979\n"
          ],
          "name": "stdout"
        }
      ]
    },
    {
      "cell_type": "markdown",
      "metadata": {
        "id": "GyPaCwynrNDo",
        "colab_type": "text"
      },
      "source": [
        "Calculate the average accuracy and validation accuracy over 50 epochs.\n",
        "\n"
      ]
    },
    {
      "cell_type": "code",
      "metadata": {
        "id": "lAVjp4-_BRkl",
        "colab_type": "code",
        "outputId": "006cef3a-8161-4469-ee58-36d8cca94599",
        "colab": {
          "base_uri": "https://localhost:8080/",
          "height": 51
        }
      },
      "source": [
        "lr_tf_train_acc = sum(model_lr_tf.history['acc'])/len(model_lr_tf.history['acc'])\n",
        "lr_tf_train_valacc = sum(model_lr_tf.history['val_acc'])/len(model_lr_tf.history['val_acc'])\n",
        "print('Average acc: ',lr_tf_train_acc)\n",
        "print('Average val_acc: ',lr_tf_train_valacc)"
      ],
      "execution_count": 0,
      "outputs": [
        {
          "output_type": "stream",
          "text": [
            "Average acc:  0.858831305205822\n",
            "Average val_acc:  0.8568671590089798\n"
          ],
          "name": "stdout"
        }
      ]
    },
    {
      "cell_type": "code",
      "metadata": {
        "id": "tzjmJQG_ycof",
        "colab_type": "code",
        "outputId": "e3cb9765-c7ff-4140-8d02-08618095a425",
        "colab": {
          "base_uri": "https://localhost:8080/",
          "height": 573
        }
      },
      "source": [
        "plt.plot(model_lr_tf.history['acc'])\n",
        "plt.plot(model_lr_tf.history['val_acc'])\n",
        "plt.title('LR accuracy')\n",
        "plt.ylabel('accuracy')\n",
        "plt.xlabel('epoch')\n",
        "plt.legend(['train','validation'], loc='upper left')\n",
        "plt.show()\n",
        "\n",
        "plt.plot(model_lr_tf.history['loss'])\n",
        "plt.plot(model_lr_tf.history['val_loss'])\n",
        "plt.title('LR loss')\n",
        "plt.ylabel('loss')\n",
        "plt.xlabel('epoch')\n",
        "plt.legend(['train','validation'], loc='upper left')\n",
        "plt.show()"
      ],
      "execution_count": 0,
      "outputs": [
        {
          "output_type": "display_data",
          "data": {
            "image/png": "[encoded data removed]",
            "text/plain": [
              "<Figure size 432x288 with 1 Axes>"
            ]
          },
          "metadata": {
            "tags": []
          }
        },
        {
          "output_type": "display_data",
          "data": {
            "image/png": "[encoded data removed]",
            "text/plain": [
              "<Figure size 432x288 with 1 Axes>"
            ]
          },
          "metadata": {
            "tags": []
          }
        }
      ]
    },
    {
      "cell_type": "markdown",
      "metadata": {
        "id": "29nLkO4orZJ6",
        "colab_type": "text"
      },
      "source": [
        "Linear regression with tensorflow performs well! The above graphs show that training accuracy/loss and validation accuracy/loss have very similar trends, suggesting that this model is not over-fitted to the training data. Next, lets compute the accuracy on the test data."
      ]
    },
    {
      "cell_type": "code",
      "metadata": {
        "id": "CDGFuTP4y3_t",
        "colab_type": "code",
        "outputId": "76d342bf-68b2-49ae-926b-805e47e8904d",
        "colab": {
          "base_uri": "https://localhost:8080/",
          "height": 34
        }
      },
      "source": [
        "lr_tf_test = modelLRtf.evaluate(images_test.reshape(-1,28,28),  labels_test, verbose=2)"
      ],
      "execution_count": 0,
      "outputs": [
        {
          "output_type": "stream",
          "text": [
            "3000/3000 - 0s - loss: 0.3710 - acc: 0.8897\n"
          ],
          "name": "stdout"
        }
      ]
    },
    {
      "cell_type": "markdown",
      "metadata": {
        "id": "kgM6XY5gsOP1",
        "colab_type": "text"
      },
      "source": [
        "The accurcay on the test data for LR with tendorflow is ~89%, not quite as good as the score produced by the MLP model with SKLearn (94.7%). This model, however, was also very easy to implement and complied very quickly. With these promising results, next we will implement MLP with tensorflow."
      ]
    },
    {
      "cell_type": "markdown",
      "metadata": {
        "id": "8VwatbNtzVtJ",
        "colab_type": "text"
      },
      "source": [
        "**4b. MLP with Tensorflow**\n",
        "\n",
        "Here we define the MLP model with 4 layers. 1 input layer, 2 hidden layers, and 1 output layer. We are still using Adam as the optimizer and cross-entropy as the loss function."
      ]
    },
    {
      "cell_type": "code",
      "metadata": {
        "id": "WbYfTgD0zbrM",
        "colab_type": "code",
        "colab": {}
      },
      "source": [
        "modelMLPtf = tf.keras.models.Sequential([\n",
        "  tf.keras.layers.Flatten(input_shape=(28, 28)),\n",
        "  tf.keras.layers.Dense(512, activation='relu'),\n",
        "  tf.keras.layers.Dropout(0.2),\n",
        "  tf.keras.layers.Dense(128, activation='relu'),\n",
        "  tf.keras.layers.Dropout(0.2),\n",
        "  tf.keras.layers.Dense(10, activation='softmax')\n",
        "])\n",
        "\n",
        "modelMLPtf.compile(optimizer='adam',\n",
        "              loss='sparse_categorical_crossentropy',\n",
        "              metrics=['accuracy'])"
      ],
      "execution_count": 0,
      "outputs": []
    },
    {
      "cell_type": "markdown",
      "metadata": {
        "id": "V8cAYjb_t8D6",
        "colab_type": "text"
      },
      "source": [
        "Train the model with 1/3 of the data for validation, 50 epochs, and batch size of 500 samples."
      ]
    },
    {
      "cell_type": "code",
      "metadata": {
        "id": "HzivpE3VzhaF",
        "colab_type": "code",
        "outputId": "ef6a461f-e22a-4bca-e916-1652b8935904",
        "colab": {
          "base_uri": "https://localhost:8080/",
          "height": 1000
        }
      },
      "source": [
        "model_mlp_tf=modelMLPtf.fit(images_train.reshape(-1,28,28), labels, validation_split=0.33, epochs=50, batch_size=500)\n"
      ],
      "execution_count": 0,
      "outputs": [
        {
          "output_type": "stream",
          "text": [
            "Train on 4689 samples, validate on 2311 samples\n",
            "Epoch 1/50\n",
            "4689/4689 [==============================] - 1s 111us/sample - loss: 1.6328 - acc: 0.5138 - val_loss: 0.7323 - val_acc: 0.8256\n",
            "Epoch 2/50\n",
            "4689/4689 [==============================] - 0s 84us/sample - loss: 0.6676 - acc: 0.8012 - val_loss: 0.4178 - val_acc: 0.8771\n",
            "Epoch 3/50\n",
            "4689/4689 [==============================] - 0s 82us/sample - loss: 0.4541 - acc: 0.8539 - val_loss: 0.3532 - val_acc: 0.8992\n",
            "Epoch 4/50\n",
            "4689/4689 [==============================] - 0s 80us/sample - loss: 0.3598 - acc: 0.8912 - val_loss: 0.3064 - val_acc: 0.9087\n",
            "Epoch 5/50\n",
            "4689/4689 [==============================] - 0s 83us/sample - loss: 0.2957 - acc: 0.9128 - val_loss: 0.2851 - val_acc: 0.9143\n",
            "Epoch 6/50\n",
            "4689/4689 [==============================] - 0s 82us/sample - loss: 0.2486 - acc: 0.9260 - val_loss: 0.2662 - val_acc: 0.9186\n",
            "Epoch 7/50\n",
            "4689/4689 [==============================] - 0s 82us/sample - loss: 0.2085 - acc: 0.9388 - val_loss: 0.2627 - val_acc: 0.9199\n",
            "Epoch 8/50\n",
            "4689/4689 [==============================] - 0s 83us/sample - loss: 0.1820 - acc: 0.9527 - val_loss: 0.2457 - val_acc: 0.9212\n",
            "Epoch 9/50\n",
            "4689/4689 [==============================] - 0s 81us/sample - loss: 0.1500 - acc: 0.9597 - val_loss: 0.2441 - val_acc: 0.9221\n",
            "Epoch 10/50\n",
            "4689/4689 [==============================] - 0s 83us/sample - loss: 0.1377 - acc: 0.9614 - val_loss: 0.2292 - val_acc: 0.9256\n",
            "Epoch 11/50\n",
            "4689/4689 [==============================] - 0s 83us/sample - loss: 0.1197 - acc: 0.9689 - val_loss: 0.2354 - val_acc: 0.9221\n",
            "Epoch 12/50\n",
            "4689/4689 [==============================] - 0s 81us/sample - loss: 0.0987 - acc: 0.9744 - val_loss: 0.2275 - val_acc: 0.9269\n",
            "Epoch 13/50\n",
            "4689/4689 [==============================] - 0s 84us/sample - loss: 0.0823 - acc: 0.9787 - val_loss: 0.2152 - val_acc: 0.9312\n",
            "Epoch 14/50\n",
            "4689/4689 [==============================] - 0s 83us/sample - loss: 0.0725 - acc: 0.9823 - val_loss: 0.2235 - val_acc: 0.9299\n",
            "Epoch 15/50\n",
            "4689/4689 [==============================] - 0s 82us/sample - loss: 0.0639 - acc: 0.9840 - val_loss: 0.2181 - val_acc: 0.9290\n",
            "Epoch 16/50\n",
            "4689/4689 [==============================] - 0s 81us/sample - loss: 0.0594 - acc: 0.9866 - val_loss: 0.2074 - val_acc: 0.9295\n",
            "Epoch 17/50\n",
            "4689/4689 [==============================] - 0s 82us/sample - loss: 0.0526 - acc: 0.9876 - val_loss: 0.2194 - val_acc: 0.9321\n",
            "Epoch 18/50\n",
            "4689/4689 [==============================] - 0s 83us/sample - loss: 0.0428 - acc: 0.9908 - val_loss: 0.2108 - val_acc: 0.9312\n",
            "Epoch 19/50\n",
            "4689/4689 [==============================] - 0s 81us/sample - loss: 0.0377 - acc: 0.9913 - val_loss: 0.2138 - val_acc: 0.9312\n",
            "Epoch 20/50\n",
            "4689/4689 [==============================] - 0s 82us/sample - loss: 0.0343 - acc: 0.9938 - val_loss: 0.2243 - val_acc: 0.9308\n",
            "Epoch 21/50\n",
            "4689/4689 [==============================] - 0s 86us/sample - loss: 0.0325 - acc: 0.9940 - val_loss: 0.2082 - val_acc: 0.9329\n",
            "Epoch 22/50\n",
            "4689/4689 [==============================] - 0s 84us/sample - loss: 0.0300 - acc: 0.9936 - val_loss: 0.2152 - val_acc: 0.9295\n",
            "Epoch 23/50\n",
            "4689/4689 [==============================] - 0s 82us/sample - loss: 0.0242 - acc: 0.9962 - val_loss: 0.2149 - val_acc: 0.9360\n",
            "Epoch 24/50\n",
            "4689/4689 [==============================] - 0s 81us/sample - loss: 0.0232 - acc: 0.9959 - val_loss: 0.2082 - val_acc: 0.9386\n",
            "Epoch 25/50\n",
            "4689/4689 [==============================] - 0s 82us/sample - loss: 0.0208 - acc: 0.9970 - val_loss: 0.2179 - val_acc: 0.9355\n",
            "Epoch 26/50\n",
            "4689/4689 [==============================] - 0s 80us/sample - loss: 0.0179 - acc: 0.9977 - val_loss: 0.2123 - val_acc: 0.9342\n",
            "Epoch 27/50\n",
            "4689/4689 [==============================] - 0s 81us/sample - loss: 0.0172 - acc: 0.9979 - val_loss: 0.2190 - val_acc: 0.9381\n",
            "Epoch 28/50\n",
            "4689/4689 [==============================] - 0s 81us/sample - loss: 0.0165 - acc: 0.9981 - val_loss: 0.2189 - val_acc: 0.9381\n",
            "Epoch 29/50\n",
            "4689/4689 [==============================] - 0s 81us/sample - loss: 0.0133 - acc: 0.9987 - val_loss: 0.2243 - val_acc: 0.9364\n",
            "Epoch 30/50\n",
            "4689/4689 [==============================] - 0s 81us/sample - loss: 0.0123 - acc: 0.9981 - val_loss: 0.2241 - val_acc: 0.9347\n",
            "Epoch 31/50\n",
            "4689/4689 [==============================] - 0s 82us/sample - loss: 0.0118 - acc: 0.9987 - val_loss: 0.2237 - val_acc: 0.9381\n",
            "Epoch 32/50\n",
            "4689/4689 [==============================] - 0s 81us/sample - loss: 0.0127 - acc: 0.9981 - val_loss: 0.2283 - val_acc: 0.9338\n",
            "Epoch 33/50\n",
            "4689/4689 [==============================] - 0s 79us/sample - loss: 0.0119 - acc: 0.9983 - val_loss: 0.2236 - val_acc: 0.9355\n",
            "Epoch 34/50\n",
            "4689/4689 [==============================] - 0s 82us/sample - loss: 0.0106 - acc: 0.9983 - val_loss: 0.2292 - val_acc: 0.9351\n",
            "Epoch 35/50\n",
            "4689/4689 [==============================] - 0s 81us/sample - loss: 0.0091 - acc: 0.9998 - val_loss: 0.2319 - val_acc: 0.9342\n",
            "Epoch 36/50\n",
            "4689/4689 [==============================] - 0s 82us/sample - loss: 0.0095 - acc: 0.9985 - val_loss: 0.2304 - val_acc: 0.9373\n",
            "Epoch 37/50\n",
            "4689/4689 [==============================] - 0s 80us/sample - loss: 0.0085 - acc: 0.9991 - val_loss: 0.2266 - val_acc: 0.9360\n",
            "Epoch 38/50\n",
            "4689/4689 [==============================] - 0s 80us/sample - loss: 0.0088 - acc: 0.9987 - val_loss: 0.2390 - val_acc: 0.9329\n",
            "Epoch 39/50\n",
            "4689/4689 [==============================] - 0s 82us/sample - loss: 0.0075 - acc: 0.9991 - val_loss: 0.2268 - val_acc: 0.9373\n",
            "Epoch 40/50\n",
            "4689/4689 [==============================] - 0s 84us/sample - loss: 0.0068 - acc: 0.9996 - val_loss: 0.2363 - val_acc: 0.9368\n",
            "Epoch 41/50\n",
            "4689/4689 [==============================] - 0s 81us/sample - loss: 0.0066 - acc: 0.9994 - val_loss: 0.2352 - val_acc: 0.9364\n",
            "Epoch 42/50\n",
            "4689/4689 [==============================] - 0s 83us/sample - loss: 0.0055 - acc: 0.9998 - val_loss: 0.2430 - val_acc: 0.9386\n",
            "Epoch 43/50\n",
            "4689/4689 [==============================] - 0s 81us/sample - loss: 0.0060 - acc: 0.9994 - val_loss: 0.2414 - val_acc: 0.9377\n",
            "Epoch 44/50\n",
            "4689/4689 [==============================] - 0s 83us/sample - loss: 0.0047 - acc: 0.9998 - val_loss: 0.2392 - val_acc: 0.9399\n",
            "Epoch 45/50\n",
            "4689/4689 [==============================] - 0s 87us/sample - loss: 0.0060 - acc: 0.9991 - val_loss: 0.2521 - val_acc: 0.9386\n",
            "Epoch 46/50\n",
            "4689/4689 [==============================] - 0s 80us/sample - loss: 0.0051 - acc: 0.9996 - val_loss: 0.2411 - val_acc: 0.9386\n",
            "Epoch 47/50\n",
            "4689/4689 [==============================] - 0s 83us/sample - loss: 0.0058 - acc: 0.9996 - val_loss: 0.2367 - val_acc: 0.9433\n",
            "Epoch 48/50\n",
            "4689/4689 [==============================] - 0s 85us/sample - loss: 0.0050 - acc: 0.9996 - val_loss: 0.2391 - val_acc: 0.9338\n",
            "Epoch 49/50\n",
            "4689/4689 [==============================] - 0s 83us/sample - loss: 0.0051 - acc: 0.9994 - val_loss: 0.2505 - val_acc: 0.9347\n",
            "Epoch 50/50\n",
            "4689/4689 [==============================] - 0s 81us/sample - loss: 0.0044 - acc: 0.9998 - val_loss: 0.2555 - val_acc: 0.9360\n"
          ],
          "name": "stdout"
        }
      ]
    },
    {
      "cell_type": "markdown",
      "metadata": {
        "id": "5krDX2WKuVxG",
        "colab_type": "text"
      },
      "source": [
        "Calculate the average accuracy and validation accuracy over 50 epochs.\n",
        "\n"
      ]
    },
    {
      "cell_type": "code",
      "metadata": {
        "id": "OnMG_15AD0ag",
        "colab_type": "code",
        "outputId": "c4370e36-539f-4fc6-a0a2-c0234f3fd698",
        "colab": {
          "base_uri": "https://localhost:8080/",
          "height": 51
        }
      },
      "source": [
        "mlp_tf_train_acc = sum(model_mlp_tf.history['acc'])/len(model_mlp_tf.history['acc'])\n",
        "mlp_tf_train_valacc = sum(model_mlp_tf.history['val_acc'])/len(model_mlp_tf.history['val_acc'])\n",
        "print('Average acc: ',mlp_tf_train_acc)\n",
        "print('Average val_acc: ',mlp_tf_train_valacc)"
      ],
      "execution_count": 0,
      "outputs": [
        {
          "output_type": "stream",
          "text": [
            "Average acc:  0.9700106608867646\n",
            "Average val_acc:  0.9282907843589783\n"
          ],
          "name": "stdout"
        }
      ]
    },
    {
      "cell_type": "code",
      "metadata": {
        "id": "5JJbd7w1zqpp",
        "colab_type": "code",
        "outputId": "2fd9305d-0099-4cd6-dd03-3666cae9e27f",
        "colab": {
          "base_uri": "https://localhost:8080/",
          "height": 573
        }
      },
      "source": [
        "plt.plot(model_mlp_tf.history['acc'])\n",
        "plt.plot(model_mlp_tf.history['val_acc'])\n",
        "plt.title('MLP accuracy')\n",
        "plt.ylabel('accuracy')\n",
        "plt.xlabel('epoch')\n",
        "plt.legend(['train','validation'], loc='upper left')\n",
        "plt.show()\n",
        "\n",
        "plt.plot(model_mlp_tf.history['loss'])\n",
        "plt.plot(model_mlp_tf.history['val_loss'])\n",
        "plt.title('MLP loss')\n",
        "plt.ylabel('loss')\n",
        "plt.xlabel('epoch')\n",
        "plt.legend(['train','validation'], loc='upper left')\n",
        "plt.show()"
      ],
      "execution_count": 0,
      "outputs": [
        {
          "output_type": "display_data",
          "data": {
            "image/png": "[encoded data removed]",
            "text/plain": [
              "<Figure size 432x288 with 1 Axes>"
            ]
          },
          "metadata": {
            "tags": []
          }
        },
        {
          "output_type": "display_data",
          "data": {
            "image/png": "[encoded data removed]",
            "text/plain": [
              "<Figure size 432x288 with 1 Axes>"
            ]
          },
          "metadata": {
            "tags": []
          }
        }
      ]
    },
    {
      "cell_type": "markdown",
      "metadata": {
        "id": "2C0gJARmuYUS",
        "colab_type": "text"
      },
      "source": [
        "This model also performs well! The above graphs do represent evidence of over-fitting (by about ~4%). "
      ]
    },
    {
      "cell_type": "code",
      "metadata": {
        "id": "_ljIEG5Czzoe",
        "colab_type": "code",
        "outputId": "2c935f00-944f-4e4e-dcc7-3ff114f50681",
        "colab": {
          "base_uri": "https://localhost:8080/",
          "height": 34
        }
      },
      "source": [
        "mlp_tf_test = modelMLPtf.evaluate(images_test.reshape(-1,28,28),  labels_test, verbose=2, batch_size=500)"
      ],
      "execution_count": 0,
      "outputs": [
        {
          "output_type": "stream",
          "text": [
            "3000/3000 - 0s - loss: 0.2259 - acc: 0.9423\n"
          ],
          "name": "stdout"
        }
      ]
    },
    {
      "cell_type": "markdown",
      "metadata": {
        "id": "6njQLmm9viLV",
        "colab_type": "text"
      },
      "source": [
        "The MLP model with tensorflow provided a test accuracy of 94.2%! \n",
        "\n",
        "**4c. Discussion**\n",
        "\n",
        "The score for the MLP model with tensorflow is very similar to the score of the MLP model with SKLearn (94.7%) and about 6% better than the LR model with Tensorflow (88.97%). Since the results for the MLP models with Tensorflow and SKLearn are very similar, and they are both simple to implement and run quickly, it is worth it to compare these models again, but this time with the full 42k dataset."
      ]
    },
    {
      "cell_type": "markdown",
      "metadata": {
        "id": "49tZSb-R0uOf",
        "colab_type": "text"
      },
      "source": [
        "**5. LR and MLP with more data**\n",
        "\n",
        "Since both SKlearn and Tensorflow MLP models compiled very quickly and with similar results, we will try again with the entire dataset for 42000 samples instead of just 10000 samples to compare each performance."
      ]
    },
    {
      "cell_type": "markdown",
      "metadata": {
        "id": "HOhgckOb0cDx",
        "colab_type": "text"
      },
      "source": [
        "**5a. Training models and getting results**\n",
        "\n",
        "To start, we import and split the dataset using the same method as before, except we import the entire dataset instead of just 1000 samples."
      ]
    },
    {
      "cell_type": "code",
      "metadata": {
        "id": "n1TxHuAQ1Pml",
        "colab_type": "code",
        "outputId": "37df05f0-f2e7-41e5-80fb-910d51055034",
        "colab": {
          "base_uri": "https://localhost:8080/",
          "height": 51
        }
      },
      "source": [
        "#Read the dataset\n",
        "train_tf = pd.read_csv(\"train.csv\")\n",
        "#Split features and labels\n",
        "#X_tf = train.iloc[:10000, 1:]\n",
        "#y_tf = train.iloc[:10000, 0]\n",
        "X_tf = train_tf.iloc[:, 1:]\n",
        "y_tf = train_tf.iloc[:, 0]\n",
        "#Use train_test_split to split to train/test labels and train/test features. Train size = 70%, Test size = 30%\n",
        "X_train_tf, X_test_tf, y_train_tf, y_test_tf = train_test_split(X_tf, y_tf, test_size = 0.3, random_state=1)\n",
        "#Print sizes\n",
        "print('Train features: ',X_train_tf.shape,', Train Labels: ',y_train_tf.shape)\n",
        "print('Test features: ',X_test_tf.shape,', Test Labels: ',y_test_tf.shape)"
      ],
      "execution_count": 8,
      "outputs": [
        {
          "output_type": "stream",
          "text": [
            "Train features:  (29400, 784) , Train Labels:  (29400,)\n",
            "Test features:  (12600, 784) , Test Labels:  (12600,)\n"
          ],
          "name": "stdout"
        }
      ]
    },
    {
      "cell_type": "code",
      "metadata": {
        "id": "kIt5psW91tpL",
        "colab_type": "code",
        "colab": {}
      },
      "source": [
        "#format the data\n",
        "X_train_tf = X_train_tf.applymap(format_data)\n",
        "X_test_tf = X_test_tf.applymap(format_data)"
      ],
      "execution_count": 0,
      "outputs": []
    },
    {
      "cell_type": "code",
      "metadata": {
        "id": "H6BlmWCI2ClM",
        "colab_type": "code",
        "outputId": "e93aa5f3-1ca3-4f88-8182-b106a3420640",
        "colab": {
          "base_uri": "https://localhost:8080/",
          "height": 278
        }
      },
      "source": [
        "#Show distribution of each class\n",
        "plt.figure() # Creates a new figure\n",
        "y_train_tf.value_counts().plot(kind=\"bar\", title=\"Class Distribution\")\n",
        "plt.show()"
      ],
      "execution_count": 0,
      "outputs": [
        {
          "output_type": "display_data",
          "data": {
            "image/png": "[encoded data removed]",
            "text/plain": [
              "<Figure size 432x288 with 1 Axes>"
            ]
          },
          "metadata": {
            "tags": []
          }
        }
      ]
    },
    {
      "cell_type": "markdown",
      "metadata": {
        "id": "iy4Rei1M1AVi",
        "colab_type": "text"
      },
      "source": [
        "The class distribution is similar as the 10k sample from before, and fairly evenly distributed.\n",
        "\n",
        "Now we train the MLP model with SKLearn."
      ]
    },
    {
      "cell_type": "code",
      "metadata": {
        "id": "uFZIU9Hr1g6f",
        "colab_type": "code",
        "outputId": "00d06a85-5863-49f0-9594-65a1bb83e4a0",
        "colab": {
          "base_uri": "https://localhost:8080/",
          "height": 34
        }
      },
      "source": [
        "#Import MLP\n",
        "from sklearn.neural_network import MLPClassifier\n",
        "model_skmlp_full=MLPClassifier(solver='adam',hidden_layer_sizes=350,alpha=1e-08)\n",
        "#Train model\n",
        "model_skmlp_full.fit(X_train_tf, y_train_tf)\n",
        "#Print scores\n",
        "print('Train score:',model_skmlp_full.score(X_train_tf,y_train_tf),', Test score:', model_skmlp_full.score(X_test_tf,y_test_tf))"
      ],
      "execution_count": 0,
      "outputs": [
        {
          "output_type": "stream",
          "text": [
            "Train score: 1.0 , Test score: 0.9746825396825397\n"
          ],
          "name": "stdout"
        }
      ]
    },
    {
      "cell_type": "markdown",
      "metadata": {
        "id": "UYED4Wiz28vf",
        "colab_type": "text"
      },
      "source": [
        "The test score for MLP with SKLearn and the full dataset is 97.46%, about 3% higher than the score on the 10k dataset (94.7%). Now lets compare this score with LR and MLP models using tensorflow on the full dataset.\n",
        "\n",
        "We create these models the same way they were created before. First, we convert the data into lists."
      ]
    },
    {
      "cell_type": "code",
      "metadata": {
        "id": "XBhv_C1r2MBx",
        "colab_type": "code",
        "colab": {}
      },
      "source": [
        "images_train_new=X_train_tf.values\n",
        "labels_train_new=y_train_tf.values\n",
        "\n",
        "images_test_new=X_test_tf.values\n",
        "labels_test_new=y_test_tf.values"
      ],
      "execution_count": 0,
      "outputs": []
    },
    {
      "cell_type": "markdown",
      "metadata": {
        "id": "HQhkFHnn4G8R",
        "colab_type": "text"
      },
      "source": [
        "Train the new LR model."
      ]
    },
    {
      "cell_type": "code",
      "metadata": {
        "id": "a2wMPlCa2ce7",
        "colab_type": "code",
        "outputId": "50c3a8d4-5e11-4261-9f15-d293ce2b2767",
        "colab": {
          "base_uri": "https://localhost:8080/",
          "height": 1000
        }
      },
      "source": [
        "#import tensorflow as tf\n",
        "model_lr_tf_new = modelLRtf.fit(images_train_new.reshape(-1,28,28), labels_train_new, validation_split=0.33, epochs=50, batch_size=500)\n"
      ],
      "execution_count": 0,
      "outputs": [
        {
          "output_type": "stream",
          "text": [
            "Train on 19697 samples, validate on 9703 samples\n",
            "Epoch 1/50\n",
            "19697/19697 [==============================] - 1s 52us/sample - loss: 1.7320 - acc: 0.4983 - val_loss: 1.1953 - val_acc: 0.7419\n",
            "Epoch 2/50\n",
            "19697/19697 [==============================] - 1s 29us/sample - loss: 0.9715 - acc: 0.7860 - val_loss: 0.8116 - val_acc: 0.8202\n",
            "Epoch 3/50\n",
            "19697/19697 [==============================] - 1s 29us/sample - loss: 0.7229 - acc: 0.8336 - val_loss: 0.6580 - val_acc: 0.8478\n",
            "Epoch 4/50\n",
            "19697/19697 [==============================] - 1s 29us/sample - loss: 0.6074 - acc: 0.8533 - val_loss: 0.5746 - val_acc: 0.8620\n",
            "Epoch 5/50\n",
            "19697/19697 [==============================] - 1s 30us/sample - loss: 0.5384 - acc: 0.8665 - val_loss: 0.5216 - val_acc: 0.8732\n",
            "Epoch 6/50\n",
            "19697/19697 [==============================] - 1s 29us/sample - loss: 0.4921 - acc: 0.8763 - val_loss: 0.4849 - val_acc: 0.8791\n",
            "Epoch 7/50\n",
            "19697/19697 [==============================] - 1s 28us/sample - loss: 0.4584 - acc: 0.8825 - val_loss: 0.4586 - val_acc: 0.8852\n",
            "Epoch 8/50\n",
            "19697/19697 [==============================] - 1s 29us/sample - loss: 0.4329 - acc: 0.8862 - val_loss: 0.4376 - val_acc: 0.8871\n",
            "Epoch 9/50\n",
            "19697/19697 [==============================] - 1s 28us/sample - loss: 0.4123 - acc: 0.8908 - val_loss: 0.4218 - val_acc: 0.8920\n",
            "Epoch 10/50\n",
            "19697/19697 [==============================] - 1s 32us/sample - loss: 0.3959 - acc: 0.8947 - val_loss: 0.4077 - val_acc: 0.8934\n",
            "Epoch 11/50\n",
            "19697/19697 [==============================] - 1s 35us/sample - loss: 0.3820 - acc: 0.8978 - val_loss: 0.3975 - val_acc: 0.8951\n",
            "Epoch 12/50\n",
            "19697/19697 [==============================] - 1s 35us/sample - loss: 0.3704 - acc: 0.9011 - val_loss: 0.3889 - val_acc: 0.8975\n",
            "Epoch 13/50\n",
            "19697/19697 [==============================] - 1s 31us/sample - loss: 0.3599 - acc: 0.9036 - val_loss: 0.3811 - val_acc: 0.9003\n",
            "Epoch 14/50\n",
            "19697/19697 [==============================] - 1s 29us/sample - loss: 0.3510 - acc: 0.9055 - val_loss: 0.3745 - val_acc: 0.9013\n",
            "Epoch 15/50\n",
            "19697/19697 [==============================] - 1s 28us/sample - loss: 0.3432 - acc: 0.9075 - val_loss: 0.3683 - val_acc: 0.9026\n",
            "Epoch 16/50\n",
            "19697/19697 [==============================] - 1s 27us/sample - loss: 0.3359 - acc: 0.9087 - val_loss: 0.3643 - val_acc: 0.9035\n",
            "Epoch 17/50\n",
            "19697/19697 [==============================] - 1s 29us/sample - loss: 0.3296 - acc: 0.9102 - val_loss: 0.3598 - val_acc: 0.9045\n",
            "Epoch 18/50\n",
            "19697/19697 [==============================] - 1s 28us/sample - loss: 0.3238 - acc: 0.9107 - val_loss: 0.3549 - val_acc: 0.9053\n",
            "Epoch 19/50\n",
            "19697/19697 [==============================] - 1s 28us/sample - loss: 0.3186 - acc: 0.9128 - val_loss: 0.3521 - val_acc: 0.9062\n",
            "Epoch 20/50\n",
            "19697/19697 [==============================] - 1s 26us/sample - loss: 0.3136 - acc: 0.9141 - val_loss: 0.3496 - val_acc: 0.9056\n",
            "Epoch 21/50\n",
            "19697/19697 [==============================] - 1s 27us/sample - loss: 0.3089 - acc: 0.9151 - val_loss: 0.3466 - val_acc: 0.9058\n",
            "Epoch 22/50\n",
            "19697/19697 [==============================] - 1s 27us/sample - loss: 0.3054 - acc: 0.9160 - val_loss: 0.3437 - val_acc: 0.9072\n",
            "Epoch 23/50\n",
            "19697/19697 [==============================] - 1s 28us/sample - loss: 0.3011 - acc: 0.9173 - val_loss: 0.3424 - val_acc: 0.9059\n",
            "Epoch 24/50\n",
            "19697/19697 [==============================] - 1s 27us/sample - loss: 0.2977 - acc: 0.9182 - val_loss: 0.3398 - val_acc: 0.9079\n",
            "Epoch 25/50\n",
            "19697/19697 [==============================] - 1s 27us/sample - loss: 0.2941 - acc: 0.9183 - val_loss: 0.3383 - val_acc: 0.9067\n",
            "Epoch 26/50\n",
            "19697/19697 [==============================] - 1s 28us/sample - loss: 0.2909 - acc: 0.9195 - val_loss: 0.3372 - val_acc: 0.9068\n",
            "Epoch 27/50\n",
            "19697/19697 [==============================] - 1s 29us/sample - loss: 0.2880 - acc: 0.9205 - val_loss: 0.3353 - val_acc: 0.9070\n",
            "Epoch 28/50\n",
            "19697/19697 [==============================] - 1s 28us/sample - loss: 0.2851 - acc: 0.9210 - val_loss: 0.3339 - val_acc: 0.9070\n",
            "Epoch 29/50\n",
            "19697/19697 [==============================] - 1s 28us/sample - loss: 0.2826 - acc: 0.9215 - val_loss: 0.3336 - val_acc: 0.9069\n",
            "Epoch 30/50\n",
            "19697/19697 [==============================] - 1s 29us/sample - loss: 0.2800 - acc: 0.9234 - val_loss: 0.3316 - val_acc: 0.9070\n",
            "Epoch 31/50\n",
            "19697/19697 [==============================] - 1s 28us/sample - loss: 0.2772 - acc: 0.9246 - val_loss: 0.3309 - val_acc: 0.9080\n",
            "Epoch 32/50\n",
            "19697/19697 [==============================] - 1s 28us/sample - loss: 0.2749 - acc: 0.9238 - val_loss: 0.3288 - val_acc: 0.9082\n",
            "Epoch 33/50\n",
            "19697/19697 [==============================] - 1s 28us/sample - loss: 0.2728 - acc: 0.9245 - val_loss: 0.3278 - val_acc: 0.9083\n",
            "Epoch 34/50\n",
            "19697/19697 [==============================] - 1s 30us/sample - loss: 0.2702 - acc: 0.9251 - val_loss: 0.3272 - val_acc: 0.9090\n",
            "Epoch 35/50\n",
            "19697/19697 [==============================] - 1s 29us/sample - loss: 0.2684 - acc: 0.9265 - val_loss: 0.3265 - val_acc: 0.9082\n",
            "Epoch 36/50\n",
            "19697/19697 [==============================] - 1s 28us/sample - loss: 0.2660 - acc: 0.9270 - val_loss: 0.3263 - val_acc: 0.9084\n",
            "Epoch 37/50\n",
            "19697/19697 [==============================] - 1s 28us/sample - loss: 0.2643 - acc: 0.9275 - val_loss: 0.3260 - val_acc: 0.9090\n",
            "Epoch 38/50\n",
            "19697/19697 [==============================] - 1s 32us/sample - loss: 0.2627 - acc: 0.9286 - val_loss: 0.3249 - val_acc: 0.9079\n",
            "Epoch 39/50\n",
            "19697/19697 [==============================] - 1s 34us/sample - loss: 0.2606 - acc: 0.9290 - val_loss: 0.3241 - val_acc: 0.9075\n",
            "Epoch 40/50\n",
            "19697/19697 [==============================] - 1s 28us/sample - loss: 0.2590 - acc: 0.9301 - val_loss: 0.3248 - val_acc: 0.9082\n",
            "Epoch 41/50\n",
            "19697/19697 [==============================] - 1s 31us/sample - loss: 0.2572 - acc: 0.9299 - val_loss: 0.3250 - val_acc: 0.9083\n",
            "Epoch 42/50\n",
            "19697/19697 [==============================] - 1s 35us/sample - loss: 0.2558 - acc: 0.9304 - val_loss: 0.3234 - val_acc: 0.9077\n",
            "Epoch 43/50\n",
            "19697/19697 [==============================] - 1s 28us/sample - loss: 0.2542 - acc: 0.9314 - val_loss: 0.3229 - val_acc: 0.9075\n",
            "Epoch 44/50\n",
            "19697/19697 [==============================] - 1s 28us/sample - loss: 0.2526 - acc: 0.9312 - val_loss: 0.3225 - val_acc: 0.9087\n",
            "Epoch 45/50\n",
            "19697/19697 [==============================] - 1s 29us/sample - loss: 0.2511 - acc: 0.9311 - val_loss: 0.3229 - val_acc: 0.9089\n",
            "Epoch 46/50\n",
            "19697/19697 [==============================] - 1s 30us/sample - loss: 0.2498 - acc: 0.9318 - val_loss: 0.3222 - val_acc: 0.9088\n",
            "Epoch 47/50\n",
            "19697/19697 [==============================] - 1s 35us/sample - loss: 0.2484 - acc: 0.9322 - val_loss: 0.3227 - val_acc: 0.9090\n",
            "Epoch 48/50\n",
            "19697/19697 [==============================] - 1s 29us/sample - loss: 0.2471 - acc: 0.9325 - val_loss: 0.3220 - val_acc: 0.9082\n",
            "Epoch 49/50\n",
            "19697/19697 [==============================] - 1s 28us/sample - loss: 0.2458 - acc: 0.9327 - val_loss: 0.3218 - val_acc: 0.9090\n",
            "Epoch 50/50\n",
            "19697/19697 [==============================] - 1s 28us/sample - loss: 0.2443 - acc: 0.9329 - val_loss: 0.3210 - val_acc: 0.9089\n"
          ],
          "name": "stdout"
        }
      ]
    },
    {
      "cell_type": "code",
      "metadata": {
        "id": "8Aa9EdCuEG8-",
        "colab_type": "code",
        "outputId": "e777385f-1598-48e1-fad1-525ab3946a8c",
        "colab": {
          "base_uri": "https://localhost:8080/",
          "height": 51
        }
      },
      "source": [
        "lr_tf_train_acc_new = sum(model_lr_tf_new.history['acc'])/len(model_lr_tf_new.history['acc'])\n",
        "lr_tf_train_valacc_new = sum(model_lr_tf_new.history['val_acc'])/len(model_lr_tf_new.history['val_acc'])\n",
        "print('Average acc: ',lr_tf_train_acc_new)\n",
        "print('Average val_acc: ',lr_tf_train_valacc_new)"
      ],
      "execution_count": 0,
      "outputs": [
        {
          "output_type": "stream",
          "text": [
            "Average acc:  0.9022724294662475\n",
            "Average val_acc:  0.8967906844615936\n"
          ],
          "name": "stdout"
        }
      ]
    },
    {
      "cell_type": "markdown",
      "metadata": {
        "id": "teXTER116yRb",
        "colab_type": "text"
      },
      "source": [
        "The train accuracy (90%) and the validation accuracy (89.6%) are higher than the model trained on 10k samples (both ~85%). We will compute the test accuracy with the MLP model."
      ]
    },
    {
      "cell_type": "code",
      "metadata": {
        "id": "sB3S4Ptm3TPB",
        "colab_type": "code",
        "outputId": "c4069e8a-7143-4b67-f410-1464f8362c6e",
        "colab": {
          "base_uri": "https://localhost:8080/",
          "height": 573
        }
      },
      "source": [
        "plt.plot(model_lr_tf_new.history['acc'])\n",
        "plt.plot(model_lr_tf_new.history['val_acc'])\n",
        "plt.title('LR accuracy')\n",
        "plt.ylabel('accuracy')\n",
        "plt.xlabel('epoch')\n",
        "plt.legend(['train','validation'], loc='upper left')\n",
        "plt.show()\n",
        "\n",
        "plt.plot(model_lr_tf_new.history['loss'])\n",
        "plt.plot(model_lr_tf_new.history['val_loss'])\n",
        "plt.title('LR loss')\n",
        "plt.ylabel('loss')\n",
        "plt.xlabel('epoch')\n",
        "plt.legend(['train','validation'], loc='upper left')\n",
        "plt.show()"
      ],
      "execution_count": 0,
      "outputs": [
        {
          "output_type": "display_data",
          "data": {
            "image/png": "[encoded data removed]",
            "text/plain": [
              "<Figure size 432x288 with 1 Axes>"
            ]
          },
          "metadata": {
            "tags": []
          }
        },
        {
          "output_type": "display_data",
          "data": {
            "image/png": "[encoded data removed]",
            "text/plain": [
              "<Figure size 432x288 with 1 Axes>"
            ]
          },
          "metadata": {
            "tags": []
          }
        }
      ]
    },
    {
      "cell_type": "markdown",
      "metadata": {
        "id": "sVFQLP3M77hz",
        "colab_type": "text"
      },
      "source": [
        "These graphs show a little over-fitting. We will compare with previous model further down."
      ]
    },
    {
      "cell_type": "code",
      "metadata": {
        "id": "CaHddmDD2oNk",
        "colab_type": "code",
        "outputId": "44a1ddc3-499c-447f-b36a-8a8c5e75928b",
        "colab": {
          "base_uri": "https://localhost:8080/",
          "height": 1000
        }
      },
      "source": [
        "model_mlp_tf_new=modelMLPtf.fit(images_test_new.reshape(-1,28,28), labels_test_new, validation_split=0.33, epochs=50, batch_size=500)\n"
      ],
      "execution_count": 17,
      "outputs": [
        {
          "output_type": "stream",
          "text": [
            "Train on 8442 samples, validate on 4158 samples\n",
            "Epoch 1/50\n",
            "8442/8442 [==============================] - 1s 101us/sample - loss: 1.2129 - acc: 0.6407 - val_loss: 0.4907 - val_acc: 0.8502\n",
            "Epoch 2/50\n",
            "8442/8442 [==============================] - 1s 80us/sample - loss: 0.4641 - acc: 0.8529 - val_loss: 0.3539 - val_acc: 0.8951\n",
            "Epoch 3/50\n",
            "8442/8442 [==============================] - 1s 79us/sample - loss: 0.3300 - acc: 0.9017 - val_loss: 0.2958 - val_acc: 0.9093\n",
            "Epoch 4/50\n",
            "8442/8442 [==============================] - 1s 80us/sample - loss: 0.2597 - acc: 0.9216 - val_loss: 0.2592 - val_acc: 0.9202\n",
            "Epoch 5/50\n",
            "8442/8442 [==============================] - 1s 80us/sample - loss: 0.2113 - acc: 0.9404 - val_loss: 0.2404 - val_acc: 0.9247\n",
            "Epoch 6/50\n",
            "8442/8442 [==============================] - 1s 81us/sample - loss: 0.1748 - acc: 0.9485 - val_loss: 0.2166 - val_acc: 0.9300\n",
            "Epoch 7/50\n",
            "8442/8442 [==============================] - 1s 81us/sample - loss: 0.1439 - acc: 0.9594 - val_loss: 0.2145 - val_acc: 0.9317\n",
            "Epoch 8/50\n",
            "8442/8442 [==============================] - 1s 82us/sample - loss: 0.1225 - acc: 0.9652 - val_loss: 0.2046 - val_acc: 0.9365\n",
            "Epoch 9/50\n",
            "8442/8442 [==============================] - 1s 82us/sample - loss: 0.1020 - acc: 0.9709 - val_loss: 0.1956 - val_acc: 0.9389\n",
            "Epoch 10/50\n",
            "8442/8442 [==============================] - 1s 81us/sample - loss: 0.0860 - acc: 0.9745 - val_loss: 0.1899 - val_acc: 0.9396\n",
            "Epoch 11/50\n",
            "8442/8442 [==============================] - 1s 82us/sample - loss: 0.0706 - acc: 0.9787 - val_loss: 0.1892 - val_acc: 0.9423\n",
            "Epoch 12/50\n",
            "8442/8442 [==============================] - 1s 80us/sample - loss: 0.0621 - acc: 0.9832 - val_loss: 0.1840 - val_acc: 0.9425\n",
            "Epoch 13/50\n",
            "8442/8442 [==============================] - 1s 80us/sample - loss: 0.0520 - acc: 0.9858 - val_loss: 0.1751 - val_acc: 0.9452\n",
            "Epoch 14/50\n",
            "8442/8442 [==============================] - 1s 80us/sample - loss: 0.0435 - acc: 0.9893 - val_loss: 0.1805 - val_acc: 0.9430\n",
            "Epoch 15/50\n",
            "8442/8442 [==============================] - 1s 81us/sample - loss: 0.0394 - acc: 0.9910 - val_loss: 0.1794 - val_acc: 0.9449\n",
            "Epoch 16/50\n",
            "8442/8442 [==============================] - 1s 82us/sample - loss: 0.0346 - acc: 0.9918 - val_loss: 0.1811 - val_acc: 0.9435\n",
            "Epoch 17/50\n",
            "8442/8442 [==============================] - 1s 79us/sample - loss: 0.0294 - acc: 0.9938 - val_loss: 0.1817 - val_acc: 0.9478\n",
            "Epoch 18/50\n",
            "8442/8442 [==============================] - 1s 80us/sample - loss: 0.0257 - acc: 0.9949 - val_loss: 0.1768 - val_acc: 0.9473\n",
            "Epoch 19/50\n",
            "8442/8442 [==============================] - 1s 79us/sample - loss: 0.0210 - acc: 0.9966 - val_loss: 0.1854 - val_acc: 0.9471\n",
            "Epoch 20/50\n",
            "8442/8442 [==============================] - 1s 80us/sample - loss: 0.0182 - acc: 0.9963 - val_loss: 0.1811 - val_acc: 0.9485\n",
            "Epoch 21/50\n",
            "8442/8442 [==============================] - 1s 80us/sample - loss: 0.0189 - acc: 0.9960 - val_loss: 0.1887 - val_acc: 0.9478\n",
            "Epoch 22/50\n",
            "8442/8442 [==============================] - 1s 80us/sample - loss: 0.0173 - acc: 0.9966 - val_loss: 0.1858 - val_acc: 0.9490\n",
            "Epoch 23/50\n",
            "8442/8442 [==============================] - 1s 81us/sample - loss: 0.0140 - acc: 0.9979 - val_loss: 0.1838 - val_acc: 0.9476\n",
            "Epoch 24/50\n",
            "8442/8442 [==============================] - 1s 83us/sample - loss: 0.0150 - acc: 0.9970 - val_loss: 0.1843 - val_acc: 0.9483\n",
            "Epoch 25/50\n",
            "8442/8442 [==============================] - 1s 81us/sample - loss: 0.0113 - acc: 0.9981 - val_loss: 0.1859 - val_acc: 0.9500\n",
            "Epoch 26/50\n",
            "8442/8442 [==============================] - 1s 81us/sample - loss: 0.0133 - acc: 0.9980 - val_loss: 0.1823 - val_acc: 0.9517\n",
            "Epoch 27/50\n",
            "8442/8442 [==============================] - 1s 81us/sample - loss: 0.0104 - acc: 0.9981 - val_loss: 0.1939 - val_acc: 0.9488\n",
            "Epoch 28/50\n",
            "8442/8442 [==============================] - 1s 80us/sample - loss: 0.0107 - acc: 0.9977 - val_loss: 0.1785 - val_acc: 0.9521\n",
            "Epoch 29/50\n",
            "8442/8442 [==============================] - 1s 81us/sample - loss: 0.0103 - acc: 0.9982 - val_loss: 0.1777 - val_acc: 0.9512\n",
            "Epoch 30/50\n",
            "8442/8442 [==============================] - 1s 80us/sample - loss: 0.0089 - acc: 0.9981 - val_loss: 0.1906 - val_acc: 0.9507\n",
            "Epoch 31/50\n",
            "8442/8442 [==============================] - 1s 81us/sample - loss: 0.0073 - acc: 0.9992 - val_loss: 0.1918 - val_acc: 0.9509\n",
            "Epoch 32/50\n",
            "8442/8442 [==============================] - 1s 80us/sample - loss: 0.0064 - acc: 0.9994 - val_loss: 0.1963 - val_acc: 0.9500\n",
            "Epoch 33/50\n",
            "8442/8442 [==============================] - 1s 81us/sample - loss: 0.0067 - acc: 0.9991 - val_loss: 0.1916 - val_acc: 0.9514\n",
            "Epoch 34/50\n",
            "8442/8442 [==============================] - 1s 78us/sample - loss: 0.0058 - acc: 0.9992 - val_loss: 0.1913 - val_acc: 0.9514\n",
            "Epoch 35/50\n",
            "8442/8442 [==============================] - 1s 81us/sample - loss: 0.0057 - acc: 0.9989 - val_loss: 0.1965 - val_acc: 0.9517\n",
            "Epoch 36/50\n",
            "8442/8442 [==============================] - 1s 81us/sample - loss: 0.0059 - acc: 0.9988 - val_loss: 0.1911 - val_acc: 0.9495\n",
            "Epoch 37/50\n",
            "8442/8442 [==============================] - 1s 80us/sample - loss: 0.0048 - acc: 0.9998 - val_loss: 0.1891 - val_acc: 0.9519\n",
            "Epoch 38/50\n",
            "8442/8442 [==============================] - 1s 81us/sample - loss: 0.0048 - acc: 0.9992 - val_loss: 0.2069 - val_acc: 0.9495\n",
            "Epoch 39/50\n",
            "8442/8442 [==============================] - 1s 84us/sample - loss: 0.0065 - acc: 0.9983 - val_loss: 0.1965 - val_acc: 0.9514\n",
            "Epoch 40/50\n",
            "8442/8442 [==============================] - 1s 80us/sample - loss: 0.0044 - acc: 0.9998 - val_loss: 0.1923 - val_acc: 0.9512\n",
            "Epoch 41/50\n",
            "8442/8442 [==============================] - 1s 80us/sample - loss: 0.0043 - acc: 0.9994 - val_loss: 0.1971 - val_acc: 0.9519\n",
            "Epoch 42/50\n",
            "8442/8442 [==============================] - 1s 80us/sample - loss: 0.0046 - acc: 0.9992 - val_loss: 0.1989 - val_acc: 0.9519\n",
            "Epoch 43/50\n",
            "8442/8442 [==============================] - 1s 80us/sample - loss: 0.0049 - acc: 0.9989 - val_loss: 0.1979 - val_acc: 0.9526\n",
            "Epoch 44/50\n",
            "8442/8442 [==============================] - 1s 78us/sample - loss: 0.0050 - acc: 0.9988 - val_loss: 0.1997 - val_acc: 0.9502\n",
            "Epoch 45/50\n",
            "8442/8442 [==============================] - 1s 79us/sample - loss: 0.0041 - acc: 0.9993 - val_loss: 0.1964 - val_acc: 0.9512\n",
            "Epoch 46/50\n",
            "8442/8442 [==============================] - 1s 80us/sample - loss: 0.0041 - acc: 0.9995 - val_loss: 0.2062 - val_acc: 0.9502\n",
            "Epoch 47/50\n",
            "8442/8442 [==============================] - 1s 79us/sample - loss: 0.0036 - acc: 0.9996 - val_loss: 0.2079 - val_acc: 0.9497\n",
            "Epoch 48/50\n",
            "8442/8442 [==============================] - 1s 80us/sample - loss: 0.0038 - acc: 0.9993 - val_loss: 0.2106 - val_acc: 0.9507\n",
            "Epoch 49/50\n",
            "8442/8442 [==============================] - 1s 81us/sample - loss: 0.0035 - acc: 0.9993 - val_loss: 0.2061 - val_acc: 0.9507\n",
            "Epoch 50/50\n",
            "8442/8442 [==============================] - 1s 80us/sample - loss: 0.0023 - acc: 1.0000 - val_loss: 0.2033 - val_acc: 0.9519\n"
          ],
          "name": "stdout"
        }
      ]
    },
    {
      "cell_type": "code",
      "metadata": {
        "id": "VK0sO_FPD6_o",
        "colab_type": "code",
        "outputId": "8d2f5675-c73b-4396-c4a1-9ece9630d6b9",
        "colab": {
          "base_uri": "https://localhost:8080/",
          "height": 51
        }
      },
      "source": [
        "mlp_tf_train_acc_new = sum(model_mlp_tf_new.history['acc'])/len(model_mlp_tf_new.history['acc'])\n",
        "mlp_tf_train_valacc_new = sum(model_mlp_tf_new.history['val_acc'])/len(model_mlp_tf_new.history['val_acc'])\n",
        "print('Average acc: ',mlp_tf_train_acc_new)\n",
        "print('Average val_acc: ',mlp_tf_train_valacc_new)"
      ],
      "execution_count": 0,
      "outputs": [
        {
          "output_type": "stream",
          "text": [
            "Average acc:  0.9785406363010406\n",
            "Average val_acc:  0.9421356427669525\n"
          ],
          "name": "stdout"
        }
      ]
    },
    {
      "cell_type": "markdown",
      "metadata": {
        "id": "_6V-mgcL8Inr",
        "colab_type": "text"
      },
      "source": [
        "The train accuracy (97.8%) and the validation accuracy (94.6%) are higher than the model trained on 10k samples (respectively 97% and 92.8%)."
      ]
    },
    {
      "cell_type": "code",
      "metadata": {
        "id": "UnYrakeO2-Cw",
        "colab_type": "code",
        "outputId": "6d8d5708-5d56-4310-c458-a08b38e83302",
        "colab": {
          "base_uri": "https://localhost:8080/",
          "height": 573
        }
      },
      "source": [
        "plt.plot(model_mlp_tf_new.history['acc'])\n",
        "plt.plot(model_mlp_tf_new.history['val_acc'])\n",
        "plt.title('MLP accuracy')\n",
        "plt.ylabel('accuracy')\n",
        "plt.xlabel('epoch')\n",
        "plt.legend(['train','validation'], loc='upper left')\n",
        "plt.show()\n",
        "\n",
        "plt.plot(model_mlp_tf_new.history['loss'])\n",
        "plt.plot(model_mlp_tf_new.history['val_loss'])\n",
        "plt.title('MLP loss')\n",
        "plt.ylabel('loss')\n",
        "plt.xlabel('epoch')\n",
        "plt.legend(['train','validation'], loc='upper left')\n",
        "plt.show()"
      ],
      "execution_count": 0,
      "outputs": [
        {
          "output_type": "display_data",
          "data": {
            "image/png": "[encoded data removed]",
            "text/plain": [
              "<Figure size 432x288 with 1 Axes>"
            ]
          },
          "metadata": {
            "tags": []
          }
        },
        {
          "output_type": "display_data",
          "data": {
            "image/png": "[encoded data removed]",
            "text/plain": [
              "<Figure size 432x288 with 1 Axes>"
            ]
          },
          "metadata": {
            "tags": []
          }
        }
      ]
    },
    {
      "cell_type": "markdown",
      "metadata": {
        "id": "wP2cNoPk89hs",
        "colab_type": "text"
      },
      "source": [
        "The above graphs do show evidence of over-fitting."
      ]
    },
    {
      "cell_type": "code",
      "metadata": {
        "id": "UakT2lj83hCG",
        "colab_type": "code",
        "outputId": "8dee5b70-269b-43d3-f375-9eafba1554ad",
        "colab": {
          "base_uri": "https://localhost:8080/",
          "height": 34
        }
      },
      "source": [
        "lr_tf_test_new = modelLRtf.evaluate(images_test_new.reshape(-1,28,28),  labels_test_new, verbose=2)"
      ],
      "execution_count": 0,
      "outputs": [
        {
          "output_type": "stream",
          "text": [
            "12600/12600 - 0s - loss: 0.2977 - acc: 0.9144\n"
          ],
          "name": "stdout"
        }
      ]
    },
    {
      "cell_type": "code",
      "metadata": {
        "id": "FLdkXLwf37ZA",
        "colab_type": "code",
        "outputId": "793f9013-0ce6-4c1a-e02b-6c6801247c26",
        "colab": {
          "base_uri": "https://localhost:8080/",
          "height": 34
        }
      },
      "source": [
        "mlp_tf_test_new = modelMLPtf.evaluate(images_test_new.reshape(-1,28,28),  labels_test_new, verbose=2, batch_size=500)"
      ],
      "execution_count": 20,
      "outputs": [
        {
          "output_type": "stream",
          "text": [
            "12600/12600 - 0s - loss: 0.0673 - acc: 0.9841\n"
          ],
          "name": "stdout"
        }
      ]
    },
    {
      "cell_type": "markdown",
      "metadata": {
        "id": "-a8jAN8l-IMN",
        "colab_type": "text"
      },
      "source": [
        "The LR model produces an accuracy of 91.4% and the MLP model produces an accuracy of 98.41% on the test data."
      ]
    },
    {
      "cell_type": "markdown",
      "metadata": {
        "id": "zBmuIPgW5Kjv",
        "colab_type": "text"
      },
      "source": [
        "**5b. Discussion**\n",
        "\n",
        "First, we can compare the validation accuracy and loss of the 10k and the 42k models over 50 epochs."
      ]
    },
    {
      "cell_type": "code",
      "metadata": {
        "id": "FHDY8s2d4Izw",
        "colab_type": "code",
        "outputId": "da7fb202-1ef3-4832-d5aa-687d36999d5c",
        "colab": {
          "base_uri": "https://localhost:8080/",
          "height": 573
        }
      },
      "source": [
        "plt.plot(model_mlp_tf.history['val_acc'])\n",
        "plt.plot(model_mlp_tf_new.history['val_acc'])\n",
        "plt.title('10k vs. 42k sample validation accuracy')\n",
        "plt.ylabel('accuracy')\n",
        "plt.xlabel('epoch')\n",
        "plt.legend(['10k','40k'], loc='upper left')\n",
        "plt.show()\n",
        "\n",
        "plt.plot(model_mlp_tf.history['val_loss'])\n",
        "plt.plot(model_mlp_tf_new.history['val_loss'])\n",
        "plt.title('10k vs. 42k sample validation loss')\n",
        "plt.ylabel('loss')\n",
        "plt.xlabel('epoch')\n",
        "plt.legend(['10k ','42k'], loc='upper left')\n",
        "plt.show()"
      ],
      "execution_count": 0,
      "outputs": [
        {
          "output_type": "display_data",
          "data": {
            "image/png": "[encoded data removed]",
            "text/plain": [
              "<Figure size 432x288 with 1 Axes>"
            ]
          },
          "metadata": {
            "tags": []
          }
        },
        {
          "output_type": "display_data",
          "data": {
            "image/png": "[encoded data removed]",
            "text/plain": [
              "<Figure size 432x288 with 1 Axes>"
            ]
          },
          "metadata": {
            "tags": []
          }
        }
      ]
    },
    {
      "cell_type": "markdown",
      "metadata": {
        "id": "5T4GnTHqAYQj",
        "colab_type": "text"
      },
      "source": [
        "The above graphs show that the 42k models perform quite a bit better in terms of accuracy and loss compared to the 10k models. \n",
        "\n",
        "In terms of test accuracy, the MLP model with SKLearn had an accuracy of 97.4%, the LR model with tensorflow had an accuracy of 91.4%, and the MLP model with tensorflow had an accuracy of 98.41%.\n",
        "\n",
        "Thus, the MLP model with tensorflow performed the best out of all the models trained and tested on the enitre 42k dataset.\n",
        "\n",
        "Let's take a look at the precision and recall for the model."
      ]
    },
    {
      "cell_type": "code",
      "metadata": {
        "id": "O90AbWtG2YQ1",
        "colab_type": "code",
        "colab": {
          "base_uri": "https://localhost:8080/",
          "height": 71
        },
        "outputId": "e9af71cb-7eb2-481c-de2e-55e45a293731"
      },
      "source": [
        "preds = modelMLPtf.predict(images_test_new.reshape(-1,28,28))\n",
        "pred_labels = np.argmax(preds, axis=-1)\n",
        "labels =labels_test_new\n",
        "\n",
        "#initialize 0-array size 10 to track true positive, false positive, and false negative\n",
        "#index represents class\n",
        "tp = np.zeros((10)).astype(int)\n",
        "fp = np.zeros((10)).astype(int)\n",
        "fn = np.zeros((10)).astype(int)\n",
        "\n",
        "recall_class = []\n",
        "precision_class = []\n",
        "\n",
        "for i in range(len(labels)):\n",
        "  if(pred_labels[i]==labels[i]):\n",
        "    tp[pred_labels[i]]+=1\n",
        "  else:\n",
        "    fp[pred_labels[i]]+=1\n",
        "    fn[labels[i]]+=1\n",
        "\n",
        "for i in range(10):\n",
        "  precision_class.append(tp[i]/(tp[i]+fp[i]))\n",
        "  recall_class.append(tp[i]/(tp[i]+fn[i]))\n",
        "\n",
        "print(precision_class)\n",
        "print(recall_class)\n"
      ],
      "execution_count": 62,
      "outputs": [
        {
          "output_type": "stream",
          "text": [
            "[0.984884645982498, 0.9921372408863474, 0.9927652733118971, 0.9855403348554034, 0.9744408945686901, 0.98359161349134, 0.9864972200158856, 0.9830246913580247, 0.9791164658634538, 0.9781729991915926]\n",
            "[0.9927826784282278, 0.9949820788530466, 0.9824980111376292, 0.9803179409538229, 0.9902597402597403, 0.9711971197119712, 0.9872813990461049, 0.9914396887159533, 0.9759807846277022, 0.9718875502008032]\n"
          ],
          "name": "stdout"
        }
      ]
    },
    {
      "cell_type": "markdown",
      "metadata": {
        "id": "9i3WHFPG2n_-",
        "colab_type": "text"
      },
      "source": [
        "| Class          | Precision | Recall |\n",
        "|-----------------|-----------------|-----------------|\n",
        "| 0          | 98.48 %          | 99.27 %          |%\n",
        "| 1          | 99.21 %          | 99.49 %          |%\n",
        "| 2          | 99.27 %          | 98.24 %          |%\n",
        "| 3          | 98.55 %          | 98.03 %          |%\n",
        "| 4          | 97.44 %          | 99.02 %          |%\n",
        "| 5          | 98.35 %          | 97.11 %          |%\n",
        "| 6          | 98.64 %          | 98.72 %          |%\n",
        "| 7          | 98.30 %          | 99.14 %          |%\n",
        "| 8          | 97.91 %          | 97.59 %          |%\n",
        "| 9          | 97.81 %          | 97.18 %          |%"
      ]
    },
    {
      "cell_type": "markdown",
      "metadata": {
        "id": "HxcxVpBa5PFu",
        "colab_type": "text"
      },
      "source": [
        "**5. Discussion and Comparison of Results**"
      ]
    },
    {
      "cell_type": "markdown",
      "metadata": {
        "id": "qpcZ4ldg96qo",
        "colab_type": "text"
      },
      "source": [
        "First, lets create a table to compare the train and test values of every model:\n",
        "\n",
        "| Model          | Train Accuracy | Validation Accuracy | Test Accuracy |\n",
        "|-----------------|-----------------|-----------------|-----------------|\n",
        "| SKLearn LR          | 63.93 %          | -          | -593 %          |\n",
        "| SKLearn (10k) MLP          | 100 %          | -          | 94.7 %          |%\n",
        "| SKLearn (42k) MLP          | 100 %          | -          | 97.4 %          |%\n",
        "| Pytorch LR          | 92.09 %          | -          | 90 %          |%\n",
        "| Pytorch MLP          | 91.94 %          | -          | 94 %          |%\n",
        "| Tensorflow (10k) LR          | 85.88 %          | 85.68 %          | 88.97 %          |%\n",
        "| Tensorflow (10K) MLP          | 97 %          | 92.82 %          | 94.23 %          |%\n",
        "| Tensorflow (42k) LR          | 92.4 %          | 90.85 %          | 91.49 %          |%\n",
        "| Tensorflow (42k) MLP          | 97.85 %          | 94.21 %          | 98.41 %          |%     \n",
        "\n"
      ]
    },
    {
      "cell_type": "markdown",
      "metadata": {
        "id": "b-ErMyir95ue",
        "colab_type": "text"
      },
      "source": [
        "With these results, it is easy to conclude that using a Multi-layer Perceptron model trained with the entire dataset using Tensorflow produces the best results at 98.41%. The two next best models were MLP with SKLearn on the full dataset, then on the 10k dataset. The worst performing model was Linear Regression with SKLearn, and the slowest models were MLP and LR with Pytorch respectively.\n",
        "\n",
        "Therefore, the model and score that will be compared with the other two methods explored in this project (Naive Bayes and Convolutional Neural Network) is an MLP model created with tensorflow, with an accuracy of 98.41%."
      ]
    },
    {
      "cell_type": "markdown",
      "metadata": {
        "id": "kGxRqREG833D",
        "colab_type": "text"
      },
      "source": [
        "**References**\n",
        "\n",
        "1. https://www.geeksforgeeks.org/identifying-handwritten-digits-using-logistic-regression-pytorch/\n",
        "2. https://github.com/iam-mhaseeb/Multi-Layer-Perceptron-MNIST-with-PyTorch/blob/master/mnist_mlp_exercise.ipynb\n",
        "3. https://www.tensorflow.org/tutorials/quickstart/beginner\n"
      ]
    }
  ]
}