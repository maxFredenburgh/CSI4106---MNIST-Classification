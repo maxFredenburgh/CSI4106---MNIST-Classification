{
 "cells": [
  {
   "cell_type": "code",
   "execution_count": 4,
   "metadata": {},
   "outputs": [],
   "source": [
    "from __future__ import print_function, division\n",
    "from builtins import range, input\n",
    "from datetime import datetime\n",
    "from scipy.stats import norm\n",
    "from future.utils import iteritems\n",
    "from scipy.stats import multivariate_normal as mvn\n",
    "import pandas as pd\n",
    "import numpy as np\n",
    "from sklearn.model_selection import train_test_split\n",
    "\n",
    "\n"
   ]
  },
  {
   "cell_type": "code",
   "execution_count": 5,
   "metadata": {},
   "outputs": [],
   "source": [
    "class NaiveBayes(object):\n",
    "    def fit(self, X, Y, smoothing=1e-2):\n",
    "        self.gaussians = dict()\n",
    "        self.priors = dict()\n",
    "        labels = set(Y)\n",
    "        for c in labels:\n",
    "            current_x = X[Y == c]\n",
    "            self.gaussians[c] = {\n",
    "                'mean': current_x.mean(axis=0),\n",
    "                'var': current_x.var(axis=0) + smoothing,\n",
    "            }\n",
    "            self.priors[c] = float(len(Y[Y == c])) / len(Y)\n",
    "\n",
    "    def score(self, features, labels):\n",
    "        P = self.predict(features)\n",
    "        for j in range(10):\n",
    "            true_positives = 0\n",
    "            predicted_amount = 0\n",
    "            for i in range(len(P)):\n",
    "                if P[i] == j:\n",
    "                    predicted_amount +=1\n",
    "                    if labels[i] == P[i]:\n",
    "                        true_positives += 1\n",
    "            tags = 0\n",
    "            tag_amount = len([i for i in labels if i == j])\n",
    "            for i in range(len(labels)):\n",
    "                if labels[i] == P[i] == j:\n",
    "                    tags += 1\n",
    "            print(j,\"- Recall:\", round(tags/tag_amount, 2), \"Precision:\", round(true_positives/predicted_amount, 2))\n",
    "        return np.mean(P == labels)\n",
    "\n",
    "    def predict(self, features):\n",
    "        N, D = features.shape\n",
    "        K = len(self.gaussians)\n",
    "        P = np.zeros((N, K))\n",
    "        for c, g in iteritems(self.gaussians):\n",
    "            mean, var = g['mean'], g['var']\n",
    "            P[:,c] = mvn.logpdf(features, mean=mean, cov=var) + np.log(self.priors[c])\n",
    "        return np.argmax(P, axis=1)\n"
   ]
  },
  {
   "cell_type": "code",
   "execution_count": 6,
   "metadata": {},
   "outputs": [],
   "source": [
    "def get_data(limit=None):\n",
    "    print(\"Reading in and transforming data...\")\n",
    "    df = pd.read_csv(\"train.csv\", encoding=\"ISO-8859-1\")\n",
    "    data = df.values\n",
    "    np.random.shuffle(data)\n",
    "    X = data[:, 1:] / 255.0 # data is from 0..255\n",
    "    Y = data[:, 0]\n",
    "    if limit is not None:\n",
    "        X, Y = X[:limit], Y[:limit]\n",
    "    return X, Y"
   ]
  },
  {
   "cell_type": "code",
   "execution_count": 7,
   "metadata": {},
   "outputs": [
    {
     "name": "stdout",
     "output_type": "stream",
     "text": [
      "Reading in and transforming data...\n",
      "Training time: 0:00:00.801129\n",
      "0 - Recall: 0.9 Precision: 0.93\n",
      "1 - Recall: 0.96 Precision: 0.79\n",
      "2 - Recall: 0.74 Precision: 0.9\n",
      "3 - Recall: 0.76 Precision: 0.81\n",
      "4 - Recall: 0.65 Precision: 0.84\n",
      "5 - Recall: 0.63 Precision: 0.87\n",
      "6 - Recall: 0.92 Precision: 0.84\n",
      "7 - Recall: 0.81 Precision: 0.94\n",
      "8 - Recall: 0.75 Precision: 0.64\n",
      "9 - Recall: 0.87 Precision: 0.62\n",
      "Train accuracy: 80.21 %\n",
      "Time to compute train accuracy: 0:00:18.091883 Train size: 29400\n",
      "\n",
      "0 - Recall: 0.92 Precision: 0.93\n",
      "1 - Recall: 0.96 Precision: 0.8\n",
      "2 - Recall: 0.76 Precision: 0.89\n",
      "3 - Recall: 0.76 Precision: 0.82\n",
      "4 - Recall: 0.64 Precision: 0.84\n",
      "5 - Recall: 0.61 Precision: 0.87\n",
      "6 - Recall: 0.92 Precision: 0.84\n",
      "7 - Recall: 0.8 Precision: 0.94\n",
      "8 - Recall: 0.74 Precision: 0.66\n",
      "9 - Recall: 0.88 Precision: 0.61\n",
      "Test accuracy: 80.5 %\n",
      "Time to compute test accuracy: 0:00:10.208429 Test size: 12600\n"
     ]
    }
   ],
   "source": [
    "features, labels = get_data(42000)\n",
    "Ntrain = len(labels) // 10 * 3\n",
    "featuresTrain, labelsTrain = features[Ntrain:], labels[Ntrain:]\n",
    "featuresTest, labelsTest = features[:Ntrain], labels[:Ntrain]\n",
    "\n",
    "model = NaiveBayes()\n",
    "t0 = datetime.now()\n",
    "model.fit(featuresTrain, labelsTrain)\n",
    "print(\"Training time:\", (datetime.now() - t0))\n",
    "\n",
    "t0 = datetime.now()\n",
    "print(\"Train accuracy:\", round(model.score(featuresTrain, labelsTrain)*100, 2),\"%\")\n",
    "print(\"Time to compute train accuracy:\", (datetime.now() - t0), \"Train size:\", len(labelsTrain))\n",
    "\n",
    "print()\n",
    "t0 = datetime.now()\n",
    "print(\"Test accuracy:\", model.score(featuresTest, labelsTest)*100,\"%\")\n",
    "print(\"Time to compute test accuracy:\", (datetime.now() - t0), \"Test size:\", len(labelsTest))"
   ]
  }
 ],
 "metadata": {
  "kernelspec": {
   "display_name": "Python 3",
   "language": "python",
   "name": "python3"
  },
  "language_info": {
   "codemirror_mode": {
    "name": "ipython",
    "version": 3
   },
   "file_extension": ".py",
   "mimetype": "text/x-python",
   "name": "python",
   "nbconvert_exporter": "python",
   "pygments_lexer": "ipython3",
   "version": "3.7.4"
  }
 },
 "nbformat": 4,
 "nbformat_minor": 2
}
